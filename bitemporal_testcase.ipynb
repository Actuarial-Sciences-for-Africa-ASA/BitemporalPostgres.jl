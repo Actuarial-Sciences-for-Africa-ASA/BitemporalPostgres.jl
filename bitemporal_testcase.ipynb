{
 "cells": [
  {
   "cell_type": "markdown",
   "metadata": {},
   "source": [
    "\n",
    "# content\n",
    "1. Introduction\n",
    "2. connecting to POSTGRES\n",
    "3. creating the db schema\n",
    "4. testing bitemporal crud\n"
   ]
  },
  {
   "cell_type": "markdown",
   "metadata": {},
   "source": [
    "## 1. Introduction\n",
    "\n",
    "If You start this repo in gitpod, You can open this notebook in vscode and execute the code with julia and postgres up and running\n",
    "https://www.gitpod.io/docs/\n",
    "\n",
    "### 1.1. connecting to POSTGRES"
   ]
  },
  {
   "cell_type": "code",
   "execution_count": 4,
   "metadata": {},
   "outputs": [
    {
     "name": "stderr",
     "output_type": "stream",
     "text": [
      "\u001b[32m\u001b[1m  Activating\u001b[22m\u001b[39m project at `/workspaces/BitemporalPostgres.jl`\n",
      "\u001b[32m\u001b[1m    Updating\u001b[22m\u001b[39m registry at `~/.julia/registries/General.toml`\n",
      "\u001b[32m\u001b[1m  No Changes\u001b[22m\u001b[39m to `/workspaces/BitemporalPostgres.jl/Project.toml`\n",
      "\u001b[32m\u001b[1m  No Changes\u001b[22m\u001b[39m to `/workspaces/BitemporalPostgres.jl/Manifest.toml`\n",
      "\u001b[32m\u001b[1m   Resolving\u001b[22m\u001b[39m package versions...\n",
      "\u001b[32m\u001b[1m  No Changes\u001b[22m\u001b[39m to `/workspaces/BitemporalPostgres.jl/Project.toml`\n",
      "\u001b[32m\u001b[1m  No Changes\u001b[22m\u001b[39m to `/workspaces/BitemporalPostgres.jl/Manifest.toml`\n",
      "\u001b[32m\u001b[1m   Resolving\u001b[22m\u001b[39m package versions...\n",
      "\u001b[32m\u001b[1m  No Changes\u001b[22m\u001b[39m to `/workspaces/BitemporalPostgres.jl/Project.toml`\n",
      "\u001b[32m\u001b[1m  No Changes\u001b[22m\u001b[39m to `/workspaces/BitemporalPostgres.jl/Manifest.toml`\n",
      "\u001b[32m\u001b[1m   Resolving\u001b[22m\u001b[39m package versions...\n",
      "\u001b[32m\u001b[1m  No Changes\u001b[22m\u001b[39m to `/workspaces/BitemporalPostgres.jl/Project.toml`\n",
      "\u001b[32m\u001b[1m  No Changes\u001b[22m\u001b[39m to `/workspaces/BitemporalPostgres.jl/Manifest.toml`\n",
      "\u001b[32m\u001b[1m   Resolving\u001b[22m\u001b[39m package versions...\n",
      "\u001b[32m\u001b[1m  No Changes\u001b[22m\u001b[39m to `/workspaces/BitemporalPostgres.jl/Project.toml`\n",
      "\u001b[32m\u001b[1m  No Changes\u001b[22m\u001b[39m to `/workspaces/BitemporalPostgres.jl/Manifest.toml`\n",
      "\u001b[32m\u001b[1m   Resolving\u001b[22m\u001b[39m package versions...\n",
      "\u001b[32m\u001b[1m  No Changes\u001b[22m\u001b[39m to `/workspaces/BitemporalPostgres.jl/Project.toml`\n",
      "\u001b[32m\u001b[1m  No Changes\u001b[22m\u001b[39m to `/workspaces/BitemporalPostgres.jl/Manifest.toml`\n",
      "\u001b[32m\u001b[1m   Resolving\u001b[22m\u001b[39m package versions...\n",
      "\u001b[32m\u001b[1m  No Changes\u001b[22m\u001b[39m to `/workspaces/BitemporalPostgres.jl/Project.toml`\n",
      "\u001b[32m\u001b[1m  No Changes\u001b[22m\u001b[39m to `/workspaces/BitemporalPostgres.jl/Manifest.toml`\n"
     ]
    }
   ],
   "source": [
    "include(\"init.jl\")\n"
   ]
  },
  {
   "cell_type": "code",
   "execution_count": 5,
   "metadata": {},
   "outputs": [
    {
     "name": "stderr",
     "output_type": "stream",
     "text": [
      "┌ Info: DROP SCHEMA public CASCADE\n",
      "└ @ SearchLightPostgreSQL /home/codespace/.julia/packages/SearchLightPostgreSQL/8KdWH/src/SearchLightPostgreSQL.jl:135\n",
      "NOTICE:  drop cascades to 13 other objects\n",
      "DETAIL:  drop cascades to table schema_migrations\n",
      "drop cascades to table histories\n",
      "drop cascades to table versions\n",
      "drop cascades to table workflows\n",
      "drop cascades to table testtstzranges\n",
      "drop cascades to table validityintervals\n",
      "drop cascades to table testdummycomponents\n",
      "drop cascades to table testdummycomponentrevisions\n",
      "drop cascades to table testdummysubcomponents\n",
      "drop cascades to table testdummysubcomponentrevisions\n",
      "drop cascades to extension btree_gist\n",
      "drop cascades to function f_bitempranges()\n",
      "drop cascades to function f_versionrange()\n",
      "┌ Info: CREATE SCHEMA public\n",
      "└ @ SearchLightPostgreSQL /home/codespace/.julia/packages/SearchLightPostgreSQL/8KdWH/src/SearchLightPostgreSQL.jl:135\n",
      "┌ Info: CREATE TABLE schema_migrations (version varchar(30))\n",
      "└ @ SearchLightPostgreSQL /home/codespace/.julia/packages/SearchLightPostgreSQL/8KdWH/src/SearchLightPostgreSQL.jl:135\n",
      "┌ Info: Created table schema_migrations\n",
      "└ @ SearchLightPostgreSQL /home/codespace/.julia/packages/SearchLightPostgreSQL/8KdWH/src/SearchLightPostgreSQL.jl:306\n",
      "┌ Info: CREATE TABLE histories (id BIGSERIAL PRIMARY KEY, dummy INTEGER )\n",
      "└ @ SearchLightPostgreSQL /home/codespace/.julia/packages/SearchLightPostgreSQL/8KdWH/src/SearchLightPostgreSQL.jl:135\n",
      "┌ Info: CREATE TABLE versions (id BIGSERIAL PRIMARY KEY, ref_history BIGINT REFERENCES histories(id) ON DELETE CASCADE)\n",
      "└ @ SearchLightPostgreSQL /home/codespace/.julia/packages/SearchLightPostgreSQL/8KdWH/src/SearchLightPostgreSQL.jl:135\n",
      "┌ Info: CREATE TABLE workflows (id BIGSERIAL PRIMARY KEY, ref_history BIGINT REFERENCES histories(id) ON DELETE CASCADE, ref_version BIGINT REFERENCES versions(id) ON DELETE CASCADE, tsw_validfrom TIMESTAMPTZ (3), tsdb_validfrom TIMESTAMPTZ (3), is_committed BIGINT , type_of_entity VARCHAR )\n",
      "└ @ SearchLightPostgreSQL /home/codespace/.julia/packages/SearchLightPostgreSQL/8KdWH/src/SearchLightPostgreSQL.jl:135\n",
      "┌ Info: CREATE TABLE testtstzranges (id BIGSERIAL PRIMARY KEY, i TSTZRANGE )\n",
      "└ @ SearchLightPostgreSQL /home/codespace/.julia/packages/SearchLightPostgreSQL/8KdWH/src/SearchLightPostgreSQL.jl:135\n",
      "┌ Info: CREATE TABLE validityIntervals (id BIGSERIAL PRIMARY KEY, ref_history BIGINT REFERENCES histories(id) ON DELETE CASCADE, ref_version BIGINT REFERENCES versions(id) ON DELETE CASCADE, tsworld_validfrom TIMESTAMPTZ (3), tsworld_invalidfrom TIMESTAMPTZ (3), tsdb_validfrom TIMESTAMPTZ (3), tsdb_invalidfrom TIMESTAMPTZ (3), tsrworld TSTZRANGE , tsrdb TSTZRANGE , is_committed BIGINT )\n",
      "└ @ SearchLightPostgreSQL /home/codespace/.julia/packages/SearchLightPostgreSQL/8KdWH/src/SearchLightPostgreSQL.jl:135\n",
      "┌ Info: CREATE TABLE testdummyComponents (id BIGSERIAL PRIMARY KEY, ref_history BIGINT REFERENCES histories(id) ON DELETE CASCADE, ref_version BIGINT REFERENCES versions(id) ON DELETE CASCADE)\n",
      "└ @ SearchLightPostgreSQL /home/codespace/.julia/packages/SearchLightPostgreSQL/8KdWH/src/SearchLightPostgreSQL.jl:135\n",
      "┌ Info: CREATE TABLE testdummyComponentRevisions (id BIGSERIAL PRIMARY KEY, ref_component BIGINT REFERENCES testdummyComponents(id), ref_validfrom BIGINT REFERENCES versions(id) ON DELETE CASCADE, ref_invalidfrom BIGINT DEFAULT 2^53 - 1 REFERENCES versions(id) ON DELETE SET DEFAULT, ref_valid INT8RANGE , description VARCHAR )\n",
      "└ @ SearchLightPostgreSQL /home/codespace/.julia/packages/SearchLightPostgreSQL/8KdWH/src/SearchLightPostgreSQL.jl:135\n",
      "┌ Info: CREATE TABLE testdummySubComponents (id BIGSERIAL PRIMARY KEY, ref_history BIGINT REFERENCES histories(id) ON DELETE CASCADE, ref_version BIGINT REFERENCES versions(id) ON DELETE CASCADE, ref_super BIGINT REFERENCES testdummyComponents(id) ON DELETE CASCADE)\n",
      "└ @ SearchLightPostgreSQL /home/codespace/.julia/packages/SearchLightPostgreSQL/8KdWH/src/SearchLightPostgreSQL.jl:135\n",
      "┌ Info: CREATE TABLE testdummySubComponentRevisions (id BIGSERIAL PRIMARY KEY, ref_component BIGINT REFERENCES testdummySubComponents(id), ref_validfrom BIGINT REFERENCES versions(id) ON DELETE CASCADE, ref_invalidfrom BIGINT DEFAULT 2^53 - 1 REFERENCES versions(id) ON DELETE SET DEFAULT, ref_valid INT8RANGE , description VARCHAR )\n",
      "└ @ SearchLightPostgreSQL /home/codespace/.julia/packages/SearchLightPostgreSQL/8KdWH/src/SearchLightPostgreSQL.jl:135\n",
      "┌ Info: CREATE EXTENSION IF NOT EXISTS btree_gist;\n",
      "└ @ SearchLightPostgreSQL /home/codespace/.julia/packages/SearchLightPostgreSQL/8KdWH/src/SearchLightPostgreSQL.jl:135\n",
      "┌ Info: ALTER TABLE validityIntervals \n",
      "│ ADD CONSTRAINT bitemp EXCLUDE USING GIST (ref_version WITH =, is_committed WITH =, tsrworld WITH &&, tsrdb WITH &&)\n",
      "└ @ SearchLightPostgreSQL /home/codespace/.julia/packages/SearchLightPostgreSQL/8KdWH/src/SearchLightPostgreSQL.jl:135\n",
      "┌ Info: CREATE OR REPLACE FUNCTION f_bitempranges ()\n",
      "│ RETURNS trigger AS\n",
      "│ $$\n",
      "│      DECLARE\n",
      "│ \n",
      "│      BEGIN\n",
      "│           RAISE NOTICE 'NEW: %', NEW;\n",
      "│           NEW.tsrworld := tstzrange(NEW.tsworld_validfrom,NEW.tsworld_invalidfrom,'[)');\n",
      "│           NEW.tsrdb := tstzrange(NEW.tsdb_validfrom,NEW.tsdb_invalidfrom,'[)');\n",
      "│           RETURN NEW;\n",
      "│      END;\n",
      "│ $$ LANGUAGE 'plpgsql';\n",
      "└ @ SearchLightPostgreSQL /home/codespace/.julia/packages/SearchLightPostgreSQL/8KdWH/src/SearchLightPostgreSQL.jl:135\n",
      "┌ Info: CREATE TRIGGER versions_trig\n",
      "│ BEFORE INSERT OR UPDATE ON validityIntervals\n",
      "│ FOR EACH ROW EXECUTE PROCEDURE f_bitempranges();\n",
      "└ @ SearchLightPostgreSQL /home/codespace/.julia/packages/SearchLightPostgreSQL/8KdWH/src/SearchLightPostgreSQL.jl:135\n",
      "┌ Info: CREATE OR REPLACE FUNCTION f_versionrange ()\n",
      "│ RETURNS trigger AS\n",
      "│ $$\n",
      "│      DECLARE\n",
      "│ \n",
      "│      BEGIN\n",
      "│           RAISE NOTICE 'NEW: %', NEW;\n",
      "│           NEW.ref_valid := int8range(NEW.ref_validfrom,NEW.ref_invalidfrom,'[)');\n",
      "│           RETURN NEW;\n",
      "│      END;\n",
      "│ $$ LANGUAGE 'plpgsql';\n",
      "└ @ SearchLightPostgreSQL /home/codespace/.julia/packages/SearchLightPostgreSQL/8KdWH/src/SearchLightPostgreSQL.jl:135\n",
      "┌ Info: CREATE TRIGGER tr_versions_trig\n",
      "│ BEFORE INSERT OR UPDATE ON testdummyComponentRevisions\n",
      "│ FOR EACH ROW EXECUTE PROCEDURE f_versionrange();\n",
      "└ @ SearchLightPostgreSQL /home/codespace/.julia/packages/SearchLightPostgreSQL/8KdWH/src/SearchLightPostgreSQL.jl:135\n",
      "┌ Info: ALTER TABLE testdummycomponentrevisions \n",
      "│ ADD CONSTRAINT testdummycomponentrevisionsversionrange EXCLUDE USING GIST (ref_component WITH =, ref_valid WITH &&)\n",
      "└ @ SearchLightPostgreSQL /home/codespace/.julia/packages/SearchLightPostgreSQL/8KdWH/src/SearchLightPostgreSQL.jl:135\n",
      "┌ Info: CREATE TRIGGER tr_versions_trig\n",
      "│ BEFORE INSERT OR UPDATE ON testdummySubComponentRevisions\n",
      "│ FOR EACH ROW EXECUTE PROCEDURE f_versionrange();\n",
      "└ @ SearchLightPostgreSQL /home/codespace/.julia/packages/SearchLightPostgreSQL/8KdWH/src/SearchLightPostgreSQL.jl:135\n",
      "┌ Info: ALTER TABLE testdummySubComponentrevisions \n",
      "│ ADD CONSTRAINT testdummysubcomponentrevisionsversionrange EXCLUDE USING GIST (ref_component WITH =, ref_valid WITH &&)\n",
      "└ @ SearchLightPostgreSQL /home/codespace/.julia/packages/SearchLightPostgreSQL/8KdWH/src/SearchLightPostgreSQL.jl:135\n",
      "┌ Info: INSERT INTO histories VALUES(9007199254740991,0)\n",
      "└ @ SearchLightPostgreSQL /home/codespace/.julia/packages/SearchLightPostgreSQL/8KdWH/src/SearchLightPostgreSQL.jl:135\n",
      "┌ Info: INSERT INTO versions VALUES(9007199254740991)\n",
      "└ @ SearchLightPostgreSQL /home/codespace/.julia/packages/SearchLightPostgreSQL/8KdWH/src/SearchLightPostgreSQL.jl:135\n"
     ]
    },
    {
     "data": {
      "text/html": [
       "<div><div style = \"float: left;\"><span>0×0 DataFrame</span></div><div style = \"clear: both;\"></div></div><div class = \"data-frame\" style = \"overflow-x: scroll;\"><table class = \"data-frame\" style = \"margin-bottom: 6px;\"></table></div>"
      ],
      "text/latex": [
       "\\begin{tabular}{r|}\n",
       "\t& \\\\\n",
       "\t\\hline\n",
       "\t& \\\\\n",
       "\t\\hline\n",
       "\\end{tabular}\n"
      ],
      "text/plain": [
       "\u001b[1m0×0 DataFrame\u001b[0m"
      ]
     },
     "metadata": {},
     "output_type": "display_data"
    }
   ],
   "source": [
    "using SearchLight\n",
    "using SearchLightPostgreSQL\n",
    "SearchLight.connect(SearchLight.Configuration.load())\n",
    "SearchLight.query(\"DROP SCHEMA public CASCADE\")\n",
    "SearchLight.query(\"CREATE SCHEMA public\")\n",
    "SearchLight.Migrations.create_migrations_table()\n",
    "BitemporalPostgres.up()"
   ]
  },
  {
   "cell_type": "markdown",
   "metadata": {},
   "source": [
    "# 2 Starting with workflows\n",
    "\n",
    "## 2.1 Workflow 1 (the blue rectangle :=) )\n",
    "\n",
    "### 2.1.1 Starting workflow 1\n",
    "inserting component 1 and subcomponent 1.1"
   ]
  },
  {
   "cell_type": "code",
   "execution_count": 6,
   "metadata": {},
   "outputs": [
    {
     "name": "stderr",
     "output_type": "stream",
     "text": [
      "┌ Info: BEGIN\n",
      "└ @ SearchLightPostgreSQL /home/codespace/.julia/packages/SearchLightPostgreSQL/8KdWH/src/SearchLightPostgreSQL.jl:135\n",
      "┌ Info: INSERT INTO histories ( \"dummy\" ) VALUES ( 0 ) RETURNING id\n",
      "└ @ SearchLightPostgreSQL /home/codespace/.julia/packages/SearchLightPostgreSQL/8KdWH/src/SearchLightPostgreSQL.jl:135\n",
      "┌ Info: SELECT \"histories\".\"id\" AS \"histories_id\", \"histories\".\"dummy\" AS \"histories_dummy\" FROM \"histories\" WHERE \"id\" = 1 ORDER BY histories.id ASC\n",
      "└ @ SearchLightPostgreSQL /home/codespace/.julia/packages/SearchLightPostgreSQL/8KdWH/src/SearchLightPostgreSQL.jl:135\n",
      "┌ Info: INSERT INTO versions ( \"ref_history\" ) VALUES ( E'1' ) RETURNING id\n",
      "└ @ SearchLightPostgreSQL /home/codespace/.julia/packages/SearchLightPostgreSQL/8KdWH/src/SearchLightPostgreSQL.jl:135\n",
      "┌ Info: SELECT \"versions\".\"id\" AS \"versions_id\", \"versions\".\"ref_history\" AS \"versions_ref_history\" FROM \"versions\" WHERE \"id\" = 1 ORDER BY versions.id ASC\n",
      "└ @ SearchLightPostgreSQL /home/codespace/.julia/packages/SearchLightPostgreSQL/8KdWH/src/SearchLightPostgreSQL.jl:135\n",
      "┌ Info: INSERT INTO workflows ( \"ref_history\", \"ref_version\", \"tsdb_validfrom\", \"tsw_validfrom\", \"is_committed\", \"type_of_entity\" ) VALUES ( E'1', E'1', E'2038-01-19T03:14:06.999+00:00', E'2014-05-30T21:00:01.001+00:00', 0, E'TestDummyComponent' ) RETURNING id\n",
      "└ @ SearchLightPostgreSQL /home/codespace/.julia/packages/SearchLightPostgreSQL/8KdWH/src/SearchLightPostgreSQL.jl:135\n",
      "┌ Info: SELECT \"workflows\".\"id\" AS \"workflows_id\", \"workflows\".\"ref_history\" AS \"workflows_ref_history\", \"workflows\".\"ref_version\" AS \"workflows_ref_version\", \"workflows\".\"tsdb_validfrom\" AS \"workflows_tsdb_validfrom\", \"workflows\".\"tsw_validfrom\" AS \"workflows_tsw_validfrom\", \"workflows\".\"is_committed\" AS \"workflows_is_committed\", \"workflows\".\"type_of_entity\" AS \"workflows_type_of_entity\" FROM \"workflows\" WHERE \"id\" = 1 ORDER BY workflows.id ASC\n",
      "└ @ SearchLightPostgreSQL /home/codespace/.julia/packages/SearchLightPostgreSQL/8KdWH/src/SearchLightPostgreSQL.jl:135\n",
      "┌ Info: INSERT INTO validityintervals ( \"ref_history\", \"ref_version\", \"tsdb_validfrom\", \"tsworld_validfrom\", \"tsdb_invalidfrom\", \"tsworld_invalidfrom\", \"is_committed\" ) VALUES ( E'1', E'1', E'2024-06-04T09:10:27.565+00:00', E'2014-05-30T21:00:01.001+00:00', E'2038-01-19T03:14:06.999+00:00', E'2038-01-19T03:14:06.999+00:00', 0 ) RETURNING id\n",
      "└ @ SearchLightPostgreSQL /home/codespace/.julia/packages/SearchLightPostgreSQL/8KdWH/src/SearchLightPostgreSQL.jl:135\n",
      "NOTICE:  NEW: (1,1,1,\"2014-05-30 21:00:01.001+00\",\"2038-01-19 03:14:06.999+00\",\"2024-06-04 09:10:27.565+00\",\"2038-01-19 03:14:06.999+00\",,,0)\n",
      "┌ Info: SELECT \"validityintervals\".\"id\" AS \"validityintervals_id\", \"validityintervals\".\"ref_history\" AS \"validityintervals_ref_history\", \"validityintervals\".\"ref_version\" AS \"validityintervals_ref_version\", \"validityintervals\".\"tsdb_validfrom\" AS \"validityintervals_tsdb_validfrom\", \"validityintervals\".\"tsworld_validfrom\" AS \"validityintervals_tsworld_validfrom\", \"validityintervals\".\"tsdb_invalidfrom\" AS \"validityintervals_tsdb_invalidfrom\", \"validityintervals\".\"tsworld_invalidfrom\" AS \"validityintervals_tsworld_invalidfrom\", \"validityintervals\".\"is_committed\" AS \"validityintervals_is_committed\" FROM \"validityintervals\" WHERE \"id\" = 1 ORDER BY validityintervals.id ASC\n",
      "└ @ SearchLightPostgreSQL /home/codespace/.julia/packages/SearchLightPostgreSQL/8KdWH/src/SearchLightPostgreSQL.jl:135\n",
      "┌ Info: COMMIT\n",
      "└ @ SearchLightPostgreSQL /home/codespace/.julia/packages/SearchLightPostgreSQL/8KdWH/src/SearchLightPostgreSQL.jl:135\n",
      "┌ Info: BEGIN\n",
      "└ @ SearchLightPostgreSQL /home/codespace/.julia/packages/SearchLightPostgreSQL/8KdWH/src/SearchLightPostgreSQL.jl:135\n",
      "┌ Info: INSERT INTO testdummycomponents ( \"ref_history\", \"ref_version\" ) VALUES ( E'1', E'1' ) RETURNING id\n",
      "└ @ SearchLightPostgreSQL /home/codespace/.julia/packages/SearchLightPostgreSQL/8KdWH/src/SearchLightPostgreSQL.jl:135\n",
      "┌ Info: SELECT \"testdummycomponents\".\"id\" AS \"testdummycomponents_id\", \"testdummycomponents\".\"ref_history\" AS \"testdummycomponents_ref_history\", \"testdummycomponents\".\"ref_version\" AS \"testdummycomponents_ref_version\" FROM \"testdummycomponents\" WHERE \"id\" = 1 ORDER BY testdummycomponents.id ASC\n",
      "└ @ SearchLightPostgreSQL /home/codespace/.julia/packages/SearchLightPostgreSQL/8KdWH/src/SearchLightPostgreSQL.jl:135\n",
      "┌ Info: INSERT INTO testdummycomponentrevisions ( \"ref_component\", \"ref_validfrom\", \"ref_invalidfrom\", \"description\" ) VALUES ( E'1', E'1', E'9007199254740991', E'blue' ) RETURNING id\n",
      "└ @ SearchLightPostgreSQL /home/codespace/.julia/packages/SearchLightPostgreSQL/8KdWH/src/SearchLightPostgreSQL.jl:135\n",
      "NOTICE:  NEW: (1,1,1,9007199254740991,,blue)\n",
      "┌ Info: SELECT \"testdummycomponentrevisions\".\"id\" AS \"testdummycomponentrevisions_id\", \"testdummycomponentrevisions\".\"ref_component\" AS \"testdummycomponentrevisions_ref_component\", \"testdummycomponentrevisions\".\"ref_validfrom\" AS \"testdummycomponentrevisions_ref_validfrom\", \"testdummycomponentrevisions\".\"ref_invalidfrom\" AS \"testdummycomponentrevisions_ref_invalidfrom\", \"testdummycomponentrevisions\".\"description\" AS \"testdummycomponentrevisions_description\" FROM \"testdummycomponentrevisions\" WHERE \"id\" = 1 ORDER BY testdummycomponentrevisions.id ASC\n",
      "└ @ SearchLightPostgreSQL /home/codespace/.julia/packages/SearchLightPostgreSQL/8KdWH/src/SearchLightPostgreSQL.jl:135\n"
     ]
    },
    {
     "name": "stdout",
     "output_type": "stream",
     "text": [
      "TestDummyComponentRevision(ref_validfrom::DbId=1,ref_invalidfrom::DbId=9007199254740991,id::DbId=1,ref_component::DbId=1,description::String=blue)\n"
     ]
    },
    {
     "name": "stderr",
     "output_type": "stream",
     "text": [
      "┌ Info: COMMIT\n",
      "└ @ SearchLightPostgreSQL /home/codespace/.julia/packages/SearchLightPostgreSQL/8KdWH/src/SearchLightPostgreSQL.jl:135\n",
      "┌ Info: BEGIN\n",
      "└ @ SearchLightPostgreSQL /home/codespace/.julia/packages/SearchLightPostgreSQL/8KdWH/src/SearchLightPostgreSQL.jl:135\n",
      "┌ Info: INSERT INTO testdummysubcomponents ( \"ref_history\", \"ref_super\", \"ref_version\" ) VALUES ( E'1', E'1', E'9007199254740991' ) RETURNING id\n",
      "└ @ SearchLightPostgreSQL /home/codespace/.julia/packages/SearchLightPostgreSQL/8KdWH/src/SearchLightPostgreSQL.jl:135\n",
      "┌ Info: SELECT \"testdummysubcomponents\".\"id\" AS \"testdummysubcomponents_id\", \"testdummysubcomponents\".\"ref_history\" AS \"testdummysubcomponents_ref_history\", \"testdummysubcomponents\".\"ref_super\" AS \"testdummysubcomponents_ref_super\", \"testdummysubcomponents\".\"ref_version\" AS \"testdummysubcomponents_ref_version\" FROM \"testdummysubcomponents\" WHERE \"id\" = 1 ORDER BY testdummysubcomponents.id ASC\n",
      "└ @ SearchLightPostgreSQL /home/codespace/.julia/packages/SearchLightPostgreSQL/8KdWH/src/SearchLightPostgreSQL.jl:135\n",
      "┌ Info: INSERT INTO testdummysubcomponentrevisions ( \"ref_component\", \"ref_validfrom\", \"ref_invalidfrom\", \"description\" ) VALUES ( E'1', E'1', E'9007199254740991', E'green' ) RETURNING id\n",
      "└ @ SearchLightPostgreSQL /home/codespace/.julia/packages/SearchLightPostgreSQL/8KdWH/src/SearchLightPostgreSQL.jl:135\n",
      "NOTICE:  NEW: (1,1,1,9007199254740991,,green)\n",
      "┌ Info: SELECT \"testdummysubcomponentrevisions\".\"id\" AS \"testdummysubcomponentrevisions_id\", \"testdummysubcomponentrevisions\".\"ref_component\" AS \"testdummysubcomponentrevisions_ref_component\", \"testdummysubcomponentrevisions\".\"ref_validfrom\" AS \"testdummysubcomponentrevisions_ref_validfrom\", \"testdummysubcomponentrevisions\".\"ref_invalidfrom\" AS \"testdummysubcomponentrevisions_ref_invalidfrom\", \"testdummysubcomponentrevisions\".\"description\" AS \"testdummysubcomponentrevisions_description\" FROM \"testdummysubcomponentrevisions\" WHERE \"id\" = 1 ORDER BY testdummysubcomponentrevisions.id ASC\n",
      "└ @ SearchLightPostgreSQL /home/codespace/.julia/packages/SearchLightPostgreSQL/8KdWH/src/SearchLightPostgreSQL.jl:135\n",
      "┌ Info: COMMIT\n",
      "└ @ SearchLightPostgreSQL /home/codespace/.julia/packages/SearchLightPostgreSQL/8KdWH/src/SearchLightPostgreSQL.jl:135\n"
     ]
    },
    {
     "data": {
      "text/plain": [
       "\u001b[32m\u001b[1mTest Passed\u001b[22m\u001b[39m"
      ]
     },
     "metadata": {},
     "output_type": "display_data"
    }
   ],
   "source": [
    "using Dates, Test, TimeZones\n",
    "import BitemporalPostgres\n",
    "using BitemporalPostgres\n",
    "\n",
    "w1blue = Workflow(type_of_entity=\"TestDummyComponent\",\n",
    "    tsw_validfrom=ZonedDateTime(2014, 5, 30, 21, 0, 1, 1, tz\"UTC\"))\n",
    "\n",
    "t1 = TestDummyComponent()\n",
    "t1r1blue = TestDummyComponentRevision(description=\"blue\")\n",
    "ts = TestDummySubComponent(ref_super=t1.id)\n",
    "ts1r1green = TestDummySubComponentRevision(description=\"green\")\n",
    "create_entity!(w1blue)\n",
    "create_component!(t1, t1r1blue, w1blue)\n",
    "println(t1r1blue)\n",
    "create_subcomponent!(t1, ts, ts1r1green, w1blue)\n",
    "@test !isnothing(w1blue.ref_history)\n",
    "@test w1blue.is_committed == 0\n",
    "@test w1blue.ref_version == t1r1blue.ref_validfrom\n",
    "@test w1blue.ref_version == ts1r1green.ref_validfrom"
   ]
  },
  {
   "cell_type": "markdown",
   "metadata": {},
   "source": [
    "### 2.1.2 Commiting workflow 1"
   ]
  },
  {
   "cell_type": "code",
   "execution_count": 7,
   "metadata": {},
   "outputs": [
    {
     "name": "stderr",
     "output_type": "stream",
     "text": [
      "┌ Info: BEGIN\n",
      "└ @ SearchLightPostgreSQL /home/codespace/.julia/packages/SearchLightPostgreSQL/8KdWH/src/SearchLightPostgreSQL.jl:135\n",
      "┌ Info: SELECT \"validityintervals\".\"id\" AS \"validityintervals_id\", \"validityintervals\".\"ref_history\" AS \"validityintervals_ref_history\", \"validityintervals\".\"ref_version\" AS \"validityintervals_ref_version\", \"validityintervals\".\"tsdb_validfrom\" AS \"validityintervals_tsdb_validfrom\", \"validityintervals\".\"tsworld_validfrom\" AS \"validityintervals_tsworld_validfrom\", \"validityintervals\".\"tsdb_invalidfrom\" AS \"validityintervals_tsdb_invalidfrom\", \"validityintervals\".\"tsworld_invalidfrom\" AS \"validityintervals_tsworld_invalidfrom\", \"validityintervals\".\"is_committed\" AS \"validityintervals_is_committed\" FROM \"validityintervals\" WHERE ref_version = E'1' AND is_committed = 0 ORDER BY validityintervals.id ASC\n",
      "└ @ SearchLightPostgreSQL /home/codespace/.julia/packages/SearchLightPostgreSQL/8KdWH/src/SearchLightPostgreSQL.jl:135\n",
      "┌ Info: SELECT \"validityintervals\".\"id\" AS \"validityintervals_id\", \"validityintervals\".\"ref_history\" AS \"validityintervals_ref_history\", \"validityintervals\".\"ref_version\" AS \"validityintervals_ref_version\", \"validityintervals\".\"tsdb_validfrom\" AS \"validityintervals_tsdb_validfrom\", \"validityintervals\".\"tsworld_validfrom\" AS \"validityintervals_tsworld_validfrom\", \"validityintervals\".\"tsdb_invalidfrom\" AS \"validityintervals_tsdb_invalidfrom\", \"validityintervals\".\"tsworld_invalidfrom\" AS \"validityintervals_tsworld_invalidfrom\", \"validityintervals\".\"is_committed\" AS \"validityintervals_is_committed\" FROM \"validityintervals\" WHERE ref_history = E'1' AND tsrdb @> TIMESTAMPTZ E'2038-01-18T03:14:06.999+00:00' AND tsrworld <@ tstzrange(E'2014-05-31T21:00:01.001+00:00',E'2038-01-19T03:14:06.999+00:00') AND is_committed=1 ORDER BY validityintervals.id ASC\n",
      "└ @ SearchLightPostgreSQL /home/codespace/.julia/packages/SearchLightPostgreSQL/8KdWH/src/SearchLightPostgreSQL.jl:135\n",
      "┌ Info: SELECT \"validityintervals\".\"id\" AS \"validityintervals_id\", \"validityintervals\".\"ref_history\" AS \"validityintervals_ref_history\", \"validityintervals\".\"ref_version\" AS \"validityintervals_ref_version\", \"validityintervals\".\"tsdb_validfrom\" AS \"validityintervals_tsdb_validfrom\", \"validityintervals\".\"tsworld_validfrom\" AS \"validityintervals_tsworld_validfrom\", \"validityintervals\".\"tsdb_invalidfrom\" AS \"validityintervals_tsdb_invalidfrom\", \"validityintervals\".\"tsworld_invalidfrom\" AS \"validityintervals_tsworld_invalidfrom\", \"validityintervals\".\"is_committed\" AS \"validityintervals_is_committed\" FROM \"validityintervals\" WHERE ref_history = E'1' AND tsrdb @> TIMESTAMPTZ E'2038-01-18T03:14:06.999+00:00' AND tsrworld && tstzrange(E'2014-05-31T21:00:01.001+00:00',E'2038-01-19T03:14:06.999+00:00') AND is_committed=1 ORDER BY validityintervals.id ASC\n",
      "└ @ SearchLightPostgreSQL /home/codespace/.julia/packages/SearchLightPostgreSQL/8KdWH/src/SearchLightPostgreSQL.jl:135\n",
      "┌ Info: UPDATE validityintervals SET  \"id\" = E'1', \"ref_history\" = E'1', \"ref_version\" = E'1', \"tsdb_validfrom\" = E'2024-06-04T09:10:32.384+00:00', \"tsworld_validfrom\" = E'2014-05-30T21:00:01.001+00:00', \"tsdb_invalidfrom\" = E'2038-01-19T03:14:06.999+00:00', \"tsworld_invalidfrom\" = E'2038-01-19T03:14:06.999+00:00', \"is_committed\" = 1 WHERE validityintervals.id = '1' RETURNING id\n",
      "└ @ SearchLightPostgreSQL /home/codespace/.julia/packages/SearchLightPostgreSQL/8KdWH/src/SearchLightPostgreSQL.jl:135\n",
      "NOTICE:  NEW: (1,1,1,\"2014-05-30 21:00:01.001+00\",\"2038-01-19 03:14:06.999+00\",\"2024-06-04 09:10:32.384+00\",\"2038-01-19 03:14:06.999+00\",\"[\"\"2014-05-30 21:00:01.001+00\"\",\"\"2038-01-19 03:14:06.999+00\"\")\",\"[\"\"2024-06-04 09:10:27.565+00\"\",\"\"2038-01-19 03:14:06.999+00\"\")\",1)\n",
      "┌ Info: SELECT \"validityintervals\".\"id\" AS \"validityintervals_id\", \"validityintervals\".\"ref_history\" AS \"validityintervals_ref_history\", \"validityintervals\".\"ref_version\" AS \"validityintervals_ref_version\", \"validityintervals\".\"tsdb_validfrom\" AS \"validityintervals_tsdb_validfrom\", \"validityintervals\".\"tsworld_validfrom\" AS \"validityintervals_tsworld_validfrom\", \"validityintervals\".\"tsdb_invalidfrom\" AS \"validityintervals_tsdb_invalidfrom\", \"validityintervals\".\"tsworld_invalidfrom\" AS \"validityintervals_tsworld_invalidfrom\", \"validityintervals\".\"is_committed\" AS \"validityintervals_is_committed\" FROM \"validityintervals\" WHERE \"id\" = 1 ORDER BY validityintervals.id ASC\n",
      "└ @ SearchLightPostgreSQL /home/codespace/.julia/packages/SearchLightPostgreSQL/8KdWH/src/SearchLightPostgreSQL.jl:135\n",
      "┌ Info: UPDATE workflows SET  \"id\" = E'1', \"ref_history\" = E'1', \"ref_version\" = E'1', \"tsdb_validfrom\" = E'2024-06-04T09:10:32.384+00:00', \"tsw_validfrom\" = E'2014-05-30T21:00:01.001+00:00', \"is_committed\" = 1, \"type_of_entity\" = E'TestDummyComponent' WHERE workflows.id = '1' RETURNING id\n",
      "└ @ SearchLightPostgreSQL /home/codespace/.julia/packages/SearchLightPostgreSQL/8KdWH/src/SearchLightPostgreSQL.jl:135\n",
      "┌ Info: SELECT \"workflows\".\"id\" AS \"workflows_id\", \"workflows\".\"ref_history\" AS \"workflows_ref_history\", \"workflows\".\"ref_version\" AS \"workflows_ref_version\", \"workflows\".\"tsdb_validfrom\" AS \"workflows_tsdb_validfrom\", \"workflows\".\"tsw_validfrom\" AS \"workflows_tsw_validfrom\", \"workflows\".\"is_committed\" AS \"workflows_is_committed\", \"workflows\".\"type_of_entity\" AS \"workflows_type_of_entity\" FROM \"workflows\" WHERE \"id\" = 1 ORDER BY workflows.id ASC\n",
      "└ @ SearchLightPostgreSQL /home/codespace/.julia/packages/SearchLightPostgreSQL/8KdWH/src/SearchLightPostgreSQL.jl:135\n",
      "┌ Info: COMMIT\n",
      "└ @ SearchLightPostgreSQL /home/codespace/.julia/packages/SearchLightPostgreSQL/8KdWH/src/SearchLightPostgreSQL.jl:135\n"
     ]
    },
    {
     "data": {
      "text/plain": [
       "\u001b[32m\u001b[1mTest Passed\u001b[22m\u001b[39m"
      ]
     },
     "metadata": {},
     "output_type": "display_data"
    }
   ],
   "source": [
    "commit_workflow!(w1blue)\n",
    "@test w1blue.is_committed == 1"
   ]
  },
  {
   "cell_type": "markdown",
   "metadata": {},
   "source": [
    "## 2.2 Workflow 2 ( the yellow rectangle that shortens the blue one)\n",
    "### 2.2.1  Starting workflow 2 \n",
    "mutating component 1"
   ]
  },
  {
   "cell_type": "code",
   "execution_count": 8,
   "metadata": {},
   "outputs": [
    {
     "name": "stderr",
     "output_type": "stream",
     "text": [
      "┌ Info: entering update\n",
      "└ @ BitemporalPostgres /workspaces/BitemporalPostgres.jl/src/BitemporalPostgres.jl:622\n",
      "┌ Info: BEGIN\n",
      "└ @ SearchLightPostgreSQL /home/codespace/.julia/packages/SearchLightPostgreSQL/8KdWH/src/SearchLightPostgreSQL.jl:135\n",
      "┌ Info: INSERT INTO versions ( \"ref_history\" ) VALUES ( E'1' ) RETURNING id\n",
      "└ @ SearchLightPostgreSQL /home/codespace/.julia/packages/SearchLightPostgreSQL/8KdWH/src/SearchLightPostgreSQL.jl:135\n",
      "┌ Info: SELECT \"versions\".\"id\" AS \"versions_id\", \"versions\".\"ref_history\" AS \"versions_ref_history\" FROM \"versions\" WHERE \"id\" = 2 ORDER BY versions.id ASC\n",
      "└ @ SearchLightPostgreSQL /home/codespace/.julia/packages/SearchLightPostgreSQL/8KdWH/src/SearchLightPostgreSQL.jl:135\n",
      "┌ Info: INSERT INTO workflows ( \"ref_history\", \"ref_version\", \"tsdb_validfrom\", \"tsw_validfrom\", \"is_committed\", \"type_of_entity\" ) VALUES ( E'1', E'2', E'2024-06-04T09:10:32.904+00:00', E'2015-05-30T21:00:01.001+00:00', 0, E'TestDummyComponent' ) RETURNING id\n",
      "└ @ SearchLightPostgreSQL /home/codespace/.julia/packages/SearchLightPostgreSQL/8KdWH/src/SearchLightPostgreSQL.jl:135\n",
      "┌ Info: SELECT \"workflows\".\"id\" AS \"workflows_id\", \"workflows\".\"ref_history\" AS \"workflows_ref_history\", \"workflows\".\"ref_version\" AS \"workflows_ref_version\", \"workflows\".\"tsdb_validfrom\" AS \"workflows_tsdb_validfrom\", \"workflows\".\"tsw_validfrom\" AS \"workflows_tsw_validfrom\", \"workflows\".\"is_committed\" AS \"workflows_is_committed\", \"workflows\".\"type_of_entity\" AS \"workflows_type_of_entity\" FROM \"workflows\" WHERE \"id\" = 2 ORDER BY workflows.id ASC\n",
      "└ @ SearchLightPostgreSQL /home/codespace/.julia/packages/SearchLightPostgreSQL/8KdWH/src/SearchLightPostgreSQL.jl:135\n",
      "┌ Info: INSERT INTO validityintervals ( \"ref_history\", \"ref_version\", \"tsdb_validfrom\", \"tsworld_validfrom\", \"tsdb_invalidfrom\", \"tsworld_invalidfrom\", \"is_committed\" ) VALUES ( E'1', E'2', E'2024-06-04T09:10:32.904+00:00', E'2015-05-30T21:00:01.001+00:00', E'2038-01-19T03:14:06.999+00:00', E'2038-01-19T03:14:06.999+00:00', 0 ) RETURNING id\n",
      "└ @ SearchLightPostgreSQL /home/codespace/.julia/packages/SearchLightPostgreSQL/8KdWH/src/SearchLightPostgreSQL.jl:135\n",
      "NOTICE:  NEW: (2,1,2,\"2015-05-30 21:00:01.001+00\",\"2038-01-19 03:14:06.999+00\",\"2024-06-04 09:10:32.904+00\",\"2038-01-19 03:14:06.999+00\",,,0)\n",
      "┌ Info: SELECT \"validityintervals\".\"id\" AS \"validityintervals_id\", \"validityintervals\".\"ref_history\" AS \"validityintervals_ref_history\", \"validityintervals\".\"ref_version\" AS \"validityintervals_ref_version\", \"validityintervals\".\"tsdb_validfrom\" AS \"validityintervals_tsdb_validfrom\", \"validityintervals\".\"tsworld_validfrom\" AS \"validityintervals_tsworld_validfrom\", \"validityintervals\".\"tsdb_invalidfrom\" AS \"validityintervals_tsdb_invalidfrom\", \"validityintervals\".\"tsworld_invalidfrom\" AS \"validityintervals_tsworld_invalidfrom\", \"validityintervals\".\"is_committed\" AS \"validityintervals_is_committed\" FROM \"validityintervals\" WHERE \"id\" = 2 ORDER BY validityintervals.id ASC\n",
      "└ @ SearchLightPostgreSQL /home/codespace/.julia/packages/SearchLightPostgreSQL/8KdWH/src/SearchLightPostgreSQL.jl:135\n",
      "┌ Info: SELECT \"validityintervals\".\"id\" AS \"validityintervals_id\", \"validityintervals\".\"ref_history\" AS \"validityintervals_ref_history\", \"validityintervals\".\"ref_version\" AS \"validityintervals_ref_version\", \"validityintervals\".\"tsdb_validfrom\" AS \"validityintervals_tsdb_validfrom\", \"validityintervals\".\"tsworld_validfrom\" AS \"validityintervals_tsworld_validfrom\", \"validityintervals\".\"tsdb_invalidfrom\" AS \"validityintervals_tsdb_invalidfrom\", \"validityintervals\".\"tsworld_invalidfrom\" AS \"validityintervals_tsworld_invalidfrom\", \"validityintervals\".\"is_committed\" AS \"validityintervals_is_committed\" FROM \"validityintervals\" WHERE ref_history = E'1' AND tsrdb @> TIMESTAMPTZ E'2038-01-18T03:14:06.999+00:00' AND tsrworld <@ tstzrange(E'2015-05-30T21:00:01.001+00:00',E'2038-01-19T03:14:06.999+00:00') AND is_committed=1 ORDER BY validityintervals.ref_version ASC\n",
      "└ @ SearchLightPostgreSQL /home/codespace/.julia/packages/SearchLightPostgreSQL/8KdWH/src/SearchLightPostgreSQL.jl:135\n",
      "┌ Info: shadowedDbId[]\n",
      "└ @ BitemporalPostgres /workspaces/BitemporalPostgres.jl/src/BitemporalPostgres.jl:654\n"
     ]
    },
    {
     "name": "stdout",
     "output_type": "stream",
     "text": [
      "TestDummyComponentRevision(ref_validfrom::DbId=2,ref_invalidfrom::DbId=9007199254740991,id::DbId=2,ref_component::DbId=1,description::String=yellow)\n"
     ]
    },
    {
     "name": "stderr",
     "output_type": "stream",
     "text": [
      "┌ Info: COMMIT\n",
      "└ @ SearchLightPostgreSQL /home/codespace/.julia/packages/SearchLightPostgreSQL/8KdWH/src/SearchLightPostgreSQL.jl:135\n",
      "┌ Info: BEGIN\n",
      "└ @ SearchLightPostgreSQL /home/codespace/.julia/packages/SearchLightPostgreSQL/8KdWH/src/SearchLightPostgreSQL.jl:135\n",
      "┌ Info: UPDATE testdummycomponentrevisions SET  \"id\" = E'1', \"ref_component\" = E'1', \"ref_validfrom\" = E'1', \"ref_invalidfrom\" = E'2', \"description\" = E'blue' WHERE testdummycomponentrevisions.id = '1' RETURNING id\n",
      "└ @ SearchLightPostgreSQL /home/codespace/.julia/packages/SearchLightPostgreSQL/8KdWH/src/SearchLightPostgreSQL.jl:135\n",
      "NOTICE:  NEW: (1,1,1,2,\"[1,9007199254740991)\",blue)\n",
      "┌ Info: SELECT \"testdummycomponentrevisions\".\"id\" AS \"testdummycomponentrevisions_id\", \"testdummycomponentrevisions\".\"ref_component\" AS \"testdummycomponentrevisions_ref_component\", \"testdummycomponentrevisions\".\"ref_validfrom\" AS \"testdummycomponentrevisions_ref_validfrom\", \"testdummycomponentrevisions\".\"ref_invalidfrom\" AS \"testdummycomponentrevisions_ref_invalidfrom\", \"testdummycomponentrevisions\".\"description\" AS \"testdummycomponentrevisions_description\" FROM \"testdummycomponentrevisions\" WHERE \"id\" = 1 ORDER BY testdummycomponentrevisions.id ASC\n",
      "└ @ SearchLightPostgreSQL /home/codespace/.julia/packages/SearchLightPostgreSQL/8KdWH/src/SearchLightPostgreSQL.jl:135\n",
      "┌ Info: INSERT INTO testdummycomponentrevisions ( \"ref_component\", \"ref_validfrom\", \"ref_invalidfrom\", \"description\" ) VALUES ( E'1', E'2', E'9007199254740991', E'yellow' ) RETURNING id\n",
      "└ @ SearchLightPostgreSQL /home/codespace/.julia/packages/SearchLightPostgreSQL/8KdWH/src/SearchLightPostgreSQL.jl:135\n",
      "NOTICE:  NEW: (2,1,2,9007199254740991,,yellow)\n",
      "┌ Info: SELECT \"testdummycomponentrevisions\".\"id\" AS \"testdummycomponentrevisions_id\", \"testdummycomponentrevisions\".\"ref_component\" AS \"testdummycomponentrevisions_ref_component\", \"testdummycomponentrevisions\".\"ref_validfrom\" AS \"testdummycomponentrevisions_ref_validfrom\", \"testdummycomponentrevisions\".\"ref_invalidfrom\" AS \"testdummycomponentrevisions_ref_invalidfrom\", \"testdummycomponentrevisions\".\"description\" AS \"testdummycomponentrevisions_description\" FROM \"testdummycomponentrevisions\" WHERE \"id\" = 2 ORDER BY testdummycomponentrevisions.id ASC\n",
      "└ @ SearchLightPostgreSQL /home/codespace/.julia/packages/SearchLightPostgreSQL/8KdWH/src/SearchLightPostgreSQL.jl:135\n",
      "┌ Info: COMMIT\n",
      "└ @ SearchLightPostgreSQL /home/codespace/.julia/packages/SearchLightPostgreSQL/8KdWH/src/SearchLightPostgreSQL.jl:135\n"
     ]
    },
    {
     "data": {
      "text/plain": [
       "\u001b[32m\u001b[1mTest Passed\u001b[22m\u001b[39m"
      ]
     },
     "metadata": {},
     "output_type": "display_data"
    }
   ],
   "source": [
    "w2yellow = Workflow(type_of_entity=\"TestDummyComponent\",\n",
    "    ref_history=w1blue.ref_history,\n",
    "    tsw_validfrom=ZonedDateTime(2015, 5, 30, 21, 0, 1, 1, tz\"UTC\"),\n",
    ")\n",
    "t1r2yellow = copy(t1r1blue)\n",
    "t1r2yellow.description = \"yellow\"\n",
    "update_entity!(w2yellow)\n",
    "update_component!(t1r1blue, t1r2yellow, w2yellow)\n",
    "println(t1r2yellow)\n",
    "@test w2yellow.ref_version == t1r2yellow.ref_validfrom\n",
    "@test w2yellow.ref_version == t1r1blue.ref_invalidfrom"
   ]
  },
  {
   "cell_type": "markdown",
   "metadata": {},
   "source": [
    "### 2.2.2 Committing workflow 2"
   ]
  },
  {
   "cell_type": "code",
   "execution_count": 9,
   "metadata": {},
   "outputs": [
    {
     "name": "stderr",
     "output_type": "stream",
     "text": [
      "┌ Info: BEGIN\n",
      "└ @ SearchLightPostgreSQL /home/codespace/.julia/packages/SearchLightPostgreSQL/8KdWH/src/SearchLightPostgreSQL.jl:135\n",
      "┌ Info: SELECT \"validityintervals\".\"id\" AS \"validityintervals_id\", \"validityintervals\".\"ref_history\" AS \"validityintervals_ref_history\", \"validityintervals\".\"ref_version\" AS \"validityintervals_ref_version\", \"validityintervals\".\"tsdb_validfrom\" AS \"validityintervals_tsdb_validfrom\", \"validityintervals\".\"tsworld_validfrom\" AS \"validityintervals_tsworld_validfrom\", \"validityintervals\".\"tsdb_invalidfrom\" AS \"validityintervals_tsdb_invalidfrom\", \"validityintervals\".\"tsworld_invalidfrom\" AS \"validityintervals_tsworld_invalidfrom\", \"validityintervals\".\"is_committed\" AS \"validityintervals_is_committed\" FROM \"validityintervals\" WHERE ref_version = E'2' AND is_committed = 0 ORDER BY validityintervals.id ASC\n",
      "└ @ SearchLightPostgreSQL /home/codespace/.julia/packages/SearchLightPostgreSQL/8KdWH/src/SearchLightPostgreSQL.jl:135\n",
      "┌ Info: SELECT \"validityintervals\".\"id\" AS \"validityintervals_id\", \"validityintervals\".\"ref_history\" AS \"validityintervals_ref_history\", \"validityintervals\".\"ref_version\" AS \"validityintervals_ref_version\", \"validityintervals\".\"tsdb_validfrom\" AS \"validityintervals_tsdb_validfrom\", \"validityintervals\".\"tsworld_validfrom\" AS \"validityintervals_tsworld_validfrom\", \"validityintervals\".\"tsdb_invalidfrom\" AS \"validityintervals_tsdb_invalidfrom\", \"validityintervals\".\"tsworld_invalidfrom\" AS \"validityintervals_tsworld_invalidfrom\", \"validityintervals\".\"is_committed\" AS \"validityintervals_is_committed\" FROM \"validityintervals\" WHERE ref_history = E'1' AND tsrdb @> TIMESTAMPTZ E'2038-01-18T03:14:06.999+00:00' AND tsrworld <@ tstzrange(E'2015-05-31T21:00:01.001+00:00',E'2038-01-19T03:14:06.999+00:00') AND is_committed=1 ORDER BY validityintervals.id ASC\n",
      "└ @ SearchLightPostgreSQL /home/codespace/.julia/packages/SearchLightPostgreSQL/8KdWH/src/SearchLightPostgreSQL.jl:135\n",
      "┌ Info: SELECT \"validityintervals\".\"id\" AS \"validityintervals_id\", \"validityintervals\".\"ref_history\" AS \"validityintervals_ref_history\", \"validityintervals\".\"ref_version\" AS \"validityintervals_ref_version\", \"validityintervals\".\"tsdb_validfrom\" AS \"validityintervals_tsdb_validfrom\", \"validityintervals\".\"tsworld_validfrom\" AS \"validityintervals_tsworld_validfrom\", \"validityintervals\".\"tsdb_invalidfrom\" AS \"validityintervals_tsdb_invalidfrom\", \"validityintervals\".\"tsworld_invalidfrom\" AS \"validityintervals_tsworld_invalidfrom\", \"validityintervals\".\"is_committed\" AS \"validityintervals_is_committed\" FROM \"validityintervals\" WHERE ref_history = E'1' AND tsrdb @> TIMESTAMPTZ E'2038-01-18T03:14:06.999+00:00' AND tsrworld && tstzrange(E'2015-05-31T21:00:01.001+00:00',E'2038-01-19T03:14:06.999+00:00') AND is_committed=1 ORDER BY validityintervals.id ASC\n",
      "└ @ SearchLightPostgreSQL /home/codespace/.julia/packages/SearchLightPostgreSQL/8KdWH/src/SearchLightPostgreSQL.jl:135\n",
      "┌ Info: UPDATE validityintervals SET  \"id\" = E'1', \"ref_history\" = E'1', \"ref_version\" = E'1', \"tsdb_validfrom\" = E'2024-06-04T09:10:32.384+00:00', \"tsworld_validfrom\" = E'2014-05-30T21:00:01.001+00:00', \"tsdb_invalidfrom\" = E'2024-06-04T09:10:33.099+00:00', \"tsworld_invalidfrom\" = E'2038-01-19T03:14:06.999+00:00', \"is_committed\" = 1 WHERE validityintervals.id = '1' RETURNING id\n",
      "└ @ SearchLightPostgreSQL /home/codespace/.julia/packages/SearchLightPostgreSQL/8KdWH/src/SearchLightPostgreSQL.jl:135\n",
      "NOTICE:  NEW: (1,1,1,\"2014-05-30 21:00:01.001+00\",\"2038-01-19 03:14:06.999+00\",\"2024-06-04 09:10:32.384+00\",\"2024-06-04 09:10:33.099+00\",\"[\"\"2014-05-30 21:00:01.001+00\"\",\"\"2038-01-19 03:14:06.999+00\"\")\",\"[\"\"2024-06-04 09:10:32.384+00\"\",\"\"2038-01-19 03:14:06.999+00\"\")\",1)\n",
      "┌ Info: SELECT \"validityintervals\".\"id\" AS \"validityintervals_id\", \"validityintervals\".\"ref_history\" AS \"validityintervals_ref_history\", \"validityintervals\".\"ref_version\" AS \"validityintervals_ref_version\", \"validityintervals\".\"tsdb_validfrom\" AS \"validityintervals_tsdb_validfrom\", \"validityintervals\".\"tsworld_validfrom\" AS \"validityintervals_tsworld_validfrom\", \"validityintervals\".\"tsdb_invalidfrom\" AS \"validityintervals_tsdb_invalidfrom\", \"validityintervals\".\"tsworld_invalidfrom\" AS \"validityintervals_tsworld_invalidfrom\", \"validityintervals\".\"is_committed\" AS \"validityintervals_is_committed\" FROM \"validityintervals\" WHERE \"id\" = 1 ORDER BY validityintervals.id ASC\n",
      "└ @ SearchLightPostgreSQL /home/codespace/.julia/packages/SearchLightPostgreSQL/8KdWH/src/SearchLightPostgreSQL.jl:135\n",
      "┌ Info: INSERT INTO validityintervals ( \"ref_history\", \"ref_version\", \"tsdb_validfrom\", \"tsworld_validfrom\", \"tsdb_invalidfrom\", \"tsworld_invalidfrom\", \"is_committed\" ) VALUES ( E'1', E'1', E'2024-06-04T09:10:33.099+00:00', E'2014-05-30T21:00:01.001+00:00', E'2038-01-19T03:14:06.999+00:00', E'2015-05-30T21:00:01.001+00:00', 1 ) RETURNING id\n",
      "└ @ SearchLightPostgreSQL /home/codespace/.julia/packages/SearchLightPostgreSQL/8KdWH/src/SearchLightPostgreSQL.jl:135\n",
      "NOTICE:  NEW: (3,1,1,\"2014-05-30 21:00:01.001+00\",\"2015-05-30 21:00:01.001+00\",\"2024-06-04 09:10:33.099+00\",\"2038-01-19 03:14:06.999+00\",,,1)\n",
      "┌ Info: SELECT \"validityintervals\".\"id\" AS \"validityintervals_id\", \"validityintervals\".\"ref_history\" AS \"validityintervals_ref_history\", \"validityintervals\".\"ref_version\" AS \"validityintervals_ref_version\", \"validityintervals\".\"tsdb_validfrom\" AS \"validityintervals_tsdb_validfrom\", \"validityintervals\".\"tsworld_validfrom\" AS \"validityintervals_tsworld_validfrom\", \"validityintervals\".\"tsdb_invalidfrom\" AS \"validityintervals_tsdb_invalidfrom\", \"validityintervals\".\"tsworld_invalidfrom\" AS \"validityintervals_tsworld_invalidfrom\", \"validityintervals\".\"is_committed\" AS \"validityintervals_is_committed\" FROM \"validityintervals\" WHERE \"id\" = 3 ORDER BY validityintervals.id ASC\n",
      "└ @ SearchLightPostgreSQL /home/codespace/.julia/packages/SearchLightPostgreSQL/8KdWH/src/SearchLightPostgreSQL.jl:135\n",
      "┌ Info: UPDATE validityintervals SET  \"id\" = E'2', \"ref_history\" = E'1', \"ref_version\" = E'2', \"tsdb_validfrom\" = E'2024-06-04T09:10:33.099+00:00', \"tsworld_validfrom\" = E'2015-05-30T21:00:01.001+00:00', \"tsdb_invalidfrom\" = E'2038-01-19T03:14:06.999+00:00', \"tsworld_invalidfrom\" = E'2038-01-19T03:14:06.999+00:00', \"is_committed\" = 1 WHERE validityintervals.id = '2' RETURNING id\n",
      "└ @ SearchLightPostgreSQL /home/codespace/.julia/packages/SearchLightPostgreSQL/8KdWH/src/SearchLightPostgreSQL.jl:135\n",
      "NOTICE:  NEW: (2,1,2,\"2015-05-30 21:00:01.001+00\",\"2038-01-19 03:14:06.999+00\",\"2024-06-04 09:10:33.099+00\",\"2038-01-19 03:14:06.999+00\",\"[\"\"2015-05-30 21:00:01.001+00\"\",\"\"2038-01-19 03:14:06.999+00\"\")\",\"[\"\"2024-06-04 09:10:32.904+00\"\",\"\"2038-01-19 03:14:06.999+00\"\")\",1)\n",
      "┌ Info: SELECT \"validityintervals\".\"id\" AS \"validityintervals_id\", \"validityintervals\".\"ref_history\" AS \"validityintervals_ref_history\", \"validityintervals\".\"ref_version\" AS \"validityintervals_ref_version\", \"validityintervals\".\"tsdb_validfrom\" AS \"validityintervals_tsdb_validfrom\", \"validityintervals\".\"tsworld_validfrom\" AS \"validityintervals_tsworld_validfrom\", \"validityintervals\".\"tsdb_invalidfrom\" AS \"validityintervals_tsdb_invalidfrom\", \"validityintervals\".\"tsworld_invalidfrom\" AS \"validityintervals_tsworld_invalidfrom\", \"validityintervals\".\"is_committed\" AS \"validityintervals_is_committed\" FROM \"validityintervals\" WHERE \"id\" = 2 ORDER BY validityintervals.id ASC\n",
      "└ @ SearchLightPostgreSQL /home/codespace/.julia/packages/SearchLightPostgreSQL/8KdWH/src/SearchLightPostgreSQL.jl:135\n",
      "┌ Info: UPDATE workflows SET  \"id\" = E'2', \"ref_history\" = E'1', \"ref_version\" = E'2', \"tsdb_validfrom\" = E'2024-06-04T09:10:33.099+00:00', \"tsw_validfrom\" = E'2015-05-30T21:00:01.001+00:00', \"is_committed\" = 1, \"type_of_entity\" = E'TestDummyComponent' WHERE workflows.id = '2' RETURNING id\n",
      "└ @ SearchLightPostgreSQL /home/codespace/.julia/packages/SearchLightPostgreSQL/8KdWH/src/SearchLightPostgreSQL.jl:135\n",
      "┌ Info: SELECT \"workflows\".\"id\" AS \"workflows_id\", \"workflows\".\"ref_history\" AS \"workflows_ref_history\", \"workflows\".\"ref_version\" AS \"workflows_ref_version\", \"workflows\".\"tsdb_validfrom\" AS \"workflows_tsdb_validfrom\", \"workflows\".\"tsw_validfrom\" AS \"workflows_tsw_validfrom\", \"workflows\".\"is_committed\" AS \"workflows_is_committed\", \"workflows\".\"type_of_entity\" AS \"workflows_type_of_entity\" FROM \"workflows\" WHERE \"id\" = 2 ORDER BY workflows.id ASC\n",
      "└ @ SearchLightPostgreSQL /home/codespace/.julia/packages/SearchLightPostgreSQL/8KdWH/src/SearchLightPostgreSQL.jl:135\n",
      "┌ Info: COMMIT\n",
      "└ @ SearchLightPostgreSQL /home/codespace/.julia/packages/SearchLightPostgreSQL/8KdWH/src/SearchLightPostgreSQL.jl:135\n"
     ]
    },
    {
     "data": {
      "text/plain": [
       "\u001b[32m\u001b[1mTest Passed\u001b[22m\u001b[39m"
      ]
     },
     "metadata": {},
     "output_type": "display_data"
    }
   ],
   "source": [
    "commit_workflow!(w2yellow)\n",
    "@test w2yellow.is_committed == 1"
   ]
  },
  {
   "cell_type": "markdown",
   "metadata": {},
   "source": [
    "## 2.3 workflow 3 (the red rectancle that shadows the yellow one)\n",
    "### 2.3.1 Starting workflow 3"
   ]
  },
  {
   "cell_type": "code",
   "execution_count": 10,
   "metadata": {},
   "outputs": [
    {
     "data": {
      "text/plain": [
       "Workflow\n",
       "| KEY                           | VALUE                         |\n",
       "|-------------------------------|-------------------------------|\n",
       "| id::DbId                      | NULL                          |\n",
       "| is_committed::Int64           | 0                             |\n",
       "| ref_history::DbId             | 1                             |\n",
       "| ref_version::DbId             | 0                             |\n",
       "| tsdb_validfrom::ZonedDateTime | 2038-01-19T03:14:06.999+00:00 |\n",
       "| tsw_validfrom::ZonedDateTime  | 2014-11-30T21:00:01.001+00:00 |\n",
       "| type_of_entity::String        | TestDummyComponent            |\n"
      ]
     },
     "metadata": {},
     "output_type": "display_data"
    }
   ],
   "source": [
    "w3redshadow = Workflow(type_of_entity=\"TestDummyComponent\",\n",
    "    ref_history = w1blue.ref_history,\n",
    "    tsw_validfrom = ZonedDateTime(2014, 11, 30, 21, 0, 1, 1, tz\"UTC\"),\n",
    ")"
   ]
  },
  {
   "cell_type": "code",
   "execution_count": 11,
   "metadata": {},
   "outputs": [
    {
     "name": "stderr",
     "output_type": "stream",
     "text": [
      "┌ Info: entering update\n",
      "└ @ BitemporalPostgres /workspaces/BitemporalPostgres.jl/src/BitemporalPostgres.jl:622\n",
      "┌ Info: BEGIN\n",
      "└ @ SearchLightPostgreSQL /home/codespace/.julia/packages/SearchLightPostgreSQL/8KdWH/src/SearchLightPostgreSQL.jl:135\n",
      "┌ Info: INSERT INTO versions ( \"ref_history\" ) VALUES ( E'1' ) RETURNING id\n",
      "└ @ SearchLightPostgreSQL /home/codespace/.julia/packages/SearchLightPostgreSQL/8KdWH/src/SearchLightPostgreSQL.jl:135\n",
      "┌ Info: SELECT \"versions\".\"id\" AS \"versions_id\", \"versions\".\"ref_history\" AS \"versions_ref_history\" FROM \"versions\" WHERE \"id\" = 3 ORDER BY versions.id ASC\n",
      "└ @ SearchLightPostgreSQL /home/codespace/.julia/packages/SearchLightPostgreSQL/8KdWH/src/SearchLightPostgreSQL.jl:135\n",
      "┌ Info: INSERT INTO workflows ( \"ref_history\", \"ref_version\", \"tsdb_validfrom\", \"tsw_validfrom\", \"is_committed\", \"type_of_entity\" ) VALUES ( E'1', E'3', E'2024-06-04T09:10:34.544+00:00', E'2014-11-30T21:00:01.001+00:00', 0, E'TestDummyComponent' ) RETURNING id\n",
      "└ @ SearchLightPostgreSQL /home/codespace/.julia/packages/SearchLightPostgreSQL/8KdWH/src/SearchLightPostgreSQL.jl:135\n",
      "┌ Info: SELECT \"workflows\".\"id\" AS \"workflows_id\", \"workflows\".\"ref_history\" AS \"workflows_ref_history\", \"workflows\".\"ref_version\" AS \"workflows_ref_version\", \"workflows\".\"tsdb_validfrom\" AS \"workflows_tsdb_validfrom\", \"workflows\".\"tsw_validfrom\" AS \"workflows_tsw_validfrom\", \"workflows\".\"is_committed\" AS \"workflows_is_committed\", \"workflows\".\"type_of_entity\" AS \"workflows_type_of_entity\" FROM \"workflows\" WHERE \"id\" = 3 ORDER BY workflows.id ASC\n",
      "└ @ SearchLightPostgreSQL /home/codespace/.julia/packages/SearchLightPostgreSQL/8KdWH/src/SearchLightPostgreSQL.jl:135\n",
      "┌ Info: INSERT INTO validityintervals ( \"ref_history\", \"ref_version\", \"tsdb_validfrom\", \"tsworld_validfrom\", \"tsdb_invalidfrom\", \"tsworld_invalidfrom\", \"is_committed\" ) VALUES ( E'1', E'3', E'2024-06-04T09:10:34.544+00:00', E'2014-11-30T21:00:01.001+00:00', E'2038-01-19T03:14:06.999+00:00', E'2038-01-19T03:14:06.999+00:00', 0 ) RETURNING id\n",
      "└ @ SearchLightPostgreSQL /home/codespace/.julia/packages/SearchLightPostgreSQL/8KdWH/src/SearchLightPostgreSQL.jl:135\n",
      "NOTICE:  NEW: (4,1,3,\"2014-11-30 21:00:01.001+00\",\"2038-01-19 03:14:06.999+00\",\"2024-06-04 09:10:34.544+00\",\"2038-01-19 03:14:06.999+00\",,,0)\n",
      "┌ Info: SELECT \"validityintervals\".\"id\" AS \"validityintervals_id\", \"validityintervals\".\"ref_history\" AS \"validityintervals_ref_history\", \"validityintervals\".\"ref_version\" AS \"validityintervals_ref_version\", \"validityintervals\".\"tsdb_validfrom\" AS \"validityintervals_tsdb_validfrom\", \"validityintervals\".\"tsworld_validfrom\" AS \"validityintervals_tsworld_validfrom\", \"validityintervals\".\"tsdb_invalidfrom\" AS \"validityintervals_tsdb_invalidfrom\", \"validityintervals\".\"tsworld_invalidfrom\" AS \"validityintervals_tsworld_invalidfrom\", \"validityintervals\".\"is_committed\" AS \"validityintervals_is_committed\" FROM \"validityintervals\" WHERE \"id\" = 4 ORDER BY validityintervals.id ASC\n",
      "└ @ SearchLightPostgreSQL /home/codespace/.julia/packages/SearchLightPostgreSQL/8KdWH/src/SearchLightPostgreSQL.jl:135\n",
      "┌ Info: SELECT \"validityintervals\".\"id\" AS \"validityintervals_id\", \"validityintervals\".\"ref_history\" AS \"validityintervals_ref_history\", \"validityintervals\".\"ref_version\" AS \"validityintervals_ref_version\", \"validityintervals\".\"tsdb_validfrom\" AS \"validityintervals_tsdb_validfrom\", \"validityintervals\".\"tsworld_validfrom\" AS \"validityintervals_tsworld_validfrom\", \"validityintervals\".\"tsdb_invalidfrom\" AS \"validityintervals_tsdb_invalidfrom\", \"validityintervals\".\"tsworld_invalidfrom\" AS \"validityintervals_tsworld_invalidfrom\", \"validityintervals\".\"is_committed\" AS \"validityintervals_is_committed\" FROM \"validityintervals\" WHERE ref_history = E'1' AND tsrdb @> TIMESTAMPTZ E'2038-01-18T03:14:06.999+00:00' AND tsrworld <@ tstzrange(E'2014-11-30T21:00:01.001+00:00',E'2038-01-19T03:14:06.999+00:00') AND is_committed=1 ORDER BY validityintervals.ref_version ASC\n",
      "└ @ SearchLightPostgreSQL /home/codespace/.julia/packages/SearchLightPostgreSQL/8KdWH/src/SearchLightPostgreSQL.jl:135\n",
      "┌ Info: shadowedDbId[2]\n",
      "└ @ BitemporalPostgres /workspaces/BitemporalPostgres.jl/src/BitemporalPostgres.jl:654\n",
      "┌ Info: SELECT \"testdummycomponentrevisions\".\"id\" AS \"testdummycomponentrevisions_id\", \"testdummycomponentrevisions\".\"ref_component\" AS \"testdummycomponentrevisions_ref_component\", \"testdummycomponentrevisions\".\"ref_validfrom\" AS \"testdummycomponentrevisions_ref_validfrom\", \"testdummycomponentrevisions\".\"ref_invalidfrom\" AS \"testdummycomponentrevisions_ref_invalidfrom\", \"testdummycomponentrevisions\".\"description\" AS \"testdummycomponentrevisions_description\" FROM \"testdummycomponentrevisions\" WHERE ref_validfrom = E'2' and ref_invalidfrom=E'9007199254740991' ORDER BY testdummycomponentrevisions.id ASC\n",
      "└ @ SearchLightPostgreSQL /home/codespace/.julia/packages/SearchLightPostgreSQL/8KdWH/src/SearchLightPostgreSQL.jl:135\n",
      "┌ Info: UPDATE testdummycomponentrevisions SET  \"id\" = E'2', \"ref_component\" = E'1', \"ref_validfrom\" = E'2', \"ref_invalidfrom\" = E'3', \"description\" = E'yellow' WHERE testdummycomponentrevisions.id = '2' RETURNING id\n",
      "└ @ SearchLightPostgreSQL /home/codespace/.julia/packages/SearchLightPostgreSQL/8KdWH/src/SearchLightPostgreSQL.jl:135\n",
      "NOTICE:  NEW: (2,1,2,3,\"[2,9007199254740991)\",yellow)\n",
      "┌ Info: SELECT \"testdummycomponentrevisions\".\"id\" AS \"testdummycomponentrevisions_id\", \"testdummycomponentrevisions\".\"ref_component\" AS \"testdummycomponentrevisions_ref_component\", \"testdummycomponentrevisions\".\"ref_validfrom\" AS \"testdummycomponentrevisions_ref_validfrom\", \"testdummycomponentrevisions\".\"ref_invalidfrom\" AS \"testdummycomponentrevisions_ref_invalidfrom\", \"testdummycomponentrevisions\".\"description\" AS \"testdummycomponentrevisions_description\" FROM \"testdummycomponentrevisions\" WHERE \"id\" = 2 ORDER BY testdummycomponentrevisions.id ASC\n",
      "└ @ SearchLightPostgreSQL /home/codespace/.julia/packages/SearchLightPostgreSQL/8KdWH/src/SearchLightPostgreSQL.jl:135\n",
      "┌ Info: toTerminateTestDummyComponentRevision(ref_validfrom::DbId=2,ref_invalidfrom::DbId=3,id::DbId=2,ref_component::DbId=1,description::String=yellow)\n",
      "└ @ BitemporalPostgres /workspaces/BitemporalPostgres.jl/src/BitemporalPostgres.jl:664\n",
      "┌ Info: SELECT \"testdummycomponentrevisions\".\"id\" AS \"testdummycomponentrevisions_id\", \"testdummycomponentrevisions\".\"ref_component\" AS \"testdummycomponentrevisions_ref_component\", \"testdummycomponentrevisions\".\"ref_validfrom\" AS \"testdummycomponentrevisions_ref_validfrom\", \"testdummycomponentrevisions\".\"ref_invalidfrom\" AS \"testdummycomponentrevisions_ref_invalidfrom\", \"testdummycomponentrevisions\".\"description\" AS \"testdummycomponentrevisions_description\" FROM \"testdummycomponentrevisions\" WHERE ref_validfrom < E'2' and ref_invalidfrom=E'2' ORDER BY testdummycomponentrevisions.id ASC\n",
      "└ @ SearchLightPostgreSQL /home/codespace/.julia/packages/SearchLightPostgreSQL/8KdWH/src/SearchLightPostgreSQL.jl:135\n",
      "┌ Info: to reviveTestDummyComponentRevision(ref_validfrom::DbId=3,ref_invalidfrom::DbId=9007199254740991,id::DbId=NULL,ref_component::DbId=1,description::String=blue)\n",
      "└ @ BitemporalPostgres /workspaces/BitemporalPostgres.jl/src/BitemporalPostgres.jl:679\n",
      "┌ Info: INSERT INTO testdummycomponentrevisions ( \"ref_component\", \"ref_validfrom\", \"ref_invalidfrom\", \"description\" ) VALUES ( E'1', E'3', E'9007199254740991', E'blue' ) RETURNING id\n",
      "└ @ SearchLightPostgreSQL /home/codespace/.julia/packages/SearchLightPostgreSQL/8KdWH/src/SearchLightPostgreSQL.jl:135\n",
      "NOTICE:  NEW: (3,1,3,9007199254740991,,blue)\n",
      "┌ Info: SELECT \"testdummycomponentrevisions\".\"id\" AS \"testdummycomponentrevisions_id\", \"testdummycomponentrevisions\".\"ref_component\" AS \"testdummycomponentrevisions_ref_component\", \"testdummycomponentrevisions\".\"ref_validfrom\" AS \"testdummycomponentrevisions_ref_validfrom\", \"testdummycomponentrevisions\".\"ref_invalidfrom\" AS \"testdummycomponentrevisions_ref_invalidfrom\", \"testdummycomponentrevisions\".\"description\" AS \"testdummycomponentrevisions_description\" FROM \"testdummycomponentrevisions\" WHERE \"id\" = 3 ORDER BY testdummycomponentrevisions.id ASC\n",
      "└ @ SearchLightPostgreSQL /home/codespace/.julia/packages/SearchLightPostgreSQL/8KdWH/src/SearchLightPostgreSQL.jl:135\n",
      "┌ Info: SELECT \"testdummysubcomponentrevisions\".\"id\" AS \"testdummysubcomponentrevisions_id\", \"testdummysubcomponentrevisions\".\"ref_component\" AS \"testdummysubcomponentrevisions_ref_component\", \"testdummysubcomponentrevisions\".\"ref_validfrom\" AS \"testdummysubcomponentrevisions_ref_validfrom\", \"testdummysubcomponentrevisions\".\"ref_invalidfrom\" AS \"testdummysubcomponentrevisions_ref_invalidfrom\", \"testdummysubcomponentrevisions\".\"description\" AS \"testdummysubcomponentrevisions_description\" FROM \"testdummysubcomponentrevisions\" WHERE ref_validfrom = E'2' and ref_invalidfrom=E'9007199254740991' ORDER BY testdummysubcomponentrevisions.id ASC\n",
      "└ @ SearchLightPostgreSQL /home/codespace/.julia/packages/SearchLightPostgreSQL/8KdWH/src/SearchLightPostgreSQL.jl:135\n",
      "┌ Info: SELECT \"testdummysubcomponentrevisions\".\"id\" AS \"testdummysubcomponentrevisions_id\", \"testdummysubcomponentrevisions\".\"ref_component\" AS \"testdummysubcomponentrevisions_ref_component\", \"testdummysubcomponentrevisions\".\"ref_validfrom\" AS \"testdummysubcomponentrevisions_ref_validfrom\", \"testdummysubcomponentrevisions\".\"ref_invalidfrom\" AS \"testdummysubcomponentrevisions_ref_invalidfrom\", \"testdummysubcomponentrevisions\".\"description\" AS \"testdummysubcomponentrevisions_description\" FROM \"testdummysubcomponentrevisions\" WHERE ref_validfrom < E'2' and ref_invalidfrom=E'2' ORDER BY testdummysubcomponentrevisions.id ASC\n",
      "└ @ SearchLightPostgreSQL /home/codespace/.julia/packages/SearchLightPostgreSQL/8KdWH/src/SearchLightPostgreSQL.jl:135\n",
      "┌ Info: COMMIT\n",
      "└ @ SearchLightPostgreSQL /home/codespace/.julia/packages/SearchLightPostgreSQL/8KdWH/src/SearchLightPostgreSQL.jl:135\n",
      "┌ Info: SELECT \"testdummycomponentrevisions\".\"id\" AS \"testdummycomponentrevisions_id\", \"testdummycomponentrevisions\".\"ref_component\" AS \"testdummycomponentrevisions_ref_component\", \"testdummycomponentrevisions\".\"ref_validfrom\" AS \"testdummycomponentrevisions_ref_validfrom\", \"testdummycomponentrevisions\".\"ref_invalidfrom\" AS \"testdummycomponentrevisions_ref_invalidfrom\", \"testdummycomponentrevisions\".\"description\" AS \"testdummycomponentrevisions_description\" FROM \"testdummycomponentrevisions\" WHERE ref_component = E'1' AND ref_valid @> BIGINT E'3' ORDER BY testdummycomponentrevisions.id ASC\n",
      "└ @ SearchLightPostgreSQL /home/codespace/.julia/packages/SearchLightPostgreSQL/8KdWH/src/SearchLightPostgreSQL.jl:135\n"
     ]
    },
    {
     "data": {
      "text/plain": [
       "TestDummyComponentRevision\n",
       "| KEY                   | VALUE            |\n",
       "|-----------------------|------------------|\n",
       "| description::String   | red              |\n",
       "| id::DbId              | NULL             |\n",
       "| ref_component::DbId   | 1                |\n",
       "| ref_invalidfrom::DbId | 9007199254740991 |\n",
       "| ref_validfrom::DbId   | 9007199254740991 |\n"
      ]
     },
     "metadata": {},
     "output_type": "display_data"
    }
   ],
   "source": [
    "update_entity!(w3redshadow)\n",
    "t1r1blue = findcomponentrevision(TestDummyComponentRevision, t1.id, w3redshadow.ref_version)[1]\n",
    "t1r3red = copy(t1r1blue)\n",
    "t1r3red.description = \"red\"\n",
    "t1r3red"
   ]
  },
  {
   "cell_type": "code",
   "execution_count": 12,
   "metadata": {},
   "outputs": [
    {
     "name": "stderr",
     "output_type": "stream",
     "text": [
      "┌ Info: BEGIN\n",
      "└ @ SearchLightPostgreSQL /home/codespace/.julia/packages/SearchLightPostgreSQL/8KdWH/src/SearchLightPostgreSQL.jl:135\n",
      "┌ Info: UPDATE testdummycomponentrevisions SET  \"id\" = E'3', \"ref_component\" = E'1', \"ref_validfrom\" = E'3', \"ref_invalidfrom\" = E'3', \"description\" = E'blue' WHERE testdummycomponentrevisions.id = '3' RETURNING id\n",
      "└ @ SearchLightPostgreSQL /home/codespace/.julia/packages/SearchLightPostgreSQL/8KdWH/src/SearchLightPostgreSQL.jl:135\n",
      "NOTICE:  NEW: (3,1,3,3,\"[3,9007199254740991)\",blue)\n",
      "┌ Info: SELECT \"testdummycomponentrevisions\".\"id\" AS \"testdummycomponentrevisions_id\", \"testdummycomponentrevisions\".\"ref_component\" AS \"testdummycomponentrevisions_ref_component\", \"testdummycomponentrevisions\".\"ref_validfrom\" AS \"testdummycomponentrevisions_ref_validfrom\", \"testdummycomponentrevisions\".\"ref_invalidfrom\" AS \"testdummycomponentrevisions_ref_invalidfrom\", \"testdummycomponentrevisions\".\"description\" AS \"testdummycomponentrevisions_description\" FROM \"testdummycomponentrevisions\" WHERE \"id\" = 3 ORDER BY testdummycomponentrevisions.id ASC\n",
      "└ @ SearchLightPostgreSQL /home/codespace/.julia/packages/SearchLightPostgreSQL/8KdWH/src/SearchLightPostgreSQL.jl:135\n",
      "┌ Info: INSERT INTO testdummycomponentrevisions ( \"ref_component\", \"ref_validfrom\", \"ref_invalidfrom\", \"description\" ) VALUES ( E'1', E'3', E'9007199254740991', E'red' ) RETURNING id\n",
      "└ @ SearchLightPostgreSQL /home/codespace/.julia/packages/SearchLightPostgreSQL/8KdWH/src/SearchLightPostgreSQL.jl:135\n",
      "NOTICE:  NEW: (4,1,3,9007199254740991,,red)\n",
      "┌ Info: SELECT \"testdummycomponentrevisions\".\"id\" AS \"testdummycomponentrevisions_id\", \"testdummycomponentrevisions\".\"ref_component\" AS \"testdummycomponentrevisions_ref_component\", \"testdummycomponentrevisions\".\"ref_validfrom\" AS \"testdummycomponentrevisions_ref_validfrom\", \"testdummycomponentrevisions\".\"ref_invalidfrom\" AS \"testdummycomponentrevisions_ref_invalidfrom\", \"testdummycomponentrevisions\".\"description\" AS \"testdummycomponentrevisions_description\" FROM \"testdummycomponentrevisions\" WHERE \"id\" = 4 ORDER BY testdummycomponentrevisions.id ASC\n",
      "└ @ SearchLightPostgreSQL /home/codespace/.julia/packages/SearchLightPostgreSQL/8KdWH/src/SearchLightPostgreSQL.jl:135\n",
      "┌ Info: COMMIT\n",
      "└ @ SearchLightPostgreSQL /home/codespace/.julia/packages/SearchLightPostgreSQL/8KdWH/src/SearchLightPostgreSQL.jl:135\n"
     ]
    },
    {
     "data": {
      "text/plain": [
       "\u001b[32m\u001b[1mTest Passed\u001b[22m\u001b[39m"
      ]
     },
     "metadata": {},
     "output_type": "display_data"
    }
   ],
   "source": [
    "update_component!(t1r1blue, t1r3red, w3redshadow)\n",
    "@test w3redshadow.ref_version == t1r3red.ref_validfrom\n"
   ]
  },
  {
   "cell_type": "markdown",
   "metadata": {},
   "source": [
    "### 2.3.4 Committing workflow 3"
   ]
  },
  {
   "cell_type": "code",
   "execution_count": 13,
   "metadata": {},
   "outputs": [
    {
     "name": "stderr",
     "output_type": "stream",
     "text": [
      "┌ Info: BEGIN\n",
      "└ @ SearchLightPostgreSQL /home/codespace/.julia/packages/SearchLightPostgreSQL/8KdWH/src/SearchLightPostgreSQL.jl:135\n",
      "┌ Info: SELECT \"validityintervals\".\"id\" AS \"validityintervals_id\", \"validityintervals\".\"ref_history\" AS \"validityintervals_ref_history\", \"validityintervals\".\"ref_version\" AS \"validityintervals_ref_version\", \"validityintervals\".\"tsdb_validfrom\" AS \"validityintervals_tsdb_validfrom\", \"validityintervals\".\"tsworld_validfrom\" AS \"validityintervals_tsworld_validfrom\", \"validityintervals\".\"tsdb_invalidfrom\" AS \"validityintervals_tsdb_invalidfrom\", \"validityintervals\".\"tsworld_invalidfrom\" AS \"validityintervals_tsworld_invalidfrom\", \"validityintervals\".\"is_committed\" AS \"validityintervals_is_committed\" FROM \"validityintervals\" WHERE ref_version = E'3' AND is_committed = 0 ORDER BY validityintervals.id ASC\n",
      "└ @ SearchLightPostgreSQL /home/codespace/.julia/packages/SearchLightPostgreSQL/8KdWH/src/SearchLightPostgreSQL.jl:135\n",
      "┌ Info: SELECT \"validityintervals\".\"id\" AS \"validityintervals_id\", \"validityintervals\".\"ref_history\" AS \"validityintervals_ref_history\", \"validityintervals\".\"ref_version\" AS \"validityintervals_ref_version\", \"validityintervals\".\"tsdb_validfrom\" AS \"validityintervals_tsdb_validfrom\", \"validityintervals\".\"tsworld_validfrom\" AS \"validityintervals_tsworld_validfrom\", \"validityintervals\".\"tsdb_invalidfrom\" AS \"validityintervals_tsdb_invalidfrom\", \"validityintervals\".\"tsworld_invalidfrom\" AS \"validityintervals_tsworld_invalidfrom\", \"validityintervals\".\"is_committed\" AS \"validityintervals_is_committed\" FROM \"validityintervals\" WHERE ref_history = E'1' AND tsrdb @> TIMESTAMPTZ E'2038-01-18T03:14:06.999+00:00' AND tsrworld <@ tstzrange(E'2014-12-01T21:00:01.001+00:00',E'2038-01-19T03:14:06.999+00:00') AND is_committed=1 ORDER BY validityintervals.id ASC\n",
      "└ @ SearchLightPostgreSQL /home/codespace/.julia/packages/SearchLightPostgreSQL/8KdWH/src/SearchLightPostgreSQL.jl:135\n",
      "┌ Info: UPDATE validityintervals SET  \"id\" = E'2', \"ref_history\" = E'1', \"ref_version\" = E'2', \"tsdb_validfrom\" = E'2024-06-04T09:10:33.099+00:00', \"tsworld_validfrom\" = E'2015-05-30T21:00:01.001+00:00', \"tsdb_invalidfrom\" = E'2024-06-04T09:10:35.111+00:00', \"tsworld_invalidfrom\" = E'2038-01-19T03:14:06.999+00:00', \"is_committed\" = 1 WHERE validityintervals.id = '2' RETURNING id\n",
      "└ @ SearchLightPostgreSQL /home/codespace/.julia/packages/SearchLightPostgreSQL/8KdWH/src/SearchLightPostgreSQL.jl:135\n",
      "NOTICE:  NEW: (2,1,2,\"2015-05-30 21:00:01.001+00\",\"2038-01-19 03:14:06.999+00\",\"2024-06-04 09:10:33.099+00\",\"2024-06-04 09:10:35.111+00\",\"[\"\"2015-05-30 21:00:01.001+00\"\",\"\"2038-01-19 03:14:06.999+00\"\")\",\"[\"\"2024-06-04 09:10:33.099+00\"\",\"\"2038-01-19 03:14:06.999+00\"\")\",1)\n",
      "┌ Info: SELECT \"validityintervals\".\"id\" AS \"validityintervals_id\", \"validityintervals\".\"ref_history\" AS \"validityintervals_ref_history\", \"validityintervals\".\"ref_version\" AS \"validityintervals_ref_version\", \"validityintervals\".\"tsdb_validfrom\" AS \"validityintervals_tsdb_validfrom\", \"validityintervals\".\"tsworld_validfrom\" AS \"validityintervals_tsworld_validfrom\", \"validityintervals\".\"tsdb_invalidfrom\" AS \"validityintervals_tsdb_invalidfrom\", \"validityintervals\".\"tsworld_invalidfrom\" AS \"validityintervals_tsworld_invalidfrom\", \"validityintervals\".\"is_committed\" AS \"validityintervals_is_committed\" FROM \"validityintervals\" WHERE \"id\" = 2 ORDER BY validityintervals.id ASC\n",
      "└ @ SearchLightPostgreSQL /home/codespace/.julia/packages/SearchLightPostgreSQL/8KdWH/src/SearchLightPostgreSQL.jl:135\n",
      "┌ Info: SELECT \"validityintervals\".\"id\" AS \"validityintervals_id\", \"validityintervals\".\"ref_history\" AS \"validityintervals_ref_history\", \"validityintervals\".\"ref_version\" AS \"validityintervals_ref_version\", \"validityintervals\".\"tsdb_validfrom\" AS \"validityintervals_tsdb_validfrom\", \"validityintervals\".\"tsworld_validfrom\" AS \"validityintervals_tsworld_validfrom\", \"validityintervals\".\"tsdb_invalidfrom\" AS \"validityintervals_tsdb_invalidfrom\", \"validityintervals\".\"tsworld_invalidfrom\" AS \"validityintervals_tsworld_invalidfrom\", \"validityintervals\".\"is_committed\" AS \"validityintervals_is_committed\" FROM \"validityintervals\" WHERE ref_history = E'1' AND tsrdb @> TIMESTAMPTZ E'2038-01-18T03:14:06.999+00:00' AND tsrworld && tstzrange(E'2014-12-01T21:00:01.001+00:00',E'2038-01-19T03:14:06.999+00:00') AND is_committed=1 ORDER BY validityintervals.id ASC\n",
      "└ @ SearchLightPostgreSQL /home/codespace/.julia/packages/SearchLightPostgreSQL/8KdWH/src/SearchLightPostgreSQL.jl:135\n",
      "┌ Info: UPDATE validityintervals SET  \"id\" = E'3', \"ref_history\" = E'1', \"ref_version\" = E'1', \"tsdb_validfrom\" = E'2024-06-04T09:10:33.099+00:00', \"tsworld_validfrom\" = E'2014-05-30T21:00:01.001+00:00', \"tsdb_invalidfrom\" = E'2024-06-04T09:10:35.111+00:00', \"tsworld_invalidfrom\" = E'2015-05-30T21:00:01.001+00:00', \"is_committed\" = 1 WHERE validityintervals.id = '3' RETURNING id\n",
      "└ @ SearchLightPostgreSQL /home/codespace/.julia/packages/SearchLightPostgreSQL/8KdWH/src/SearchLightPostgreSQL.jl:135\n",
      "NOTICE:  NEW: (3,1,1,\"2014-05-30 21:00:01.001+00\",\"2015-05-30 21:00:01.001+00\",\"2024-06-04 09:10:33.099+00\",\"2024-06-04 09:10:35.111+00\",\"[\"\"2014-05-30 21:00:01.001+00\"\",\"\"2015-05-30 21:00:01.001+00\"\")\",\"[\"\"2024-06-04 09:10:33.099+00\"\",\"\"2038-01-19 03:14:06.999+00\"\")\",1)\n",
      "┌ Info: SELECT \"validityintervals\".\"id\" AS \"validityintervals_id\", \"validityintervals\".\"ref_history\" AS \"validityintervals_ref_history\", \"validityintervals\".\"ref_version\" AS \"validityintervals_ref_version\", \"validityintervals\".\"tsdb_validfrom\" AS \"validityintervals_tsdb_validfrom\", \"validityintervals\".\"tsworld_validfrom\" AS \"validityintervals_tsworld_validfrom\", \"validityintervals\".\"tsdb_invalidfrom\" AS \"validityintervals_tsdb_invalidfrom\", \"validityintervals\".\"tsworld_invalidfrom\" AS \"validityintervals_tsworld_invalidfrom\", \"validityintervals\".\"is_committed\" AS \"validityintervals_is_committed\" FROM \"validityintervals\" WHERE \"id\" = 3 ORDER BY validityintervals.id ASC\n",
      "└ @ SearchLightPostgreSQL /home/codespace/.julia/packages/SearchLightPostgreSQL/8KdWH/src/SearchLightPostgreSQL.jl:135\n",
      "┌ Info: INSERT INTO validityintervals ( \"ref_history\", \"ref_version\", \"tsdb_validfrom\", \"tsworld_validfrom\", \"tsdb_invalidfrom\", \"tsworld_invalidfrom\", \"is_committed\" ) VALUES ( E'1', E'1', E'2024-06-04T09:10:35.111+00:00', E'2014-05-30T21:00:01.001+00:00', E'2038-01-19T03:14:06.999+00:00', E'2014-11-30T21:00:01.001+00:00', 1 ) RETURNING id\n",
      "└ @ SearchLightPostgreSQL /home/codespace/.julia/packages/SearchLightPostgreSQL/8KdWH/src/SearchLightPostgreSQL.jl:135\n",
      "NOTICE:  NEW: (5,1,1,\"2014-05-30 21:00:01.001+00\",\"2014-11-30 21:00:01.001+00\",\"2024-06-04 09:10:35.111+00\",\"2038-01-19 03:14:06.999+00\",,,1)\n",
      "┌ Info: SELECT \"validityintervals\".\"id\" AS \"validityintervals_id\", \"validityintervals\".\"ref_history\" AS \"validityintervals_ref_history\", \"validityintervals\".\"ref_version\" AS \"validityintervals_ref_version\", \"validityintervals\".\"tsdb_validfrom\" AS \"validityintervals_tsdb_validfrom\", \"validityintervals\".\"tsworld_validfrom\" AS \"validityintervals_tsworld_validfrom\", \"validityintervals\".\"tsdb_invalidfrom\" AS \"validityintervals_tsdb_invalidfrom\", \"validityintervals\".\"tsworld_invalidfrom\" AS \"validityintervals_tsworld_invalidfrom\", \"validityintervals\".\"is_committed\" AS \"validityintervals_is_committed\" FROM \"validityintervals\" WHERE \"id\" = 5 ORDER BY validityintervals.id ASC\n",
      "└ @ SearchLightPostgreSQL /home/codespace/.julia/packages/SearchLightPostgreSQL/8KdWH/src/SearchLightPostgreSQL.jl:135\n",
      "┌ Info: UPDATE validityintervals SET  \"id\" = E'4', \"ref_history\" = E'1', \"ref_version\" = E'3', \"tsdb_validfrom\" = E'2024-06-04T09:10:35.111+00:00', \"tsworld_validfrom\" = E'2014-11-30T21:00:01.001+00:00', \"tsdb_invalidfrom\" = E'2038-01-19T03:14:06.999+00:00', \"tsworld_invalidfrom\" = E'2038-01-19T03:14:06.999+00:00', \"is_committed\" = 1 WHERE validityintervals.id = '4' RETURNING id\n",
      "└ @ SearchLightPostgreSQL /home/codespace/.julia/packages/SearchLightPostgreSQL/8KdWH/src/SearchLightPostgreSQL.jl:135\n",
      "NOTICE:  NEW: (4,1,3,\"2014-11-30 21:00:01.001+00\",\"2038-01-19 03:14:06.999+00\",\"2024-06-04 09:10:35.111+00\",\"2038-01-19 03:14:06.999+00\",\"[\"\"2014-11-30 21:00:01.001+00\"\",\"\"2038-01-19 03:14:06.999+00\"\")\",\"[\"\"2024-06-04 09:10:34.544+00\"\",\"\"2038-01-19 03:14:06.999+00\"\")\",1)\n",
      "┌ Info: SELECT \"validityintervals\".\"id\" AS \"validityintervals_id\", \"validityintervals\".\"ref_history\" AS \"validityintervals_ref_history\", \"validityintervals\".\"ref_version\" AS \"validityintervals_ref_version\", \"validityintervals\".\"tsdb_validfrom\" AS \"validityintervals_tsdb_validfrom\", \"validityintervals\".\"tsworld_validfrom\" AS \"validityintervals_tsworld_validfrom\", \"validityintervals\".\"tsdb_invalidfrom\" AS \"validityintervals_tsdb_invalidfrom\", \"validityintervals\".\"tsworld_invalidfrom\" AS \"validityintervals_tsworld_invalidfrom\", \"validityintervals\".\"is_committed\" AS \"validityintervals_is_committed\" FROM \"validityintervals\" WHERE \"id\" = 4 ORDER BY validityintervals.id ASC\n",
      "└ @ SearchLightPostgreSQL /home/codespace/.julia/packages/SearchLightPostgreSQL/8KdWH/src/SearchLightPostgreSQL.jl:135\n",
      "┌ Info: UPDATE workflows SET  \"id\" = E'3', \"ref_history\" = E'1', \"ref_version\" = E'3', \"tsdb_validfrom\" = E'2024-06-04T09:10:35.111+00:00', \"tsw_validfrom\" = E'2014-11-30T21:00:01.001+00:00', \"is_committed\" = 1, \"type_of_entity\" = E'TestDummyComponent' WHERE workflows.id = '3' RETURNING id\n",
      "└ @ SearchLightPostgreSQL /home/codespace/.julia/packages/SearchLightPostgreSQL/8KdWH/src/SearchLightPostgreSQL.jl:135\n",
      "┌ Info: SELECT \"workflows\".\"id\" AS \"workflows_id\", \"workflows\".\"ref_history\" AS \"workflows_ref_history\", \"workflows\".\"ref_version\" AS \"workflows_ref_version\", \"workflows\".\"tsdb_validfrom\" AS \"workflows_tsdb_validfrom\", \"workflows\".\"tsw_validfrom\" AS \"workflows_tsw_validfrom\", \"workflows\".\"is_committed\" AS \"workflows_is_committed\", \"workflows\".\"type_of_entity\" AS \"workflows_type_of_entity\" FROM \"workflows\" WHERE \"id\" = 3 ORDER BY workflows.id ASC\n",
      "└ @ SearchLightPostgreSQL /home/codespace/.julia/packages/SearchLightPostgreSQL/8KdWH/src/SearchLightPostgreSQL.jl:135\n",
      "┌ Info: COMMIT\n",
      "└ @ SearchLightPostgreSQL /home/codespace/.julia/packages/SearchLightPostgreSQL/8KdWH/src/SearchLightPostgreSQL.jl:135\n"
     ]
    },
    {
     "data": {
      "text/plain": [
       "\u001b[32m\u001b[1mTest Passed\u001b[22m\u001b[39m"
      ]
     },
     "metadata": {},
     "output_type": "display_data"
    }
   ],
   "source": [
    "commit_workflow!(w3redshadow)\n",
    "@test w3redshadow.is_committed == 1"
   ]
  },
  {
   "cell_type": "markdown",
   "metadata": {},
   "source": [
    "# 3 Testing \n",
    "For each workflow \n",
    "* as of its intervals valid from points\n",
    "* as of its intervals db valid from and 1 second before its world validfrom"
   ]
  },
  {
   "cell_type": "code",
   "execution_count": 14,
   "metadata": {},
   "outputs": [
    {
     "name": "stderr",
     "output_type": "stream",
     "text": [
      "┌ Info: SELECT \"validityintervals\".\"id\" AS \"validityintervals_id\", \"validityintervals\".\"ref_history\" AS \"validityintervals_ref_history\", \"validityintervals\".\"ref_version\" AS \"validityintervals_ref_version\", \"validityintervals\".\"tsdb_validfrom\" AS \"validityintervals_tsdb_validfrom\", \"validityintervals\".\"tsworld_validfrom\" AS \"validityintervals_tsworld_validfrom\", \"validityintervals\".\"tsdb_invalidfrom\" AS \"validityintervals_tsdb_invalidfrom\", \"validityintervals\".\"tsworld_invalidfrom\" AS \"validityintervals_tsworld_invalidfrom\", \"validityintervals\".\"is_committed\" AS \"validityintervals_is_committed\" FROM \"validityintervals\" WHERE ref_history=E'1' and tsrworld @> TIMESTAMPTZ E'2014-05-30T21:00:01.001+00:00' AND tsrdb @> TIMESTAMPTZ E'2024-06-04T09:10:32.384+00:00' AND is_committed = 1 ORDER BY validityintervals.id ASC\n",
      "└ @ SearchLightPostgreSQL /home/codespace/.julia/packages/SearchLightPostgreSQL/8KdWH/src/SearchLightPostgreSQL.jl:135\n",
      "┌ Info: SELECT \"testdummycomponentrevisions\".\"id\" AS \"testdummycomponentrevisions_id\", \"testdummycomponentrevisions\".\"ref_component\" AS \"testdummycomponentrevisions_ref_component\", \"testdummycomponentrevisions\".\"ref_validfrom\" AS \"testdummycomponentrevisions_ref_validfrom\", \"testdummycomponentrevisions\".\"ref_invalidfrom\" AS \"testdummycomponentrevisions_ref_invalidfrom\", \"testdummycomponentrevisions\".\"description\" AS \"testdummycomponentrevisions_description\" FROM \"testdummycomponentrevisions\" WHERE ref_component = E'1' AND ref_valid @> BIGINT E'1' ORDER BY testdummycomponentrevisions.id ASC\n",
      "└ @ SearchLightPostgreSQL /home/codespace/.julia/packages/SearchLightPostgreSQL/8KdWH/src/SearchLightPostgreSQL.jl:135\n",
      "┌ Info: SELECT \"validityintervals\".\"id\" AS \"validityintervals_id\", \"validityintervals\".\"ref_history\" AS \"validityintervals_ref_history\", \"validityintervals\".\"ref_version\" AS \"validityintervals_ref_version\", \"validityintervals\".\"tsdb_validfrom\" AS \"validityintervals_tsdb_validfrom\", \"validityintervals\".\"tsworld_validfrom\" AS \"validityintervals_tsworld_validfrom\", \"validityintervals\".\"tsdb_invalidfrom\" AS \"validityintervals_tsdb_invalidfrom\", \"validityintervals\".\"tsworld_invalidfrom\" AS \"validityintervals_tsworld_invalidfrom\", \"validityintervals\".\"is_committed\" AS \"validityintervals_is_committed\" FROM \"validityintervals\" WHERE ref_history=E'1' and tsrworld @> TIMESTAMPTZ E'2015-05-30T21:00:01.001+00:00' AND tsrdb @> TIMESTAMPTZ E'2024-06-04T09:10:33.099+00:00' AND is_committed = 1 ORDER BY validityintervals.id ASC\n",
      "└ @ SearchLightPostgreSQL /home/codespace/.julia/packages/SearchLightPostgreSQL/8KdWH/src/SearchLightPostgreSQL.jl:135\n",
      "┌ Info: SELECT \"testdummycomponentrevisions\".\"id\" AS \"testdummycomponentrevisions_id\", \"testdummycomponentrevisions\".\"ref_component\" AS \"testdummycomponentrevisions_ref_component\", \"testdummycomponentrevisions\".\"ref_validfrom\" AS \"testdummycomponentrevisions_ref_validfrom\", \"testdummycomponentrevisions\".\"ref_invalidfrom\" AS \"testdummycomponentrevisions_ref_invalidfrom\", \"testdummycomponentrevisions\".\"description\" AS \"testdummycomponentrevisions_description\" FROM \"testdummycomponentrevisions\" WHERE ref_component = E'1' AND ref_valid @> BIGINT E'2' ORDER BY testdummycomponentrevisions.id ASC\n",
      "└ @ SearchLightPostgreSQL /home/codespace/.julia/packages/SearchLightPostgreSQL/8KdWH/src/SearchLightPostgreSQL.jl:135\n",
      "┌ Info: SELECT \"validityintervals\".\"id\" AS \"validityintervals_id\", \"validityintervals\".\"ref_history\" AS \"validityintervals_ref_history\", \"validityintervals\".\"ref_version\" AS \"validityintervals_ref_version\", \"validityintervals\".\"tsdb_validfrom\" AS \"validityintervals_tsdb_validfrom\", \"validityintervals\".\"tsworld_validfrom\" AS \"validityintervals_tsworld_validfrom\", \"validityintervals\".\"tsdb_invalidfrom\" AS \"validityintervals_tsdb_invalidfrom\", \"validityintervals\".\"tsworld_invalidfrom\" AS \"validityintervals_tsworld_invalidfrom\", \"validityintervals\".\"is_committed\" AS \"validityintervals_is_committed\" FROM \"validityintervals\" WHERE ref_history=E'1' and tsrworld @> TIMESTAMPTZ E'2015-05-30T21:00:00.001+00:00' AND tsrdb @> TIMESTAMPTZ E'2024-06-04T09:10:33.099+00:00' AND is_committed = 1 ORDER BY validityintervals.id ASC\n",
      "└ @ SearchLightPostgreSQL /home/codespace/.julia/packages/SearchLightPostgreSQL/8KdWH/src/SearchLightPostgreSQL.jl:135\n",
      "┌ Info: SELECT \"testdummycomponentrevisions\".\"id\" AS \"testdummycomponentrevisions_id\", \"testdummycomponentrevisions\".\"ref_component\" AS \"testdummycomponentrevisions_ref_component\", \"testdummycomponentrevisions\".\"ref_validfrom\" AS \"testdummycomponentrevisions_ref_validfrom\", \"testdummycomponentrevisions\".\"ref_invalidfrom\" AS \"testdummycomponentrevisions_ref_invalidfrom\", \"testdummycomponentrevisions\".\"description\" AS \"testdummycomponentrevisions_description\" FROM \"testdummycomponentrevisions\" WHERE ref_component = E'1' AND ref_valid @> BIGINT E'1' ORDER BY testdummycomponentrevisions.id ASC\n",
      "└ @ SearchLightPostgreSQL /home/codespace/.julia/packages/SearchLightPostgreSQL/8KdWH/src/SearchLightPostgreSQL.jl:135\n",
      "┌ Info: SELECT \"validityintervals\".\"id\" AS \"validityintervals_id\", \"validityintervals\".\"ref_history\" AS \"validityintervals_ref_history\", \"validityintervals\".\"ref_version\" AS \"validityintervals_ref_version\", \"validityintervals\".\"tsdb_validfrom\" AS \"validityintervals_tsdb_validfrom\", \"validityintervals\".\"tsworld_validfrom\" AS \"validityintervals_tsworld_validfrom\", \"validityintervals\".\"tsdb_invalidfrom\" AS \"validityintervals_tsdb_invalidfrom\", \"validityintervals\".\"tsworld_invalidfrom\" AS \"validityintervals_tsworld_invalidfrom\", \"validityintervals\".\"is_committed\" AS \"validityintervals_is_committed\" FROM \"validityintervals\" WHERE ref_history=E'1' and tsrworld @> TIMESTAMPTZ E'2014-11-30T21:00:01.001+00:00' AND tsrdb @> TIMESTAMPTZ E'2024-06-04T09:10:35.111+00:00' AND is_committed = 1 ORDER BY validityintervals.id ASC\n",
      "└ @ SearchLightPostgreSQL /home/codespace/.julia/packages/SearchLightPostgreSQL/8KdWH/src/SearchLightPostgreSQL.jl:135\n",
      "┌ Info: SELECT \"testdummycomponentrevisions\".\"id\" AS \"testdummycomponentrevisions_id\", \"testdummycomponentrevisions\".\"ref_component\" AS \"testdummycomponentrevisions_ref_component\", \"testdummycomponentrevisions\".\"ref_validfrom\" AS \"testdummycomponentrevisions_ref_validfrom\", \"testdummycomponentrevisions\".\"ref_invalidfrom\" AS \"testdummycomponentrevisions_ref_invalidfrom\", \"testdummycomponentrevisions\".\"description\" AS \"testdummycomponentrevisions_description\" FROM \"testdummycomponentrevisions\" WHERE ref_component = E'1' AND ref_valid @> BIGINT E'3' ORDER BY testdummycomponentrevisions.id ASC\n",
      "└ @ SearchLightPostgreSQL /home/codespace/.julia/packages/SearchLightPostgreSQL/8KdWH/src/SearchLightPostgreSQL.jl:135\n",
      "┌ Info: SELECT \"validityintervals\".\"id\" AS \"validityintervals_id\", \"validityintervals\".\"ref_history\" AS \"validityintervals_ref_history\", \"validityintervals\".\"ref_version\" AS \"validityintervals_ref_version\", \"validityintervals\".\"tsdb_validfrom\" AS \"validityintervals_tsdb_validfrom\", \"validityintervals\".\"tsworld_validfrom\" AS \"validityintervals_tsworld_validfrom\", \"validityintervals\".\"tsdb_invalidfrom\" AS \"validityintervals_tsdb_invalidfrom\", \"validityintervals\".\"tsworld_invalidfrom\" AS \"validityintervals_tsworld_invalidfrom\", \"validityintervals\".\"is_committed\" AS \"validityintervals_is_committed\" FROM \"validityintervals\" WHERE ref_history=E'1' and tsrworld @> TIMESTAMPTZ E'2014-11-30T21:00:00.001+00:00' AND tsrdb @> TIMESTAMPTZ E'2024-06-04T09:10:35.111+00:00' AND is_committed = 1 ORDER BY validityintervals.id ASC\n",
      "└ @ SearchLightPostgreSQL /home/codespace/.julia/packages/SearchLightPostgreSQL/8KdWH/src/SearchLightPostgreSQL.jl:135\n",
      "┌ Info: SELECT \"testdummycomponentrevisions\".\"id\" AS \"testdummycomponentrevisions_id\", \"testdummycomponentrevisions\".\"ref_component\" AS \"testdummycomponentrevisions_ref_component\", \"testdummycomponentrevisions\".\"ref_validfrom\" AS \"testdummycomponentrevisions_ref_validfrom\", \"testdummycomponentrevisions\".\"ref_invalidfrom\" AS \"testdummycomponentrevisions_ref_invalidfrom\", \"testdummycomponentrevisions\".\"description\" AS \"testdummycomponentrevisions_description\" FROM \"testdummycomponentrevisions\" WHERE ref_component = E'1' AND ref_valid @> BIGINT E'1' ORDER BY testdummycomponentrevisions.id ASC\n",
      "└ @ SearchLightPostgreSQL /home/codespace/.julia/packages/SearchLightPostgreSQL/8KdWH/src/SearchLightPostgreSQL.jl:135\n"
     ]
    },
    {
     "data": {
      "text/plain": [
       "\u001b[32m\u001b[1mTest Passed\u001b[22m\u001b[39m"
      ]
     },
     "metadata": {},
     "output_type": "display_data"
    }
   ],
   "source": [
    "v1 = findversion(w1blue.ref_history, w1blue.tsdb_validfrom, w1blue.tsw_validfrom)\n",
    "\n",
    "@test findcomponentrevision(TestDummyComponentRevision, t1.id, v1)[1].description == \"blue\"\n",
    "\n",
    "v2 = findversion(w2yellow.ref_history, w2yellow.tsdb_validfrom, w2yellow.tsw_validfrom)\n",
    "\n",
    "@test findcomponentrevision(TestDummyComponentRevision, t1.id, v2)[1].description == \"yellow\"\n",
    "\n",
    "v2a = findversion(w2yellow.ref_history, w2yellow.tsdb_validfrom, w2yellow.tsw_validfrom - Dates.Second(1))\n",
    "\n",
    "@test findcomponentrevision(TestDummyComponentRevision, t1.id, v2a)[1].description == \"blue\"\n",
    "\n",
    "v3 = findversion(w3redshadow.ref_history, w3redshadow.tsdb_validfrom, w3redshadow.tsw_validfrom)\n",
    "\n",
    "@test findcomponentrevision(TestDummyComponentRevision, t1.id, v3)[1].description == \"red\"\n",
    "\n",
    "v3a = findversion(w3redshadow.ref_history, w3redshadow.tsdb_validfrom, w3redshadow.tsw_validfrom - Dates.Second(1))\n",
    "\n",
    "@test findcomponentrevision(TestDummyComponentRevision, t1.id, v3a)[1].description == \"blue\"\n"
   ]
  },
  {
   "cell_type": "code",
   "execution_count": 15,
   "metadata": {},
   "outputs": [
    {
     "name": "stdout",
     "output_type": "stream",
     "text": [
      "1\n"
     ]
    },
    {
     "name": "stderr",
     "output_type": "stream",
     "text": [
      "┌ Info: SELECT \"validityintervals\".\"id\" AS \"validityintervals_id\", \"validityintervals\".\"ref_history\" AS \"validityintervals_ref_history\", \"validityintervals\".\"ref_version\" AS \"validityintervals_ref_version\", \"validityintervals\".\"tsdb_validfrom\" AS \"validityintervals_tsdb_validfrom\", \"validityintervals\".\"tsworld_validfrom\" AS \"validityintervals_tsworld_validfrom\", \"validityintervals\".\"tsdb_invalidfrom\" AS \"validityintervals_tsdb_invalidfrom\", \"validityintervals\".\"tsworld_invalidfrom\" AS \"validityintervals_tsworld_invalidfrom\", \"validityintervals\".\"is_committed\" AS \"validityintervals_is_committed\" FROM \"validityintervals\" WHERE ref_history=E'1' and tsrworld @> TIMESTAMPTZ E'2014-05-30T21:00:01.001+00:00' AND tsrdb @> TIMESTAMPTZ E'2024-06-04T09:10:32.384+00:00' AND is_committed = 1 ORDER BY validityintervals.id ASC\n",
      "└ @ SearchLightPostgreSQL /home/codespace/.julia/packages/SearchLightPostgreSQL/8KdWH/src/SearchLightPostgreSQL.jl:135\n",
      "┌ Info: SELECT \"testdummysubcomponentrevisions\".\"id\" AS \"testdummysubcomponentrevisions_id\", \"testdummysubcomponentrevisions\".\"ref_component\" AS \"testdummysubcomponentrevisions_ref_component\", \"testdummysubcomponentrevisions\".\"ref_validfrom\" AS \"testdummysubcomponentrevisions_ref_validfrom\", \"testdummysubcomponentrevisions\".\"ref_invalidfrom\" AS \"testdummysubcomponentrevisions_ref_invalidfrom\", \"testdummysubcomponentrevisions\".\"description\" AS \"testdummysubcomponentrevisions_description\" FROM \"testdummysubcomponentrevisions\" WHERE ref_component = E'1' AND ref_valid @> BIGINT E'1' ORDER BY testdummysubcomponentrevisions.id ASC\n",
      "└ @ SearchLightPostgreSQL /home/codespace/.julia/packages/SearchLightPostgreSQL/8KdWH/src/SearchLightPostgreSQL.jl:135\n"
     ]
    },
    {
     "name": "stdout",
     "output_type": "stream",
     "text": [
      "TestDummySubComponentRevision[TestDummySubComponentRevision\n",
      "| KEY                   | VALUE            |\n",
      "|-----------------------|------------------|\n",
      "| description::String   | green            |\n",
      "| id::DbId              | 1                |\n",
      "| ref_component::DbId   | 1                |\n",
      "| ref_invalidfrom::DbId | 9007199254740991 |\n",
      "| ref_validfrom::DbId   | 1                |\n",
      "]\n"
     ]
    }
   ],
   "source": [
    "v1 = findversion(w1blue.ref_history, w1blue.tsdb_validfrom, w1blue.tsw_validfrom)\n",
    "r1=findcomponentrevision(TestDummySubComponentRevision, ts.id, v1)\n",
    "println(v1)\n",
    "\n",
    "println(r1)"
   ]
  },
  {
   "cell_type": "code",
   "execution_count": 16,
   "metadata": {},
   "outputs": [
    {
     "name": "stderr",
     "output_type": "stream",
     "text": [
      "┌ Info: SELECT \"validityintervals\".\"id\" AS \"validityintervals_id\", \"validityintervals\".\"ref_history\" AS \"validityintervals_ref_history\", \"validityintervals\".\"ref_version\" AS \"validityintervals_ref_version\", \"validityintervals\".\"tsdb_validfrom\" AS \"validityintervals_tsdb_validfrom\", \"validityintervals\".\"tsworld_validfrom\" AS \"validityintervals_tsworld_validfrom\", \"validityintervals\".\"tsdb_invalidfrom\" AS \"validityintervals_tsdb_invalidfrom\", \"validityintervals\".\"tsworld_invalidfrom\" AS \"validityintervals_tsworld_invalidfrom\", \"validityintervals\".\"is_committed\" AS \"validityintervals_is_committed\" FROM \"validityintervals\" WHERE ref_history=E'1' and tsrworld @> TIMESTAMPTZ E'2014-05-30T21:00:01.001+00:00' AND tsrdb @> TIMESTAMPTZ E'2024-06-04T09:10:32.384+00:00' AND is_committed = 1 ORDER BY validityintervals.id ASC\n",
      "└ @ SearchLightPostgreSQL /home/codespace/.julia/packages/SearchLightPostgreSQL/8KdWH/src/SearchLightPostgreSQL.jl:135\n",
      "┌ Info: SELECT \"testdummycomponentrevisions\".\"id\" AS \"testdummycomponentrevisions_id\", \"testdummycomponentrevisions\".\"ref_component\" AS \"testdummycomponentrevisions_ref_component\", \"testdummycomponentrevisions\".\"ref_validfrom\" AS \"testdummycomponentrevisions_ref_validfrom\", \"testdummycomponentrevisions\".\"ref_invalidfrom\" AS \"testdummycomponentrevisions_ref_invalidfrom\", \"testdummycomponentrevisions\".\"description\" AS \"testdummycomponentrevisions_description\" FROM \"testdummycomponentrevisions\" WHERE ref_component = E'1' AND ref_valid @> BIGINT E'1' ORDER BY testdummycomponentrevisions.id ASC\n",
      "└ @ SearchLightPostgreSQL /home/codespace/.julia/packages/SearchLightPostgreSQL/8KdWH/src/SearchLightPostgreSQL.jl:135\n",
      "┌ Info: SELECT \"testdummysubcomponentrevisions\".\"id\" AS \"testdummysubcomponentrevisions_id\", \"testdummysubcomponentrevisions\".\"ref_component\" AS \"testdummysubcomponentrevisions_ref_component\", \"testdummysubcomponentrevisions\".\"ref_validfrom\" AS \"testdummysubcomponentrevisions_ref_validfrom\", \"testdummysubcomponentrevisions\".\"ref_invalidfrom\" AS \"testdummysubcomponentrevisions_ref_invalidfrom\", \"testdummysubcomponentrevisions\".\"description\" AS \"testdummysubcomponentrevisions_description\" FROM \"testdummysubcomponentrevisions\" WHERE ref_component = E'1' AND ref_valid @> BIGINT E'1' ORDER BY testdummysubcomponentrevisions.id ASC\n",
      "└ @ SearchLightPostgreSQL /home/codespace/.julia/packages/SearchLightPostgreSQL/8KdWH/src/SearchLightPostgreSQL.jl:135\n",
      "┌ Info: SELECT \"validityintervals\".\"id\" AS \"validityintervals_id\", \"validityintervals\".\"ref_history\" AS \"validityintervals_ref_history\", \"validityintervals\".\"ref_version\" AS \"validityintervals_ref_version\", \"validityintervals\".\"tsdb_validfrom\" AS \"validityintervals_tsdb_validfrom\", \"validityintervals\".\"tsworld_validfrom\" AS \"validityintervals_tsworld_validfrom\", \"validityintervals\".\"tsdb_invalidfrom\" AS \"validityintervals_tsdb_invalidfrom\", \"validityintervals\".\"tsworld_invalidfrom\" AS \"validityintervals_tsworld_invalidfrom\", \"validityintervals\".\"is_committed\" AS \"validityintervals_is_committed\" FROM \"validityintervals\" WHERE ref_history=E'1' and tsrworld @> TIMESTAMPTZ E'2015-05-30T21:00:01.001+00:00' AND tsrdb @> TIMESTAMPTZ E'2024-06-04T09:10:33.099+00:00' AND is_committed = 1 ORDER BY validityintervals.id ASC\n",
      "└ @ SearchLightPostgreSQL /home/codespace/.julia/packages/SearchLightPostgreSQL/8KdWH/src/SearchLightPostgreSQL.jl:135\n",
      "┌ Info: SELECT \"testdummycomponentrevisions\".\"id\" AS \"testdummycomponentrevisions_id\", \"testdummycomponentrevisions\".\"ref_component\" AS \"testdummycomponentrevisions_ref_component\", \"testdummycomponentrevisions\".\"ref_validfrom\" AS \"testdummycomponentrevisions_ref_validfrom\", \"testdummycomponentrevisions\".\"ref_invalidfrom\" AS \"testdummycomponentrevisions_ref_invalidfrom\", \"testdummycomponentrevisions\".\"description\" AS \"testdummycomponentrevisions_description\" FROM \"testdummycomponentrevisions\" WHERE ref_component = E'1' AND ref_valid @> BIGINT E'2' ORDER BY testdummycomponentrevisions.id ASC\n",
      "└ @ SearchLightPostgreSQL /home/codespace/.julia/packages/SearchLightPostgreSQL/8KdWH/src/SearchLightPostgreSQL.jl:135\n",
      "┌ Info: SELECT \"testdummysubcomponentrevisions\".\"id\" AS \"testdummysubcomponentrevisions_id\", \"testdummysubcomponentrevisions\".\"ref_component\" AS \"testdummysubcomponentrevisions_ref_component\", \"testdummysubcomponentrevisions\".\"ref_validfrom\" AS \"testdummysubcomponentrevisions_ref_validfrom\", \"testdummysubcomponentrevisions\".\"ref_invalidfrom\" AS \"testdummysubcomponentrevisions_ref_invalidfrom\", \"testdummysubcomponentrevisions\".\"description\" AS \"testdummysubcomponentrevisions_description\" FROM \"testdummysubcomponentrevisions\" WHERE ref_component = E'1' AND ref_valid @> BIGINT E'2' ORDER BY testdummysubcomponentrevisions.id ASC\n",
      "└ @ SearchLightPostgreSQL /home/codespace/.julia/packages/SearchLightPostgreSQL/8KdWH/src/SearchLightPostgreSQL.jl:135\n",
      "┌ Info: SELECT \"validityintervals\".\"id\" AS \"validityintervals_id\", \"validityintervals\".\"ref_history\" AS \"validityintervals_ref_history\", \"validityintervals\".\"ref_version\" AS \"validityintervals_ref_version\", \"validityintervals\".\"tsdb_validfrom\" AS \"validityintervals_tsdb_validfrom\", \"validityintervals\".\"tsworld_validfrom\" AS \"validityintervals_tsworld_validfrom\", \"validityintervals\".\"tsdb_invalidfrom\" AS \"validityintervals_tsdb_invalidfrom\", \"validityintervals\".\"tsworld_invalidfrom\" AS \"validityintervals_tsworld_invalidfrom\", \"validityintervals\".\"is_committed\" AS \"validityintervals_is_committed\" FROM \"validityintervals\" WHERE ref_history=E'1' and tsrworld @> TIMESTAMPTZ E'2015-05-30T21:00:00.001+00:00' AND tsrdb @> TIMESTAMPTZ E'2024-06-04T09:10:33.099+00:00' AND is_committed = 1 ORDER BY validityintervals.id ASC\n",
      "└ @ SearchLightPostgreSQL /home/codespace/.julia/packages/SearchLightPostgreSQL/8KdWH/src/SearchLightPostgreSQL.jl:135\n",
      "┌ Info: SELECT \"testdummycomponentrevisions\".\"id\" AS \"testdummycomponentrevisions_id\", \"testdummycomponentrevisions\".\"ref_component\" AS \"testdummycomponentrevisions_ref_component\", \"testdummycomponentrevisions\".\"ref_validfrom\" AS \"testdummycomponentrevisions_ref_validfrom\", \"testdummycomponentrevisions\".\"ref_invalidfrom\" AS \"testdummycomponentrevisions_ref_invalidfrom\", \"testdummycomponentrevisions\".\"description\" AS \"testdummycomponentrevisions_description\" FROM \"testdummycomponentrevisions\" WHERE ref_component = E'1' AND ref_valid @> BIGINT E'1' ORDER BY testdummycomponentrevisions.id ASC\n",
      "└ @ SearchLightPostgreSQL /home/codespace/.julia/packages/SearchLightPostgreSQL/8KdWH/src/SearchLightPostgreSQL.jl:135\n",
      "┌ Info: SELECT \"testdummysubcomponentrevisions\".\"id\" AS \"testdummysubcomponentrevisions_id\", \"testdummysubcomponentrevisions\".\"ref_component\" AS \"testdummysubcomponentrevisions_ref_component\", \"testdummysubcomponentrevisions\".\"ref_validfrom\" AS \"testdummysubcomponentrevisions_ref_validfrom\", \"testdummysubcomponentrevisions\".\"ref_invalidfrom\" AS \"testdummysubcomponentrevisions_ref_invalidfrom\", \"testdummysubcomponentrevisions\".\"description\" AS \"testdummysubcomponentrevisions_description\" FROM \"testdummysubcomponentrevisions\" WHERE ref_component = E'1' AND ref_valid @> BIGINT E'1' ORDER BY testdummysubcomponentrevisions.id ASC\n",
      "└ @ SearchLightPostgreSQL /home/codespace/.julia/packages/SearchLightPostgreSQL/8KdWH/src/SearchLightPostgreSQL.jl:135\n",
      "┌ Info: SELECT \"validityintervals\".\"id\" AS \"validityintervals_id\", \"validityintervals\".\"ref_history\" AS \"validityintervals_ref_history\", \"validityintervals\".\"ref_version\" AS \"validityintervals_ref_version\", \"validityintervals\".\"tsdb_validfrom\" AS \"validityintervals_tsdb_validfrom\", \"validityintervals\".\"tsworld_validfrom\" AS \"validityintervals_tsworld_validfrom\", \"validityintervals\".\"tsdb_invalidfrom\" AS \"validityintervals_tsdb_invalidfrom\", \"validityintervals\".\"tsworld_invalidfrom\" AS \"validityintervals_tsworld_invalidfrom\", \"validityintervals\".\"is_committed\" AS \"validityintervals_is_committed\" FROM \"validityintervals\" WHERE ref_history=E'1' and tsrworld @> TIMESTAMPTZ E'2014-11-30T21:00:01.001+00:00' AND tsrdb @> TIMESTAMPTZ E'2024-06-04T09:10:35.111+00:00' AND is_committed = 1 ORDER BY validityintervals.id ASC\n",
      "└ @ SearchLightPostgreSQL /home/codespace/.julia/packages/SearchLightPostgreSQL/8KdWH/src/SearchLightPostgreSQL.jl:135\n",
      "┌ Info: SELECT \"testdummycomponentrevisions\".\"id\" AS \"testdummycomponentrevisions_id\", \"testdummycomponentrevisions\".\"ref_component\" AS \"testdummycomponentrevisions_ref_component\", \"testdummycomponentrevisions\".\"ref_validfrom\" AS \"testdummycomponentrevisions_ref_validfrom\", \"testdummycomponentrevisions\".\"ref_invalidfrom\" AS \"testdummycomponentrevisions_ref_invalidfrom\", \"testdummycomponentrevisions\".\"description\" AS \"testdummycomponentrevisions_description\" FROM \"testdummycomponentrevisions\" WHERE ref_component = E'1' AND ref_valid @> BIGINT E'3' ORDER BY testdummycomponentrevisions.id ASC\n",
      "└ @ SearchLightPostgreSQL /home/codespace/.julia/packages/SearchLightPostgreSQL/8KdWH/src/SearchLightPostgreSQL.jl:135\n",
      "┌ Info: SELECT \"testdummysubcomponentrevisions\".\"id\" AS \"testdummysubcomponentrevisions_id\", \"testdummysubcomponentrevisions\".\"ref_component\" AS \"testdummysubcomponentrevisions_ref_component\", \"testdummysubcomponentrevisions\".\"ref_validfrom\" AS \"testdummysubcomponentrevisions_ref_validfrom\", \"testdummysubcomponentrevisions\".\"ref_invalidfrom\" AS \"testdummysubcomponentrevisions_ref_invalidfrom\", \"testdummysubcomponentrevisions\".\"description\" AS \"testdummysubcomponentrevisions_description\" FROM \"testdummysubcomponentrevisions\" WHERE ref_component = E'1' AND ref_valid @> BIGINT E'3' ORDER BY testdummysubcomponentrevisions.id ASC\n",
      "└ @ SearchLightPostgreSQL /home/codespace/.julia/packages/SearchLightPostgreSQL/8KdWH/src/SearchLightPostgreSQL.jl:135\n",
      "┌ Info: SELECT \"validityintervals\".\"id\" AS \"validityintervals_id\", \"validityintervals\".\"ref_history\" AS \"validityintervals_ref_history\", \"validityintervals\".\"ref_version\" AS \"validityintervals_ref_version\", \"validityintervals\".\"tsdb_validfrom\" AS \"validityintervals_tsdb_validfrom\", \"validityintervals\".\"tsworld_validfrom\" AS \"validityintervals_tsworld_validfrom\", \"validityintervals\".\"tsdb_invalidfrom\" AS \"validityintervals_tsdb_invalidfrom\", \"validityintervals\".\"tsworld_invalidfrom\" AS \"validityintervals_tsworld_invalidfrom\", \"validityintervals\".\"is_committed\" AS \"validityintervals_is_committed\" FROM \"validityintervals\" WHERE ref_history=E'1' and tsrworld @> TIMESTAMPTZ E'2014-11-30T21:00:00.001+00:00' AND tsrdb @> TIMESTAMPTZ E'2024-06-04T09:10:35.111+00:00' AND is_committed = 1 ORDER BY validityintervals.id ASC\n",
      "└ @ SearchLightPostgreSQL /home/codespace/.julia/packages/SearchLightPostgreSQL/8KdWH/src/SearchLightPostgreSQL.jl:135\n",
      "┌ Info: SELECT \"testdummycomponentrevisions\".\"id\" AS \"testdummycomponentrevisions_id\", \"testdummycomponentrevisions\".\"ref_component\" AS \"testdummycomponentrevisions_ref_component\", \"testdummycomponentrevisions\".\"ref_validfrom\" AS \"testdummycomponentrevisions_ref_validfrom\", \"testdummycomponentrevisions\".\"ref_invalidfrom\" AS \"testdummycomponentrevisions_ref_invalidfrom\", \"testdummycomponentrevisions\".\"description\" AS \"testdummycomponentrevisions_description\" FROM \"testdummycomponentrevisions\" WHERE ref_component = E'1' AND ref_valid @> BIGINT E'1' ORDER BY testdummycomponentrevisions.id ASC\n",
      "└ @ SearchLightPostgreSQL /home/codespace/.julia/packages/SearchLightPostgreSQL/8KdWH/src/SearchLightPostgreSQL.jl:135\n",
      "┌ Info: SELECT \"testdummysubcomponentrevisions\".\"id\" AS \"testdummysubcomponentrevisions_id\", \"testdummysubcomponentrevisions\".\"ref_component\" AS \"testdummysubcomponentrevisions_ref_component\", \"testdummysubcomponentrevisions\".\"ref_validfrom\" AS \"testdummysubcomponentrevisions_ref_validfrom\", \"testdummysubcomponentrevisions\".\"ref_invalidfrom\" AS \"testdummysubcomponentrevisions_ref_invalidfrom\", \"testdummysubcomponentrevisions\".\"description\" AS \"testdummysubcomponentrevisions_description\" FROM \"testdummysubcomponentrevisions\" WHERE ref_component = E'1' AND ref_valid @> BIGINT E'1' ORDER BY testdummysubcomponentrevisions.id ASC\n",
      "└ @ SearchLightPostgreSQL /home/codespace/.julia/packages/SearchLightPostgreSQL/8KdWH/src/SearchLightPostgreSQL.jl:135\n"
     ]
    },
    {
     "name": "stdout",
     "output_type": "stream",
     "text": [
      "\u001b[0m\u001b[1mTest Summary: | \u001b[22m\u001b[32m\u001b[1mPass  \u001b[22m\u001b[39m\u001b[36m\u001b[1mTotal  \u001b[22m\u001b[39m\u001b[0m\u001b[1mTime\u001b[22m\n",
      "reading tests | \u001b[32m  10  \u001b[39m\u001b[36m   10  \u001b[39m\u001b[0m0.1s\n"
     ]
    },
    {
     "data": {
      "text/plain": [
       "Test.DefaultTestSet(\"reading tests\", Any[], 10, false, false, true, 1.717492235712023e9, 1.717492235840191e9, false, \"/workspaces/BitemporalPostgres.jl/bitemporal_testcase.ipynb\")"
      ]
     },
     "metadata": {},
     "output_type": "display_data"
    }
   ],
   "source": [
    "@testset \"reading tests\" begin\n",
    "    v1 = findversion(w1blue.ref_history, w1blue.tsdb_validfrom, w1blue.tsw_validfrom)\n",
    "    \n",
    "    @test findcomponentrevision(TestDummyComponentRevision, t1.id, v1)[1].description == \"blue\"\n",
    "    @test findcomponentrevision(TestDummySubComponentRevision, ts.id, v1)[1].description == \"green\"\n",
    "    \n",
    "    v2 = findversion(w2yellow.ref_history, w2yellow.tsdb_validfrom, w2yellow.tsw_validfrom)\n",
    "    \n",
    "    @test findcomponentrevision(TestDummyComponentRevision, t1.id, v2)[1].description == \"yellow\"\n",
    "    @test findcomponentrevision(TestDummySubComponentRevision, ts.id, v2)[1].description == \"green\"\n",
    "    \n",
    "    v2a = findversion(w2yellow.ref_history, w2yellow.tsdb_validfrom, w2yellow.tsw_validfrom - Dates.Second(1))\n",
    "    \n",
    "    @test findcomponentrevision(TestDummyComponentRevision, t1.id, v2a)[1].description == \"blue\"\n",
    "    @test findcomponentrevision(TestDummySubComponentRevision, ts.id, v2a)[1].description == \"green\"\n",
    "    \n",
    "    \n",
    "    v3 = findversion(w3redshadow.ref_history, w3redshadow.tsdb_validfrom, w3redshadow.tsw_validfrom)\n",
    "    \n",
    "    @test findcomponentrevision(TestDummyComponentRevision, t1.id, v3)[1].description == \"red\"\n",
    "    @test findcomponentrevision(TestDummySubComponentRevision, ts.id, v3)[1].description == \"green\"\n",
    "    \n",
    "    v3a = findversion(w3redshadow.ref_history, w3redshadow.tsdb_validfrom, w3redshadow.tsw_validfrom - Dates.Second(1))\n",
    "    \n",
    "    @test findcomponentrevision(TestDummyComponentRevision, t1.id, v3a)[1].description == \"blue\"\n",
    "    @test findcomponentrevision(TestDummySubComponentRevision, ts.id, v3a)[1].description == \"green\"\n",
    "    \n",
    "    end"
   ]
  },
  {
   "cell_type": "markdown",
   "metadata": {},
   "source": [
    "Testing pending transactions and rollback"
   ]
  },
  {
   "cell_type": "code",
   "execution_count": 17,
   "metadata": {},
   "outputs": [
    {
     "name": "stderr",
     "output_type": "stream",
     "text": [
      "┌ Info: entering update\n",
      "└ @ BitemporalPostgres /workspaces/BitemporalPostgres.jl/src/BitemporalPostgres.jl:622\n",
      "┌ Info: BEGIN\n",
      "└ @ SearchLightPostgreSQL /home/codespace/.julia/packages/SearchLightPostgreSQL/8KdWH/src/SearchLightPostgreSQL.jl:135\n",
      "┌ Info: INSERT INTO versions ( \"ref_history\" ) VALUES ( E'1' ) RETURNING id\n",
      "└ @ SearchLightPostgreSQL /home/codespace/.julia/packages/SearchLightPostgreSQL/8KdWH/src/SearchLightPostgreSQL.jl:135\n",
      "┌ Info: SELECT \"versions\".\"id\" AS \"versions_id\", \"versions\".\"ref_history\" AS \"versions_ref_history\" FROM \"versions\" WHERE \"id\" = 4 ORDER BY versions.id ASC\n",
      "└ @ SearchLightPostgreSQL /home/codespace/.julia/packages/SearchLightPostgreSQL/8KdWH/src/SearchLightPostgreSQL.jl:135\n",
      "┌ Info: INSERT INTO workflows ( \"ref_history\", \"ref_version\", \"tsdb_validfrom\", \"tsw_validfrom\", \"is_committed\", \"type_of_entity\" ) VALUES ( E'1', E'4', E'2024-06-04T09:10:36.564+00:00', E'2017-11-30T21:00:01.001+00:00', 0, E'TestDummyComponent' ) RETURNING id\n",
      "└ @ SearchLightPostgreSQL /home/codespace/.julia/packages/SearchLightPostgreSQL/8KdWH/src/SearchLightPostgreSQL.jl:135\n",
      "┌ Info: SELECT \"workflows\".\"id\" AS \"workflows_id\", \"workflows\".\"ref_history\" AS \"workflows_ref_history\", \"workflows\".\"ref_version\" AS \"workflows_ref_version\", \"workflows\".\"tsdb_validfrom\" AS \"workflows_tsdb_validfrom\", \"workflows\".\"tsw_validfrom\" AS \"workflows_tsw_validfrom\", \"workflows\".\"is_committed\" AS \"workflows_is_committed\", \"workflows\".\"type_of_entity\" AS \"workflows_type_of_entity\" FROM \"workflows\" WHERE \"id\" = 4 ORDER BY workflows.id ASC\n",
      "└ @ SearchLightPostgreSQL /home/codespace/.julia/packages/SearchLightPostgreSQL/8KdWH/src/SearchLightPostgreSQL.jl:135\n",
      "┌ Info: INSERT INTO validityintervals ( \"ref_history\", \"ref_version\", \"tsdb_validfrom\", \"tsworld_validfrom\", \"tsdb_invalidfrom\", \"tsworld_invalidfrom\", \"is_committed\" ) VALUES ( E'1', E'4', E'2024-06-04T09:10:36.564+00:00', E'2017-11-30T21:00:01.001+00:00', E'2038-01-19T03:14:06.999+00:00', E'2038-01-19T03:14:06.999+00:00', 0 ) RETURNING id\n",
      "└ @ SearchLightPostgreSQL /home/codespace/.julia/packages/SearchLightPostgreSQL/8KdWH/src/SearchLightPostgreSQL.jl:135\n",
      "NOTICE:  NEW: (6,1,4,\"2017-11-30 21:00:01.001+00\",\"2038-01-19 03:14:06.999+00\",\"2024-06-04 09:10:36.564+00\",\"2038-01-19 03:14:06.999+00\",,,0)\n",
      "┌ Info: SELECT \"validityintervals\".\"id\" AS \"validityintervals_id\", \"validityintervals\".\"ref_history\" AS \"validityintervals_ref_history\", \"validityintervals\".\"ref_version\" AS \"validityintervals_ref_version\", \"validityintervals\".\"tsdb_validfrom\" AS \"validityintervals_tsdb_validfrom\", \"validityintervals\".\"tsworld_validfrom\" AS \"validityintervals_tsworld_validfrom\", \"validityintervals\".\"tsdb_invalidfrom\" AS \"validityintervals_tsdb_invalidfrom\", \"validityintervals\".\"tsworld_invalidfrom\" AS \"validityintervals_tsworld_invalidfrom\", \"validityintervals\".\"is_committed\" AS \"validityintervals_is_committed\" FROM \"validityintervals\" WHERE \"id\" = 6 ORDER BY validityintervals.id ASC\n",
      "└ @ SearchLightPostgreSQL /home/codespace/.julia/packages/SearchLightPostgreSQL/8KdWH/src/SearchLightPostgreSQL.jl:135\n",
      "┌ Info: SELECT \"validityintervals\".\"id\" AS \"validityintervals_id\", \"validityintervals\".\"ref_history\" AS \"validityintervals_ref_history\", \"validityintervals\".\"ref_version\" AS \"validityintervals_ref_version\", \"validityintervals\".\"tsdb_validfrom\" AS \"validityintervals_tsdb_validfrom\", \"validityintervals\".\"tsworld_validfrom\" AS \"validityintervals_tsworld_validfrom\", \"validityintervals\".\"tsdb_invalidfrom\" AS \"validityintervals_tsdb_invalidfrom\", \"validityintervals\".\"tsworld_invalidfrom\" AS \"validityintervals_tsworld_invalidfrom\", \"validityintervals\".\"is_committed\" AS \"validityintervals_is_committed\" FROM \"validityintervals\" WHERE ref_history = E'1' AND tsrdb @> TIMESTAMPTZ E'2038-01-18T03:14:06.999+00:00' AND tsrworld <@ tstzrange(E'2017-11-30T21:00:01.001+00:00',E'2038-01-19T03:14:06.999+00:00') AND is_committed=1 ORDER BY validityintervals.ref_version ASC\n",
      "└ @ SearchLightPostgreSQL /home/codespace/.julia/packages/SearchLightPostgreSQL/8KdWH/src/SearchLightPostgreSQL.jl:135\n",
      "┌ Info: shadowedDbId[]\n",
      "└ @ BitemporalPostgres /workspaces/BitemporalPostgres.jl/src/BitemporalPostgres.jl:654\n",
      "┌ Info: COMMIT\n",
      "└ @ SearchLightPostgreSQL /home/codespace/.julia/packages/SearchLightPostgreSQL/8KdWH/src/SearchLightPostgreSQL.jl:135\n",
      "┌ Info: SELECT \"testdummycomponentrevisions\".\"id\" AS \"testdummycomponentrevisions_id\", \"testdummycomponentrevisions\".\"ref_component\" AS \"testdummycomponentrevisions_ref_component\", \"testdummycomponentrevisions\".\"ref_validfrom\" AS \"testdummycomponentrevisions_ref_validfrom\", \"testdummycomponentrevisions\".\"ref_invalidfrom\" AS \"testdummycomponentrevisions_ref_invalidfrom\", \"testdummycomponentrevisions\".\"description\" AS \"testdummycomponentrevisions_description\" FROM \"testdummycomponentrevisions\" WHERE ref_component = E'1' AND ref_valid @> BIGINT E'4' ORDER BY testdummycomponentrevisions.id ASC\n",
      "└ @ SearchLightPostgreSQL /home/codespace/.julia/packages/SearchLightPostgreSQL/8KdWH/src/SearchLightPostgreSQL.jl:135\n",
      "┌ Info: BEGIN\n",
      "└ @ SearchLightPostgreSQL /home/codespace/.julia/packages/SearchLightPostgreSQL/8KdWH/src/SearchLightPostgreSQL.jl:135\n",
      "┌ Info: UPDATE testdummycomponentrevisions SET  \"id\" = E'4', \"ref_component\" = E'1', \"ref_validfrom\" = E'3', \"ref_invalidfrom\" = E'4', \"description\" = E'red' WHERE testdummycomponentrevisions.id = '4' RETURNING id\n",
      "└ @ SearchLightPostgreSQL /home/codespace/.julia/packages/SearchLightPostgreSQL/8KdWH/src/SearchLightPostgreSQL.jl:135\n",
      "NOTICE:  NEW: (4,1,3,4,\"[3,9007199254740991)\",red)\n",
      "┌ Info: SELECT \"testdummycomponentrevisions\".\"id\" AS \"testdummycomponentrevisions_id\", \"testdummycomponentrevisions\".\"ref_component\" AS \"testdummycomponentrevisions_ref_component\", \"testdummycomponentrevisions\".\"ref_validfrom\" AS \"testdummycomponentrevisions_ref_validfrom\", \"testdummycomponentrevisions\".\"ref_invalidfrom\" AS \"testdummycomponentrevisions_ref_invalidfrom\", \"testdummycomponentrevisions\".\"description\" AS \"testdummycomponentrevisions_description\" FROM \"testdummycomponentrevisions\" WHERE \"id\" = 4 ORDER BY testdummycomponentrevisions.id ASC\n",
      "└ @ SearchLightPostgreSQL /home/codespace/.julia/packages/SearchLightPostgreSQL/8KdWH/src/SearchLightPostgreSQL.jl:135\n",
      "┌ Info: INSERT INTO testdummycomponentrevisions ( \"ref_component\", \"ref_validfrom\", \"ref_invalidfrom\", \"description\" ) VALUES ( E'1', E'4', E'9007199254740991', E'green' ) RETURNING id\n",
      "└ @ SearchLightPostgreSQL /home/codespace/.julia/packages/SearchLightPostgreSQL/8KdWH/src/SearchLightPostgreSQL.jl:135\n",
      "NOTICE:  NEW: (5,1,4,9007199254740991,,green)\n",
      "┌ Info: SELECT \"testdummycomponentrevisions\".\"id\" AS \"testdummycomponentrevisions_id\", \"testdummycomponentrevisions\".\"ref_component\" AS \"testdummycomponentrevisions_ref_component\", \"testdummycomponentrevisions\".\"ref_validfrom\" AS \"testdummycomponentrevisions_ref_validfrom\", \"testdummycomponentrevisions\".\"ref_invalidfrom\" AS \"testdummycomponentrevisions_ref_invalidfrom\", \"testdummycomponentrevisions\".\"description\" AS \"testdummycomponentrevisions_description\" FROM \"testdummycomponentrevisions\" WHERE \"id\" = 5 ORDER BY testdummycomponentrevisions.id ASC\n",
      "└ @ SearchLightPostgreSQL /home/codespace/.julia/packages/SearchLightPostgreSQL/8KdWH/src/SearchLightPostgreSQL.jl:135\n",
      "┌ Info: COMMIT\n",
      "└ @ SearchLightPostgreSQL /home/codespace/.julia/packages/SearchLightPostgreSQL/8KdWH/src/SearchLightPostgreSQL.jl:135\n",
      "┌ Info: BEGIN\n",
      "└ @ SearchLightPostgreSQL /home/codespace/.julia/packages/SearchLightPostgreSQL/8KdWH/src/SearchLightPostgreSQL.jl:135\n",
      "┌ Info: INSERT INTO testdummycomponents ( \"ref_history\", \"ref_version\" ) VALUES ( E'1', E'4' ) RETURNING id\n",
      "└ @ SearchLightPostgreSQL /home/codespace/.julia/packages/SearchLightPostgreSQL/8KdWH/src/SearchLightPostgreSQL.jl:135\n",
      "┌ Info: SELECT \"testdummycomponents\".\"id\" AS \"testdummycomponents_id\", \"testdummycomponents\".\"ref_history\" AS \"testdummycomponents_ref_history\", \"testdummycomponents\".\"ref_version\" AS \"testdummycomponents_ref_version\" FROM \"testdummycomponents\" WHERE \"id\" = 2 ORDER BY testdummycomponents.id ASC\n",
      "└ @ SearchLightPostgreSQL /home/codespace/.julia/packages/SearchLightPostgreSQL/8KdWH/src/SearchLightPostgreSQL.jl:135\n",
      "┌ Info: INSERT INTO testdummycomponentrevisions ( \"ref_component\", \"ref_validfrom\", \"ref_invalidfrom\", \"description\" ) VALUES ( E'2', E'4', E'9007199254740991', E'pink' ) RETURNING id\n",
      "└ @ SearchLightPostgreSQL /home/codespace/.julia/packages/SearchLightPostgreSQL/8KdWH/src/SearchLightPostgreSQL.jl:135\n",
      "NOTICE:  NEW: (6,2,4,9007199254740991,,pink)\n",
      "┌ Info: SELECT \"testdummycomponentrevisions\".\"id\" AS \"testdummycomponentrevisions_id\", \"testdummycomponentrevisions\".\"ref_component\" AS \"testdummycomponentrevisions_ref_component\", \"testdummycomponentrevisions\".\"ref_validfrom\" AS \"testdummycomponentrevisions_ref_validfrom\", \"testdummycomponentrevisions\".\"ref_invalidfrom\" AS \"testdummycomponentrevisions_ref_invalidfrom\", \"testdummycomponentrevisions\".\"description\" AS \"testdummycomponentrevisions_description\" FROM \"testdummycomponentrevisions\" WHERE \"id\" = 6 ORDER BY testdummycomponentrevisions.id ASC\n",
      "└ @ SearchLightPostgreSQL /home/codespace/.julia/packages/SearchLightPostgreSQL/8KdWH/src/SearchLightPostgreSQL.jl:135\n",
      "┌ Info: COMMIT\n",
      "└ @ SearchLightPostgreSQL /home/codespace/.julia/packages/SearchLightPostgreSQL/8KdWH/src/SearchLightPostgreSQL.jl:135\n"
     ]
    }
   ],
   "source": [
    "w4PendingRollback = Workflow(type_of_entity=\"TestDummyComponent\",\n",
    "    ref_history=w1blue.ref_history,\n",
    "    tsdb_validfrom=now(tz\"UTC\"),\n",
    "    tsw_validfrom=ZonedDateTime(2017, 11, 30, 21, 0, 1, 1, tz\"UTC\"),\n",
    ")\n",
    "update_entity!(w4PendingRollback)\n",
    "\n",
    "t1r3red = findcomponentrevision(TestDummyComponentRevision, t1.id, w4PendingRollback.ref_version)[1]\n",
    "t1r4green = copy(t1r3red)\n",
    "t1r4green.description = \"green\"\n",
    "\n",
    "t2 = TestDummyComponent()\n",
    "t2r1pink = TestDummyComponentRevision(description=\"pink\")\n",
    "\n",
    "@test t1r3red.ref_invalidfrom == MaxVersion\n",
    "update_component!(t1r3red, t1r4green, w4PendingRollback)\n",
    "create_component!(t2, t2r1pink, w4PendingRollback)\n"
   ]
  },
  {
   "cell_type": "code",
   "execution_count": 18,
   "metadata": {},
   "outputs": [
    {
     "name": "stdout",
     "output_type": "stream",
     "text": [
      "\u001b[0m\u001b[1mTest Summary:             | \u001b[22m\u001b[32m\u001b[1mPass  \u001b[22m\u001b[39m\u001b[36m\u001b[1mTotal  \u001b[22m\u001b[39m\u001b[0m\u001b[1mTime\u001b[22m\n",
      "pending transaction tests | \u001b[32m   6  \u001b[39m\u001b[36m    6  \u001b[39m\u001b[0m0.0s\n"
     ]
    },
    {
     "name": "stderr",
     "output_type": "stream",
     "text": [
      "┌ Info: SELECT \"testdummycomponentrevisions\".\"id\" AS \"testdummycomponentrevisions_id\", \"testdummycomponentrevisions\".\"ref_component\" AS \"testdummycomponentrevisions_ref_component\", \"testdummycomponentrevisions\".\"ref_validfrom\" AS \"testdummycomponentrevisions_ref_validfrom\", \"testdummycomponentrevisions\".\"ref_invalidfrom\" AS \"testdummycomponentrevisions_ref_invalidfrom\", \"testdummycomponentrevisions\".\"description\" AS \"testdummycomponentrevisions_description\" FROM \"testdummycomponentrevisions\" WHERE ref_component = E'1' AND ref_valid @> BIGINT E'4' ORDER BY testdummycomponentrevisions.id ASC\n",
      "└ @ SearchLightPostgreSQL /home/codespace/.julia/packages/SearchLightPostgreSQL/8KdWH/src/SearchLightPostgreSQL.jl:135\n",
      "┌ Info: SELECT \"testdummycomponentrevisions\".\"id\" AS \"testdummycomponentrevisions_id\", \"testdummycomponentrevisions\".\"ref_component\" AS \"testdummycomponentrevisions_ref_component\", \"testdummycomponentrevisions\".\"ref_validfrom\" AS \"testdummycomponentrevisions_ref_validfrom\", \"testdummycomponentrevisions\".\"ref_invalidfrom\" AS \"testdummycomponentrevisions_ref_invalidfrom\", \"testdummycomponentrevisions\".\"description\" AS \"testdummycomponentrevisions_description\" FROM \"testdummycomponentrevisions\" WHERE ref_component = E'2' AND ref_valid @> BIGINT E'4' ORDER BY testdummycomponentrevisions.id ASC\n",
      "└ @ SearchLightPostgreSQL /home/codespace/.julia/packages/SearchLightPostgreSQL/8KdWH/src/SearchLightPostgreSQL.jl:135\n"
     ]
    },
    {
     "data": {
      "text/plain": [
       "Test.DefaultTestSet(\"pending transaction tests\", Any[], 6, false, false, true, 1.717492236606955e9, 1.717492236608172e9, false, \"/workspaces/BitemporalPostgres.jl/bitemporal_testcase.ipynb\")"
      ]
     },
     "metadata": {},
     "output_type": "display_data"
    }
   ],
   "source": [
    "@testset \"pending transaction tests\" begin\n",
    "    @test findcomponentrevision(TestDummyComponentRevision, t1.id, w4PendingRollback.ref_version)[1].description == \"green\"\n",
    "    @test findcomponentrevision(TestDummyComponentRevision, t2.id, w4PendingRollback.ref_version)[1].description == \"pink\"\n",
    "    @test w4PendingRollback.ref_version == t1r3red.ref_invalidfrom\n",
    "    @test w4PendingRollback.ref_version == t1r4green.ref_validfrom\n",
    "    @test MaxVersion == t1r4green.ref_invalidfrom\n",
    "    @test w4PendingRollback.ref_version == t2r1pink.ref_validfrom\n",
    "end\n"
   ]
  },
  {
   "cell_type": "code",
   "execution_count": 19,
   "metadata": {},
   "outputs": [
    {
     "name": "stdout",
     "output_type": "stream",
     "text": [
      "\u001b[0m\u001b[1mTest Summary:                | \u001b[22m\u001b[32m\u001b[1mPass  \u001b[22m\u001b[39m\u001b[36m\u001b[1mTotal  \u001b[22m\u001b[39m\u001b[0m\u001b[1mTime\u001b[22m\n",
      "rollbacked transaction tests | \u001b[32m   1  \u001b[39m\u001b[36m    1  \u001b[39m\u001b[0m0.1s\n"
     ]
    },
    {
     "name": "stderr",
     "output_type": "stream",
     "text": [
      "┌ Info: BEGIN\n",
      "└ @ SearchLightPostgreSQL /home/codespace/.julia/packages/SearchLightPostgreSQL/8KdWH/src/SearchLightPostgreSQL.jl:135\n",
      "┌ Info: SELECT \"versions\".\"id\" AS \"versions_id\", \"versions\".\"ref_history\" AS \"versions_ref_history\" FROM \"versions\" WHERE id=E'4' ORDER BY versions.id ASC\n",
      "└ @ SearchLightPostgreSQL /home/codespace/.julia/packages/SearchLightPostgreSQL/8KdWH/src/SearchLightPostgreSQL.jl:135\n",
      "┌ Info: DELETE FROM versions WHERE id = '4'\n",
      "└ @ SearchLightPostgreSQL /home/codespace/.julia/packages/SearchLightPostgreSQL/8KdWH/src/SearchLightPostgreSQL.jl:135\n",
      "NOTICE:  NEW: (4,1,3,9007199254740991,\"[3,4)\",red)\n",
      "┌ Info: COMMIT\n",
      "└ @ SearchLightPostgreSQL /home/codespace/.julia/packages/SearchLightPostgreSQL/8KdWH/src/SearchLightPostgreSQL.jl:135\n",
      "┌ Info: SELECT \"testdummycomponentrevisions\".\"id\" AS \"testdummycomponentrevisions_id\", \"testdummycomponentrevisions\".\"ref_component\" AS \"testdummycomponentrevisions_ref_component\", \"testdummycomponentrevisions\".\"ref_validfrom\" AS \"testdummycomponentrevisions_ref_validfrom\", \"testdummycomponentrevisions\".\"ref_invalidfrom\" AS \"testdummycomponentrevisions_ref_invalidfrom\", \"testdummycomponentrevisions\".\"description\" AS \"testdummycomponentrevisions_description\" FROM \"testdummycomponentrevisions\" WHERE ref_component = E'1' AND ref_valid @> BIGINT E'4' ORDER BY testdummycomponentrevisions.id ASC\n",
      "└ @ SearchLightPostgreSQL /home/codespace/.julia/packages/SearchLightPostgreSQL/8KdWH/src/SearchLightPostgreSQL.jl:135\n"
     ]
    },
    {
     "data": {
      "text/plain": [
       "Test.DefaultTestSet(\"rollbacked transaction tests\", Any[], 1, false, false, true, 1.717492236615547e9, 1.717492236725449e9, false, \"/workspaces/BitemporalPostgres.jl/bitemporal_testcase.ipynb\")"
      ]
     },
     "metadata": {},
     "output_type": "display_data"
    }
   ],
   "source": [
    "@testset \"rollbacked transaction tests\" begin\n",
    "    rollback_workflow!(w4PendingRollback)\n",
    "    @test !isempty(findcomponentrevision(TestDummyComponentRevision, t1.id, w4PendingRollback.ref_version))\n",
    "    w4PendingRollback.ref_version == t1r3red.ref_invalidfrom\n",
    "    w4PendingRollback.ref_version == t1r4green.ref_validfrom\n",
    "end"
   ]
  },
  {
   "cell_type": "code",
   "execution_count": 20,
   "metadata": {},
   "outputs": [
    {
     "data": {
      "text/plain": [
       "Workflow\n",
       "| KEY                           | VALUE                         |\n",
       "|-------------------------------|-------------------------------|\n",
       "| id::DbId                      | NULL                          |\n",
       "| is_committed::Int64           | 0                             |\n",
       "| ref_history::DbId             | 1                             |\n",
       "| ref_version::DbId             | 0                             |\n",
       "| tsdb_validfrom::ZonedDateTime | 2038-01-19T03:14:06.999+00:00 |\n",
       "| tsw_validfrom::ZonedDateTime  | 2014-11-30T21:00:01.001+00:00 |\n",
       "| type_of_entity::String        | TestDummyComponent            |\n"
      ]
     },
     "metadata": {},
     "output_type": "display_data"
    }
   ],
   "source": [
    "w3redshadow = Workflow(type_of_entity=\"TestDummyComponent\",\n",
    "    ref_history = w1blue.ref_history,\n",
    "    tsw_validfrom = ZonedDateTime(2014, 11, 30, 21, 0, 1, 1, tz\"UTC\"),\n",
    ")"
   ]
  },
  {
   "cell_type": "markdown",
   "metadata": {},
   "source": [
    "### 2.3.2 Testing retrospective transactions\n",
    "#### 2.3.2.1 preparing the retrospective transaction by \n",
    "* preliminarily invalidating all insertions and mutations from shadowed versions and \n",
    "* reviving all revisions invalidated by shadowed versions"
   ]
  },
  {
   "cell_type": "code",
   "execution_count": 21,
   "metadata": {},
   "outputs": [
    {
     "name": "stderr",
     "output_type": "stream",
     "text": [
      "┌ Info: entering update\n",
      "└ @ BitemporalPostgres /workspaces/BitemporalPostgres.jl/src/BitemporalPostgres.jl:622\n",
      "┌ Info: BEGIN\n",
      "└ @ SearchLightPostgreSQL /home/codespace/.julia/packages/SearchLightPostgreSQL/8KdWH/src/SearchLightPostgreSQL.jl:135\n",
      "┌ Info: INSERT INTO versions ( \"ref_history\" ) VALUES ( E'1' ) RETURNING id\n",
      "└ @ SearchLightPostgreSQL /home/codespace/.julia/packages/SearchLightPostgreSQL/8KdWH/src/SearchLightPostgreSQL.jl:135\n",
      "┌ Info: SELECT \"versions\".\"id\" AS \"versions_id\", \"versions\".\"ref_history\" AS \"versions_ref_history\" FROM \"versions\" WHERE \"id\" = 5 ORDER BY versions.id ASC\n",
      "└ @ SearchLightPostgreSQL /home/codespace/.julia/packages/SearchLightPostgreSQL/8KdWH/src/SearchLightPostgreSQL.jl:135\n",
      "┌ Info: INSERT INTO workflows ( \"ref_history\", \"ref_version\", \"tsdb_validfrom\", \"tsw_validfrom\", \"is_committed\", \"type_of_entity\" ) VALUES ( E'1', E'5', E'2024-06-04T09:10:36.735+00:00', E'2014-11-30T21:00:01.001+00:00', 0, E'TestDummyComponent' ) RETURNING id\n",
      "└ @ SearchLightPostgreSQL /home/codespace/.julia/packages/SearchLightPostgreSQL/8KdWH/src/SearchLightPostgreSQL.jl:135\n",
      "┌ Info: SELECT \"workflows\".\"id\" AS \"workflows_id\", \"workflows\".\"ref_history\" AS \"workflows_ref_history\", \"workflows\".\"ref_version\" AS \"workflows_ref_version\", \"workflows\".\"tsdb_validfrom\" AS \"workflows_tsdb_validfrom\", \"workflows\".\"tsw_validfrom\" AS \"workflows_tsw_validfrom\", \"workflows\".\"is_committed\" AS \"workflows_is_committed\", \"workflows\".\"type_of_entity\" AS \"workflows_type_of_entity\" FROM \"workflows\" WHERE \"id\" = 5 ORDER BY workflows.id ASC\n",
      "└ @ SearchLightPostgreSQL /home/codespace/.julia/packages/SearchLightPostgreSQL/8KdWH/src/SearchLightPostgreSQL.jl:135\n",
      "┌ Info: INSERT INTO validityintervals ( \"ref_history\", \"ref_version\", \"tsdb_validfrom\", \"tsworld_validfrom\", \"tsdb_invalidfrom\", \"tsworld_invalidfrom\", \"is_committed\" ) VALUES ( E'1', E'5', E'2024-06-04T09:10:36.735+00:00', E'2014-11-30T21:00:01.001+00:00', E'2038-01-19T03:14:06.999+00:00', E'2038-01-19T03:14:06.999+00:00', 0 ) RETURNING id\n",
      "└ @ SearchLightPostgreSQL /home/codespace/.julia/packages/SearchLightPostgreSQL/8KdWH/src/SearchLightPostgreSQL.jl:135\n",
      "NOTICE:  NEW: (7,1,5,\"2014-11-30 21:00:01.001+00\",\"2038-01-19 03:14:06.999+00\",\"2024-06-04 09:10:36.735+00\",\"2038-01-19 03:14:06.999+00\",,,0)\n",
      "┌ Info: SELECT \"validityintervals\".\"id\" AS \"validityintervals_id\", \"validityintervals\".\"ref_history\" AS \"validityintervals_ref_history\", \"validityintervals\".\"ref_version\" AS \"validityintervals_ref_version\", \"validityintervals\".\"tsdb_validfrom\" AS \"validityintervals_tsdb_validfrom\", \"validityintervals\".\"tsworld_validfrom\" AS \"validityintervals_tsworld_validfrom\", \"validityintervals\".\"tsdb_invalidfrom\" AS \"validityintervals_tsdb_invalidfrom\", \"validityintervals\".\"tsworld_invalidfrom\" AS \"validityintervals_tsworld_invalidfrom\", \"validityintervals\".\"is_committed\" AS \"validityintervals_is_committed\" FROM \"validityintervals\" WHERE \"id\" = 7 ORDER BY validityintervals.id ASC\n",
      "└ @ SearchLightPostgreSQL /home/codespace/.julia/packages/SearchLightPostgreSQL/8KdWH/src/SearchLightPostgreSQL.jl:135\n",
      "┌ Info: SELECT \"validityintervals\".\"id\" AS \"validityintervals_id\", \"validityintervals\".\"ref_history\" AS \"validityintervals_ref_history\", \"validityintervals\".\"ref_version\" AS \"validityintervals_ref_version\", \"validityintervals\".\"tsdb_validfrom\" AS \"validityintervals_tsdb_validfrom\", \"validityintervals\".\"tsworld_validfrom\" AS \"validityintervals_tsworld_validfrom\", \"validityintervals\".\"tsdb_invalidfrom\" AS \"validityintervals_tsdb_invalidfrom\", \"validityintervals\".\"tsworld_invalidfrom\" AS \"validityintervals_tsworld_invalidfrom\", \"validityintervals\".\"is_committed\" AS \"validityintervals_is_committed\" FROM \"validityintervals\" WHERE ref_history = E'1' AND tsrdb @> TIMESTAMPTZ E'2038-01-18T03:14:06.999+00:00' AND tsrworld <@ tstzrange(E'2014-11-30T21:00:01.001+00:00',E'2038-01-19T03:14:06.999+00:00') AND is_committed=1 ORDER BY validityintervals.ref_version ASC\n",
      "└ @ SearchLightPostgreSQL /home/codespace/.julia/packages/SearchLightPostgreSQL/8KdWH/src/SearchLightPostgreSQL.jl:135\n",
      "┌ Info: shadowedDbId[3]\n",
      "└ @ BitemporalPostgres /workspaces/BitemporalPostgres.jl/src/BitemporalPostgres.jl:654\n",
      "┌ Info: SELECT \"testdummycomponentrevisions\".\"id\" AS \"testdummycomponentrevisions_id\", \"testdummycomponentrevisions\".\"ref_component\" AS \"testdummycomponentrevisions_ref_component\", \"testdummycomponentrevisions\".\"ref_validfrom\" AS \"testdummycomponentrevisions_ref_validfrom\", \"testdummycomponentrevisions\".\"ref_invalidfrom\" AS \"testdummycomponentrevisions_ref_invalidfrom\", \"testdummycomponentrevisions\".\"description\" AS \"testdummycomponentrevisions_description\" FROM \"testdummycomponentrevisions\" WHERE ref_validfrom = E'3' and ref_invalidfrom=E'9007199254740991' ORDER BY testdummycomponentrevisions.id ASC\n",
      "└ @ SearchLightPostgreSQL /home/codespace/.julia/packages/SearchLightPostgreSQL/8KdWH/src/SearchLightPostgreSQL.jl:135\n",
      "┌ Info: UPDATE testdummycomponentrevisions SET  \"id\" = E'4', \"ref_component\" = E'1', \"ref_validfrom\" = E'3', \"ref_invalidfrom\" = E'5', \"description\" = E'red' WHERE testdummycomponentrevisions.id = '4' RETURNING id\n",
      "└ @ SearchLightPostgreSQL /home/codespace/.julia/packages/SearchLightPostgreSQL/8KdWH/src/SearchLightPostgreSQL.jl:135\n",
      "NOTICE:  NEW: (4,1,3,5,\"[3,9007199254740991)\",red)\n",
      "┌ Info: SELECT \"testdummycomponentrevisions\".\"id\" AS \"testdummycomponentrevisions_id\", \"testdummycomponentrevisions\".\"ref_component\" AS \"testdummycomponentrevisions_ref_component\", \"testdummycomponentrevisions\".\"ref_validfrom\" AS \"testdummycomponentrevisions_ref_validfrom\", \"testdummycomponentrevisions\".\"ref_invalidfrom\" AS \"testdummycomponentrevisions_ref_invalidfrom\", \"testdummycomponentrevisions\".\"description\" AS \"testdummycomponentrevisions_description\" FROM \"testdummycomponentrevisions\" WHERE \"id\" = 4 ORDER BY testdummycomponentrevisions.id ASC\n",
      "└ @ SearchLightPostgreSQL /home/codespace/.julia/packages/SearchLightPostgreSQL/8KdWH/src/SearchLightPostgreSQL.jl:135\n",
      "┌ Info: toTerminateTestDummyComponentRevision(ref_validfrom::DbId=3,ref_invalidfrom::DbId=5,id::DbId=4,ref_component::DbId=1,description::String=red)\n",
      "└ @ BitemporalPostgres /workspaces/BitemporalPostgres.jl/src/BitemporalPostgres.jl:664\n",
      "┌ Info: SELECT \"testdummycomponentrevisions\".\"id\" AS \"testdummycomponentrevisions_id\", \"testdummycomponentrevisions\".\"ref_component\" AS \"testdummycomponentrevisions_ref_component\", \"testdummycomponentrevisions\".\"ref_validfrom\" AS \"testdummycomponentrevisions_ref_validfrom\", \"testdummycomponentrevisions\".\"ref_invalidfrom\" AS \"testdummycomponentrevisions_ref_invalidfrom\", \"testdummycomponentrevisions\".\"description\" AS \"testdummycomponentrevisions_description\" FROM \"testdummycomponentrevisions\" WHERE ref_validfrom < E'3' and ref_invalidfrom=E'3' ORDER BY testdummycomponentrevisions.id ASC\n",
      "└ @ SearchLightPostgreSQL /home/codespace/.julia/packages/SearchLightPostgreSQL/8KdWH/src/SearchLightPostgreSQL.jl:135\n",
      "┌ Info: to reviveTestDummyComponentRevision(ref_validfrom::DbId=5,ref_invalidfrom::DbId=9007199254740991,id::DbId=NULL,ref_component::DbId=1,description::String=yellow)\n",
      "└ @ BitemporalPostgres /workspaces/BitemporalPostgres.jl/src/BitemporalPostgres.jl:679\n",
      "┌ Info: INSERT INTO testdummycomponentrevisions ( \"ref_component\", \"ref_validfrom\", \"ref_invalidfrom\", \"description\" ) VALUES ( E'1', E'5', E'9007199254740991', E'yellow' ) RETURNING id\n",
      "└ @ SearchLightPostgreSQL /home/codespace/.julia/packages/SearchLightPostgreSQL/8KdWH/src/SearchLightPostgreSQL.jl:135\n",
      "NOTICE:  NEW: (7,1,5,9007199254740991,,yellow)\n",
      "┌ Info: SELECT \"testdummycomponentrevisions\".\"id\" AS \"testdummycomponentrevisions_id\", \"testdummycomponentrevisions\".\"ref_component\" AS \"testdummycomponentrevisions_ref_component\", \"testdummycomponentrevisions\".\"ref_validfrom\" AS \"testdummycomponentrevisions_ref_validfrom\", \"testdummycomponentrevisions\".\"ref_invalidfrom\" AS \"testdummycomponentrevisions_ref_invalidfrom\", \"testdummycomponentrevisions\".\"description\" AS \"testdummycomponentrevisions_description\" FROM \"testdummycomponentrevisions\" WHERE \"id\" = 7 ORDER BY testdummycomponentrevisions.id ASC\n",
      "└ @ SearchLightPostgreSQL /home/codespace/.julia/packages/SearchLightPostgreSQL/8KdWH/src/SearchLightPostgreSQL.jl:135\n",
      "┌ Info: SELECT \"testdummysubcomponentrevisions\".\"id\" AS \"testdummysubcomponentrevisions_id\", \"testdummysubcomponentrevisions\".\"ref_component\" AS \"testdummysubcomponentrevisions_ref_component\", \"testdummysubcomponentrevisions\".\"ref_validfrom\" AS \"testdummysubcomponentrevisions_ref_validfrom\", \"testdummysubcomponentrevisions\".\"ref_invalidfrom\" AS \"testdummysubcomponentrevisions_ref_invalidfrom\", \"testdummysubcomponentrevisions\".\"description\" AS \"testdummysubcomponentrevisions_description\" FROM \"testdummysubcomponentrevisions\" WHERE ref_validfrom = E'3' and ref_invalidfrom=E'9007199254740991' ORDER BY testdummysubcomponentrevisions.id ASC\n",
      "└ @ SearchLightPostgreSQL /home/codespace/.julia/packages/SearchLightPostgreSQL/8KdWH/src/SearchLightPostgreSQL.jl:135\n",
      "┌ Info: SELECT \"testdummysubcomponentrevisions\".\"id\" AS \"testdummysubcomponentrevisions_id\", \"testdummysubcomponentrevisions\".\"ref_component\" AS \"testdummysubcomponentrevisions_ref_component\", \"testdummysubcomponentrevisions\".\"ref_validfrom\" AS \"testdummysubcomponentrevisions_ref_validfrom\", \"testdummysubcomponentrevisions\".\"ref_invalidfrom\" AS \"testdummysubcomponentrevisions_ref_invalidfrom\", \"testdummysubcomponentrevisions\".\"description\" AS \"testdummysubcomponentrevisions_description\" FROM \"testdummysubcomponentrevisions\" WHERE ref_validfrom < E'3' and ref_invalidfrom=E'3' ORDER BY testdummysubcomponentrevisions.id ASC\n",
      "└ @ SearchLightPostgreSQL /home/codespace/.julia/packages/SearchLightPostgreSQL/8KdWH/src/SearchLightPostgreSQL.jl:135\n",
      "┌ Info: COMMIT\n",
      "└ @ SearchLightPostgreSQL /home/codespace/.julia/packages/SearchLightPostgreSQL/8KdWH/src/SearchLightPostgreSQL.jl:135\n",
      "┌ Info: SELECT \"testdummycomponentrevisions\".\"id\" AS \"testdummycomponentrevisions_id\", \"testdummycomponentrevisions\".\"ref_component\" AS \"testdummycomponentrevisions_ref_component\", \"testdummycomponentrevisions\".\"ref_validfrom\" AS \"testdummycomponentrevisions_ref_validfrom\", \"testdummycomponentrevisions\".\"ref_invalidfrom\" AS \"testdummycomponentrevisions_ref_invalidfrom\", \"testdummycomponentrevisions\".\"description\" AS \"testdummycomponentrevisions_description\" FROM \"testdummycomponentrevisions\" WHERE ref_invalidfrom=E'5' ORDER BY testdummycomponentrevisions.id ASC\n",
      "└ @ SearchLightPostgreSQL /home/codespace/.julia/packages/SearchLightPostgreSQL/8KdWH/src/SearchLightPostgreSQL.jl:135\n"
     ]
    },
    {
     "name": "stdout",
     "output_type": "stream",
     "text": [
      "\u001b[0m\u001b[1mTest Summary:                                                   | \u001b[22m\u001b[32m\u001b[1mPass  \u001b[22m\u001b[39m\u001b[36m\u001b[1mTotal  \u001b[22m\u001b[39m\u001b[0m\u001b[1mTime\u001b[22m\n",
      "retrospective update entity red revive and invalidate shadowed  | \u001b[32m   2  \u001b[39m\u001b[36m    2  \u001b[39m\u001b[0m0.0s\n"
     ]
    },
    {
     "name": "stderr",
     "output_type": "stream",
     "text": [
      "┌ Info: SELECT \"testdummycomponentrevisions\".\"id\" AS \"testdummycomponentrevisions_id\", \"testdummycomponentrevisions\".\"ref_component\" AS \"testdummycomponentrevisions_ref_component\", \"testdummycomponentrevisions\".\"ref_validfrom\" AS \"testdummycomponentrevisions_ref_validfrom\", \"testdummycomponentrevisions\".\"ref_invalidfrom\" AS \"testdummycomponentrevisions_ref_invalidfrom\", \"testdummycomponentrevisions\".\"description\" AS \"testdummycomponentrevisions_description\" FROM \"testdummycomponentrevisions\" WHERE ref_validfrom=E'5' ORDER BY testdummycomponentrevisions.id ASC\n",
      "└ @ SearchLightPostgreSQL /home/codespace/.julia/packages/SearchLightPostgreSQL/8KdWH/src/SearchLightPostgreSQL.jl:135\n"
     ]
    },
    {
     "data": {
      "text/plain": [
       "Test.DefaultTestSet(\"retrospective update entity red revive and invalidate shadowed \", Any[], 2, false, false, true, 1.717492236753396e9, 1.717492236761658e9, false, \"/workspaces/BitemporalPostgres.jl/bitemporal_testcase.ipynb\")"
      ]
     },
     "metadata": {},
     "output_type": "display_data"
    }
   ],
   "source": [
    "update_entity!(w3redshadow)\n",
    "@testset \"retrospective update entity red revive and invalidate shadowed \" begin\n",
    "    # have currently shadowed revisions been invalidated?\n",
    "    @test !isempty(find(TestDummyComponentRevision, SQLWhereExpression(\"ref_invalidfrom=?\", w3redshadow.ref_version)))\n",
    "    # have revisions invalidated by shadowed versions been revived?\n",
    "    @test !isempty(find(TestDummyComponentRevision, SQLWhereExpression(\"ref_validfrom=?\", w3redshadow.ref_version)))\n",
    "end\n"
   ]
  },
  {
   "cell_type": "markdown",
   "metadata": {},
   "source": [
    "#### 2.3.2.2 Does rolling back the transaction delete the preliminary revisions? "
   ]
  },
  {
   "cell_type": "code",
   "execution_count": 22,
   "metadata": {},
   "outputs": [
    {
     "name": "stderr",
     "output_type": "stream",
     "text": [
      "┌ Info: BEGIN\n",
      "└ @ SearchLightPostgreSQL /home/codespace/.julia/packages/SearchLightPostgreSQL/8KdWH/src/SearchLightPostgreSQL.jl:135\n",
      "┌ Info: SELECT \"versions\".\"id\" AS \"versions_id\", \"versions\".\"ref_history\" AS \"versions_ref_history\" FROM \"versions\" WHERE id=E'5' ORDER BY versions.id ASC\n",
      "└ @ SearchLightPostgreSQL /home/codespace/.julia/packages/SearchLightPostgreSQL/8KdWH/src/SearchLightPostgreSQL.jl:135\n",
      "┌ Info: DELETE FROM versions WHERE id = '5'\n",
      "└ @ SearchLightPostgreSQL /home/codespace/.julia/packages/SearchLightPostgreSQL/8KdWH/src/SearchLightPostgreSQL.jl:135\n",
      "NOTICE:  NEW: (4,1,3,9007199254740991,\"[3,5)\",red)\n",
      "┌ Info: COMMIT\n",
      "└ @ SearchLightPostgreSQL /home/codespace/.julia/packages/SearchLightPostgreSQL/8KdWH/src/SearchLightPostgreSQL.jl:135\n"
     ]
    },
    {
     "name": "stdout",
     "output_type": "stream",
     "text": [
      "\u001b[0m\u001b[1mTest Summary:                                                   | \u001b[22m\u001b[32m\u001b[1mPass  \u001b[22m\u001b[39m\u001b[36m\u001b[1mTotal  \u001b[22m\u001b[39m\u001b[0m\u001b[1mTime\u001b[22m\n",
      "retrospective update entity red revive and invalidate shadowed  | \u001b[32m   2  \u001b[39m\u001b[36m    2  \u001b[39m\u001b[0m0.0s\n"
     ]
    },
    {
     "name": "stderr",
     "output_type": "stream",
     "text": [
      "┌ Info: SELECT \"testdummycomponentrevisions\".\"id\" AS \"testdummycomponentrevisions_id\", \"testdummycomponentrevisions\".\"ref_component\" AS \"testdummycomponentrevisions_ref_component\", \"testdummycomponentrevisions\".\"ref_validfrom\" AS \"testdummycomponentrevisions_ref_validfrom\", \"testdummycomponentrevisions\".\"ref_invalidfrom\" AS \"testdummycomponentrevisions_ref_invalidfrom\", \"testdummycomponentrevisions\".\"description\" AS \"testdummycomponentrevisions_description\" FROM \"testdummycomponentrevisions\" WHERE ref_invalidfrom=E'5' ORDER BY testdummycomponentrevisions.id ASC\n",
      "└ @ SearchLightPostgreSQL /home/codespace/.julia/packages/SearchLightPostgreSQL/8KdWH/src/SearchLightPostgreSQL.jl:135\n",
      "┌ Info: SELECT \"testdummycomponentrevisions\".\"id\" AS \"testdummycomponentrevisions_id\", \"testdummycomponentrevisions\".\"ref_component\" AS \"testdummycomponentrevisions_ref_component\", \"testdummycomponentrevisions\".\"ref_validfrom\" AS \"testdummycomponentrevisions_ref_validfrom\", \"testdummycomponentrevisions\".\"ref_invalidfrom\" AS \"testdummycomponentrevisions_ref_invalidfrom\", \"testdummycomponentrevisions\".\"description\" AS \"testdummycomponentrevisions_description\" FROM \"testdummycomponentrevisions\" WHERE ref_validfrom=E'5' ORDER BY testdummycomponentrevisions.id ASC\n",
      "└ @ SearchLightPostgreSQL /home/codespace/.julia/packages/SearchLightPostgreSQL/8KdWH/src/SearchLightPostgreSQL.jl:135\n"
     ]
    },
    {
     "data": {
      "text/plain": [
       "Test.DefaultTestSet(\"retrospective update entity red revive and invalidate shadowed \", Any[], 2, false, false, true, 1.717492236778211e9, 1.717492236779186e9, false, \"/workspaces/BitemporalPostgres.jl/bitemporal_testcase.ipynb\")"
      ]
     },
     "metadata": {},
     "output_type": "display_data"
    }
   ],
   "source": [
    " \n",
    "rollback_workflow!(w3redshadow)\n",
    "@testset \"retrospective update entity red revive and invalidate shadowed \" begin\n",
    "    # have currently shadowed revisions been invalidated?\n",
    "    @test isempty(find(TestDummyComponentRevision, SQLWhereExpression(\"ref_invalidfrom=?\", w3redshadow.ref_version)))\n",
    "    # have revisions invalidated by shadowed versions been revived?\n",
    "    @test isempty(find(TestDummyComponentRevision, SQLWhereExpression(\"ref_validfrom=?\", w3redshadow.ref_version)))\n",
    "end\n"
   ]
  }
 ],
 "metadata": {
  "kernelspec": {
   "display_name": "Julia 1.10.3",
   "language": "julia",
   "name": "julia-1.10"
  },
  "language_info": {
   "file_extension": ".jl",
   "mimetype": "application/julia",
   "name": "julia",
   "version": "1.10.3"
  }
 },
 "nbformat": 4,
 "nbformat_minor": 4
}
