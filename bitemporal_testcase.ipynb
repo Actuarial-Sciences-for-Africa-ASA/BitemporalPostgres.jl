{
 "cells": [
  {
   "cell_type": "markdown",
   "metadata": {},
   "source": [
    "\n",
    "# content\n",
    "1. Introduction\n",
    "2. connecting to POSTGRES\n",
    "3. creating the db schema\n",
    "4. testing bitemporal crud\n"
   ]
  },
  {
   "cell_type": "markdown",
   "metadata": {},
   "source": [
    "## 1. Introduction\n",
    "\n",
    "If You start this repo in gitpod, You can open this notebook in vscode and execute the code with julia and postgres up and running\n",
    "https://www.gitpod.io/docs/\n",
    "\n",
    "### 1.1. connecting to POSTGRES"
   ]
  },
  {
   "cell_type": "code",
   "execution_count": null,
   "metadata": {},
   "outputs": [],
   "source": [
    "include(\"init.jl\")\n"
   ]
  },
  {
   "cell_type": "code",
   "execution_count": null,
   "metadata": {},
   "outputs": [],
   "source": [
    "using SearchLight\n",
    "using SearchLightPostgreSQL\n",
    "ENV[\"GENIE_ENV\"] = \"dev\"\n",
    "run(`psql -f sqlsnippets/droptables.sql`)\n",
    "SearchLight.Configuration.load() |> SearchLight.connect\n",
    "SearchLight.Migrations.create_migrations_table()\n",
    "SearchLight.Migrations.up()"
   ]
  },
  {
   "cell_type": "markdown",
   "metadata": {},
   "source": [
    "# 2 Starting with workflows\n",
    "\n",
    "## 2.1 Start workflow 1 (the blue rectangle :=) )\n",
    "inserting component 1 and subcomponent 1.1"
   ]
  },
  {
   "cell_type": "code",
   "execution_count": null,
   "metadata": {},
   "outputs": [],
   "source": [
    "using Dates, Test, TimeZones\n",
    "import BitemporalPostgres\n",
    "using BitemporalPostgres\n",
    "\n",
    "w1 = Workflow()\n",
    "w1.tsw_validfrom = ZonedDateTime(2014, 5, 30, 21, 0, 1, 1, tz\"Africa/Porto-Novo\")\n",
    "\n",
    "t = TestDummyComponent()\n",
    "tr = TestDummyComponentRevision(description = \"blue\")\n",
    "ts = TestDummySubComponent(ref_super = t.id)\n",
    "tsr = TestDummySubComponentRevision(description = \"green\")\n",
    "create_entity!(w1)\n",
    "create_component!(t, tr, w1)\n",
    "println(tr)\n",
    "create_subcomponent!(t, ts, tsr, w1)\n",
    "w1.ref_history != Nothing\n",
    "@test w1.is_committed == 0\n",
    "@test w1.ref_version == tr.ref_validfrom\n",
    "@test w1.ref_version == tsr.ref_validfrom"
   ]
  },
  {
   "cell_type": "markdown",
   "metadata": {},
   "source": [
    "## 2.2 Commiting workflow 1"
   ]
  },
  {
   "cell_type": "code",
   "execution_count": null,
   "metadata": {},
   "outputs": [],
   "source": [
    "commit_workflow!(w1)\n",
    "@test w1.is_committed == 1"
   ]
  },
  {
   "cell_type": "markdown",
   "metadata": {},
   "source": [
    "## Starting workflow 2 ( the yellow rectangle that shortens the blue one)\n",
    "mutating component 1"
   ]
  },
  {
   "cell_type": "code",
   "execution_count": null,
   "metadata": {},
   "outputs": [],
   "source": [
    "w2 = Workflow(\n",
    "    ref_history = w1.ref_history,\n",
    "    tsw_validfrom = ZonedDateTime(2015, 5, 30, 21, 0, 1, 1, tz\"Africa/Porto-Novo\"),\n",
    ")\n",
    "tr2 = copy(tr)\n",
    "tr2.description = \"yellow\"\n",
    "update_entity!(w2)\n",
    "update_component!(tr, tr2, w2)\n",
    "println(tr2)\n",
    "@test w2.ref_version == tr2.ref_validfrom\n",
    "@test w2.ref_version == tr.ref_invalidfrom"
   ]
  },
  {
   "cell_type": "markdown",
   "metadata": {},
   "source": [
    "## 2.3 Committing workflow 2"
   ]
  },
  {
   "cell_type": "code",
   "execution_count": null,
   "metadata": {},
   "outputs": [],
   "source": [
    "commit_workflow!(w2)\n",
    "@test w2.is_committed == 1"
   ]
  },
  {
   "cell_type": "markdown",
   "metadata": {},
   "source": [
    "## 2.4 Starting workflow 3 (the red rectancle that shadows the yellow one)\n",
    "Mutating component 1"
   ]
  },
  {
   "cell_type": "code",
   "execution_count": null,
   "metadata": {},
   "outputs": [],
   "source": [
    "w3 = Workflow(\n",
    "    ref_history = w1.ref_history,\n",
    "    tsw_validfrom = ZonedDateTime(2014, 11, 30, 21, 0, 1, 1, tz\"Africa/Porto-Novo\"),\n",
    ")\n",
    "tr3 = copy(tr2)\n",
    "tr3.description = \"red\"\n",
    "update_entity!(w3)\n",
    "update_component!(tr2, tr3, w3)\n",
    "println(tr3)\n",
    "@test w3.ref_version == tr3.ref_bvalidfrom\n",
    "@test w3.ref_version == tr2.ref_invalidfrom"
   ]
  },
  {
   "cell_type": "markdown",
   "metadata": {},
   "source": [
    "## 2.5 Committing workflow 3"
   ]
  },
  {
   "cell_type": "code",
   "execution_count": null,
   "metadata": {},
   "outputs": [],
   "source": [
    "commit_workflow!(w3)\n",
    "@test w3.is_committed == 1"
   ]
  },
  {
   "cell_type": "markdown",
   "metadata": {},
   "source": [
    "# 3 Testing \n",
    "For each workflow \n",
    "* as of its intervals valid from points\n",
    "* as of its intervals db valid from and 1 second before its world validfrom"
   ]
  },
  {
   "cell_type": "code",
   "execution_count": null,
   "metadata": {},
   "outputs": [],
   "source": [
    "v1 = findversion(w1.ref_history, w1.tsdb_validfrom, w1.tsw_validfrom)\n",
    "\n",
    "@test findcomponentrevision(TestDummyComponentRevision, t.id, v1)[1].description == \"blue\"\n",
    "\n",
    "v2 = findversion(w2.ref_history, w2.tsdb_validfrom, w2.tsw_validfrom)\n",
    "\n",
    "@test findcomponentrevision(TestDummyComponentRevision, t.id, v2)[1].description == \"yellow\"\n",
    "\n",
    "v2a = findversion(w2.ref_history, w2.tsdb_validfrom, w2.tsw_validfrom - Dates.Second(1))\n",
    "\n",
    "@test findcomponentrevision(TestDummyComponentRevision, t.id, v2a)[1].description == \"blue\"\n",
    "\n",
    "v3 = findversion(w3.ref_history, w3.tsdb_validfrom, w3.tsw_validfrom)\n",
    "\n",
    "@test findcomponentrevision(TestDummyComponentRevision, t.id, v3)[1].description == \"red\"\n",
    "\n",
    "v3a = findversion(w3.ref_history, w3.tsdb_validfrom, w3.tsw_validfrom - Dates.Second(1))\n",
    "\n",
    "@test findcomponentrevision(TestDummyComponentRevision, t.id, v3a)[1].description == \"blue\"\n"
   ]
  },
  {
   "cell_type": "code",
   "execution_count": null,
   "metadata": {},
   "outputs": [],
   "source": [
    "v1 = findversion(w1.ref_history, w1.tsdb_validfrom, w1.tsw_validfrom)\n",
    "r1=findcomponentrevision(TestDummySubComponentRevision, ts.id, v1)\n",
    "println(v1)\n",
    "\n",
    "println(r1)"
   ]
  },
  {
   "cell_type": "code",
   "execution_count": null,
   "metadata": {},
   "outputs": [],
   "source": [
    "@testset \"reading tests\" begin\n",
    "    v1 = findversion(w1.ref_history, w1.tsdb_validfrom, w1.tsw_validfrom)\n",
    "    \n",
    "    @test findcomponentrevision(TestDummyComponentRevision, t.id, v1)[1].description == \"blue\"\n",
    "    @test findcomponentrevision(TestDummySubComponentRevision, ts.id, v1)[1].description == \"green\"\n",
    "    \n",
    "    v2 = findversion(w2.ref_history, w2.tsdb_validfrom, w2.tsw_validfrom)\n",
    "    \n",
    "    @test findcomponentrevision(TestDummyComponentRevision, t.id, v2)[1].description == \"yellow\"\n",
    "    @test findcomponentrevision(TestDummySubComponentRevision, ts.id, v2)[1].description == \"green\"\n",
    "    \n",
    "    v2a = findversion(w2.ref_history, w2.tsdb_validfrom, w2.tsw_validfrom - Dates.Second(1))\n",
    "    \n",
    "    @test findcomponentrevision(TestDummyComponentRevision, t.id, v2a)[1].description == \"blue\"\n",
    "    @test findcomponentrevision(TestDummySubComponentRevision, ts.id, v2a)[1].description == \"green\"\n",
    "    \n",
    "    \n",
    "    v3 = findversion(w3.ref_history, w3.tsdb_validfrom, w3.tsw_validfrom)\n",
    "    \n",
    "    @test findcomponentrevision(TestDummyComponentRevision, t.id, v3)[1].description == \"red\"\n",
    "    @test findcomponentrevision(TestDummySubComponentRevision, ts.id, v3)[1].description == \"green\"\n",
    "    \n",
    "    v3a = findversion(w3.ref_history, w3.tsdb_validfrom, w3.tsw_validfrom - Dates.Second(1))\n",
    "    \n",
    "    @test findcomponentrevision(TestDummyComponentRevision, t.id, v3a)[1].description == \"blue\"\n",
    "    @test findcomponentrevision(TestDummySubComponentRevision, ts.id, v3a)[1].description == \"green\"\n",
    "    \n",
    "    end"
   ]
  },
  {
   "cell_type": "markdown",
   "metadata": {},
   "source": [
    "Testing pending transactions and rollback"
   ]
  },
  {
   "cell_type": "code",
   "execution_count": null,
   "metadata": {},
   "outputs": [],
   "source": [
    "w4 = Workflow(\n",
    "    ref_history = w1.ref_history,\n",
    "    tsw_validfrom = ZonedDateTime(2017, 11, 30, 21, 0, 1, 1, tz\"Africa/Porto-Novo\"),\n",
    ")\n",
    "tr4 = copy(tr3)\n",
    "tr4.description = \"green\"\n",
    "t1=TestDummyComponent()\n",
    "tr5=TestDummyComponentRevision(description=\"pink\")\n",
    "\n",
    "# @test tr3.ref_invalidfrom==maxVersion\n",
    "\n",
    "update_entity!(w4)\n",
    "update_component!(tr3, tr4, w4)\n",
    "println(tr4)\n",
    "create_component!(t1, tr5, w4)\n",
    "println(tr5)"
   ]
  },
  {
   "cell_type": "code",
   "execution_count": null,
   "metadata": {},
   "outputs": [],
   "source": [
    "@testset \"pending transaction tests\" begin\n",
    "    v4=find(Version,SQLWhereExpression(\"id=?\", w4.ref_version))[1].id\n",
    "    @test findcomponentrevision(TestDummyComponentRevision, t.id, v4)[1].description == \"green\"\n",
    "    @test findcomponentrevision(TestDummyComponentRevision, t1.id, v4)[1].description == \"pink\"\n",
    "    @test w4.ref_version == tr3.ref_invalidfrom\n",
    "    @test w4.ref_version == tr4.ref_validfrom\n",
    "    @test maxVersion == tr4.ref_invalidfrom\n",
    "    @test w4.ref_version == tr5.ref_validfrom\n",
    "end\n",
    "println(tr4)\n",
    "println(tr3)\n"
   ]
  },
  {
   "cell_type": "code",
   "execution_count": null,
   "metadata": {},
   "outputs": [],
   "source": [
    "b\n"
   ]
  }
 ],
 "metadata": {
  "kernelspec": {
   "display_name": "Julia 1.7.1",
   "language": "julia",
   "name": "julia-1.7"
  },
  "language_info": {
   "file_extension": ".jl",
   "mimetype": "application/julia",
   "name": "julia",
   "version": "1.7.1"
  }
 },
 "nbformat": 4,
 "nbformat_minor": 4
}
