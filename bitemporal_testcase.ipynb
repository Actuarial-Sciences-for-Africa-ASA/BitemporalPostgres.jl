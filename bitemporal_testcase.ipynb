{
 "cells": [
  {
   "cell_type": "markdown",
   "metadata": {},
   "source": [
    "\n",
    "# content\n",
    "1. Introduction\n",
    "2. connecting to POSTGRES\n",
    "3. creating the db schema\n",
    "4. testing bitemporal crud\n"
   ]
  },
  {
   "cell_type": "markdown",
   "metadata": {},
   "source": [
    "## 1. Introduction\n",
    "\n",
    "If You start this repo in gitpod, You can open this notebook in vscode and execute the code with julia and postgres up and running\n",
    "https://www.gitpod.io/docs/\n",
    "\n",
    "### 1.1. connecting to POSTGRES"
   ]
  },
  {
   "cell_type": "code",
   "execution_count": null,
   "metadata": {},
   "outputs": [],
   "source": [
    "include(\"init.jl\")\n"
   ]
  },
  {
   "cell_type": "code",
   "execution_count": null,
   "metadata": {},
   "outputs": [],
   "source": [
    "using SearchLight\n",
    "using SearchLightPostgreSQL\n",
    "# run(`psql -f sqlsnippets/droptables.sql`)\n",
    "ENV[\"SEARCHLIGHT_PASSWORD\"] = \"jw8s0F49KL\"\n",
    "ENV[\"SEARCHLIGHT_USERNAME\"] = \"bitemporalpostgres\"\n",
    "SearchLight.connect(SearchLight.Configuration.load())\n",
    "SearchLight.Migrations.create_migrations_table()\n",
    "BitemporalPostgres.up()"
   ]
  },
  {
   "cell_type": "markdown",
   "metadata": {},
   "source": [
    "# 2 Starting with workflows\n",
    "\n",
    "## 2.1 Workflow 1 (the blue rectangle :=) )\n",
    "\n",
    "### 2.1.1 Starting workflow 1\n",
    "inserting component 1 and subcomponent 1.1"
   ]
  },
  {
   "cell_type": "code",
   "execution_count": null,
   "metadata": {},
   "outputs": [],
   "source": [
    "using Dates, Test, TimeZones\n",
    "import BitemporalPostgres\n",
    "using BitemporalPostgres\n",
    "\n",
    "w1blue = Workflow(type_of_entity=\"TestDummyComponent\",\n",
    "    tsw_validfrom=ZonedDateTime(2014, 5, 30, 21, 0, 1, 1, tz\"UTC\"))\n",
    "\n",
    "t1 = TestDummyComponent()\n",
    "t1r1blue = TestDummyComponentRevision(description=\"blue\")\n",
    "ts = TestDummySubComponent(ref_super=t1.id)\n",
    "ts1r1green = TestDummySubComponentRevision(description=\"green\")\n",
    "create_entity!(w1blue)\n",
    "create_component!(t1, t1r1blue, w1blue)\n",
    "println(t1r1blue)\n",
    "create_subcomponent!(t1, ts, ts1r1green, w1blue)\n",
    "@test !isnothing(w1blue.ref_history)\n",
    "@test w1blue.is_committed == 0\n",
    "@test w1blue.ref_version == t1r1blue.ref_validfrom\n",
    "@test w1blue.ref_version == ts1r1green.ref_validfrom"
   ]
  },
  {
   "cell_type": "markdown",
   "metadata": {},
   "source": [
    "### 2.1.2 Commiting workflow 1"
   ]
  },
  {
   "cell_type": "code",
   "execution_count": null,
   "metadata": {},
   "outputs": [],
   "source": [
    "commit_workflow!(w1blue)\n",
    "@test w1blue.is_committed == 1"
   ]
  },
  {
   "cell_type": "markdown",
   "metadata": {},
   "source": [
    "## 2.2 Workflow 2 ( the yellow rectangle that shortens the blue one)\n",
    "### 2.2.1  Starting workflow 2 \n",
    "mutating component 1"
   ]
  },
  {
   "cell_type": "code",
   "execution_count": null,
   "metadata": {},
   "outputs": [],
   "source": [
    "w2yellow = Workflow(type_of_entity=\"TestDummyComponent\",\n",
    "    ref_history=w1blue.ref_history,\n",
    "    tsw_validfrom=ZonedDateTime(2015, 5, 30, 21, 0, 1, 1, tz\"UTC\"),\n",
    ")\n",
    "t1r2yellow = copy(t1r1blue)\n",
    "t1r2yellow.description = \"yellow\"\n",
    "update_entity!(w2yellow)\n",
    "update_component!(t1r1blue, t1r2yellow, w2yellow)\n",
    "println(t1r2yellow)\n",
    "@test w2yellow.ref_version == t1r2yellow.ref_validfrom\n",
    "@test w2yellow.ref_version == t1r1blue.ref_invalidfrom"
   ]
  },
  {
   "cell_type": "markdown",
   "metadata": {},
   "source": [
    "### 2.2.2 Committing workflow 2"
   ]
  },
  {
   "cell_type": "code",
   "execution_count": null,
   "metadata": {},
   "outputs": [],
   "source": [
    "commit_workflow!(w2yellow)\n",
    "@test w2yellow.is_committed == 1"
   ]
  },
  {
   "cell_type": "markdown",
   "metadata": {},
   "source": [
    "## 2.3 workflow 3 (the red rectancle that shadows the yellow one)\n",
    "### 2.3.1 Starting workflow 3"
   ]
  },
  {
   "cell_type": "code",
   "execution_count": null,
   "metadata": {},
   "outputs": [],
   "source": [
    "w3redshadow = Workflow(type_of_entity=\"TestDummyComponent\",\n",
    "    ref_history = w1blue.ref_history,\n",
    "    tsw_validfrom = ZonedDateTime(2014, 11, 30, 21, 0, 1, 1, tz\"UTC\"),\n",
    ")"
   ]
  },
  {
   "cell_type": "code",
   "execution_count": null,
   "metadata": {},
   "outputs": [],
   "source": [
    "update_entity!(w3redshadow)\n",
    "t1r1blue = findcomponentrevision(TestDummyComponentRevision, t1.id, w3redshadow.ref_version)[1]\n",
    "t1r3red = copy(t1r1blue)\n",
    "t1r3red.description = \"red\"\n",
    "t1r3red"
   ]
  },
  {
   "cell_type": "code",
   "execution_count": null,
   "metadata": {},
   "outputs": [],
   "source": [
    "update_component!(t1r1blue, t1r3red, w3redshadow)\n",
    "@test w3redshadow.ref_version == t1r3red.ref_validfrom\n"
   ]
  },
  {
   "cell_type": "markdown",
   "metadata": {},
   "source": [
    "### 2.3.4 Committing workflow 3"
   ]
  },
  {
   "cell_type": "code",
   "execution_count": null,
   "metadata": {},
   "outputs": [],
   "source": [
    "commit_workflow!(w3redshadow)\n",
    "@test w3redshadow.is_committed == 1"
   ]
  },
  {
   "cell_type": "markdown",
   "metadata": {},
   "source": [
    "# 3 Testing \n",
    "For each workflow \n",
    "* as of its intervals valid from points\n",
    "* as of its intervals db valid from and 1 second before its world validfrom"
   ]
  },
  {
   "cell_type": "code",
   "execution_count": null,
   "metadata": {},
   "outputs": [],
   "source": [
    "v1 = findversion(w1blue.ref_history, w1blue.tsdb_validfrom, w1blue.tsw_validfrom)\n",
    "\n",
    "@test findcomponentrevision(TestDummyComponentRevision, t1.id, v1)[1].description == \"blue\"\n",
    "\n",
    "v2 = findversion(w2yellow.ref_history, w2yellow.tsdb_validfrom, w2yellow.tsw_validfrom)\n",
    "\n",
    "@test findcomponentrevision(TestDummyComponentRevision, t1.id, v2)[1].description == \"yellow\"\n",
    "\n",
    "v2a = findversion(w2yellow.ref_history, w2yellow.tsdb_validfrom, w2yellow.tsw_validfrom - Dates.Second(1))\n",
    "\n",
    "@test findcomponentrevision(TestDummyComponentRevision, t1.id, v2a)[1].description == \"blue\"\n",
    "\n",
    "v3 = findversion(w3redshadow.ref_history, w3redshadow.tsdb_validfrom, w3redshadow.tsw_validfrom)\n",
    "\n",
    "@test findcomponentrevision(TestDummyComponentRevision, t1.id, v3)[1].description == \"red\"\n",
    "\n",
    "v3a = findversion(w3redshadow.ref_history, w3redshadow.tsdb_validfrom, w3redshadow.tsw_validfrom - Dates.Second(1))\n",
    "\n",
    "@test findcomponentrevision(TestDummyComponentRevision, t1.id, v3a)[1].description == \"blue\"\n"
   ]
  },
  {
   "cell_type": "code",
   "execution_count": null,
   "metadata": {},
   "outputs": [],
   "source": [
    "v1 = findversion(w1blue.ref_history, w1blue.tsdb_validfrom, w1blue.tsw_validfrom)\n",
    "r1=findcomponentrevision(TestDummySubComponentRevision, ts.id, v1)\n",
    "println(v1)\n",
    "\n",
    "println(r1)"
   ]
  },
  {
   "cell_type": "code",
   "execution_count": null,
   "metadata": {},
   "outputs": [],
   "source": [
    "@testset \"reading tests\" begin\n",
    "    v1 = findversion(w1blue.ref_history, w1blue.tsdb_validfrom, w1blue.tsw_validfrom)\n",
    "    \n",
    "    @test findcomponentrevision(TestDummyComponentRevision, t1.id, v1)[1].description == \"blue\"\n",
    "    @test findcomponentrevision(TestDummySubComponentRevision, ts.id, v1)[1].description == \"green\"\n",
    "    \n",
    "    v2 = findversion(w2yellow.ref_history, w2yellow.tsdb_validfrom, w2yellow.tsw_validfrom)\n",
    "    \n",
    "    @test findcomponentrevision(TestDummyComponentRevision, t1.id, v2)[1].description == \"yellow\"\n",
    "    @test findcomponentrevision(TestDummySubComponentRevision, ts.id, v2)[1].description == \"green\"\n",
    "    \n",
    "    v2a = findversion(w2yellow.ref_history, w2yellow.tsdb_validfrom, w2yellow.tsw_validfrom - Dates.Second(1))\n",
    "    \n",
    "    @test findcomponentrevision(TestDummyComponentRevision, t1.id, v2a)[1].description == \"blue\"\n",
    "    @test findcomponentrevision(TestDummySubComponentRevision, ts.id, v2a)[1].description == \"green\"\n",
    "    \n",
    "    \n",
    "    v3 = findversion(w3redshadow.ref_history, w3redshadow.tsdb_validfrom, w3redshadow.tsw_validfrom)\n",
    "    \n",
    "    @test findcomponentrevision(TestDummyComponentRevision, t1.id, v3)[1].description == \"red\"\n",
    "    @test findcomponentrevision(TestDummySubComponentRevision, ts.id, v3)[1].description == \"green\"\n",
    "    \n",
    "    v3a = findversion(w3redshadow.ref_history, w3redshadow.tsdb_validfrom, w3redshadow.tsw_validfrom - Dates.Second(1))\n",
    "    \n",
    "    @test findcomponentrevision(TestDummyComponentRevision, t1.id, v3a)[1].description == \"blue\"\n",
    "    @test findcomponentrevision(TestDummySubComponentRevision, ts.id, v3a)[1].description == \"green\"\n",
    "    \n",
    "    end"
   ]
  },
  {
   "cell_type": "markdown",
   "metadata": {},
   "source": [
    "Testing pending transactions and rollback"
   ]
  },
  {
   "cell_type": "code",
   "execution_count": null,
   "metadata": {},
   "outputs": [],
   "source": [
    "w4PendingRollback = Workflow(type_of_entity=\"TestDummyComponent\",\n",
    "    ref_history=w1blue.ref_history,\n",
    "    tsdb_validfrom=now(tz\"UTC\"),\n",
    "    tsw_validfrom=ZonedDateTime(2017, 11, 30, 21, 0, 1, 1, tz\"UTC\"),\n",
    ")\n",
    "update_entity!(w4PendingRollback)\n",
    "\n",
    "t1r3red = findcomponentrevision(TestDummyComponentRevision, t1.id, w4PendingRollback.ref_version)[1]\n",
    "t1r4green = copy(t1r3red)\n",
    "t1r4green.description = \"green\"\n",
    "\n",
    "t2 = TestDummyComponent()\n",
    "t2r1pink = TestDummyComponentRevision(description=\"pink\")\n",
    "\n",
    "@test t1r3red.ref_invalidfrom == MaxVersion\n",
    "update_component!(t1r3red, t1r4green, w4PendingRollback)\n",
    "create_component!(t2, t2r1pink, w4PendingRollback)\n"
   ]
  },
  {
   "cell_type": "code",
   "execution_count": null,
   "metadata": {},
   "outputs": [],
   "source": [
    "@testset \"pending transaction tests\" begin\n",
    "    @test findcomponentrevision(TestDummyComponentRevision, t1.id, w4PendingRollback.ref_version)[1].description == \"green\"\n",
    "    @test findcomponentrevision(TestDummyComponentRevision, t2.id, w4PendingRollback.ref_version)[1].description == \"pink\"\n",
    "    @test w4PendingRollback.ref_version == t1r3red.ref_invalidfrom\n",
    "    @test w4PendingRollback.ref_version == t1r4green.ref_validfrom\n",
    "    @test MaxVersion == t1r4green.ref_invalidfrom\n",
    "    @test w4PendingRollback.ref_version == t2r1pink.ref_validfrom\n",
    "end\n"
   ]
  },
  {
   "cell_type": "code",
   "execution_count": null,
   "metadata": {},
   "outputs": [],
   "source": [
    "@testset \"rollbacked transaction tests\" begin\n",
    "    rollback_workflow!(w4PendingRollback)\n",
    "    @test !isempty(findcomponentrevision(TestDummyComponentRevision, t1.id, w4PendingRollback.ref_version))\n",
    "    w4PendingRollback.ref_version == t1r3red.ref_invalidfrom\n",
    "    w4PendingRollback.ref_version == t1r4green.ref_validfrom\n",
    "end"
   ]
  },
  {
   "cell_type": "code",
   "execution_count": null,
   "metadata": {},
   "outputs": [],
   "source": [
    "w3redshadow = Workflow(type_of_entity=\"TestDummyComponent\",\n",
    "    ref_history = w1blue.ref_history,\n",
    "    tsw_validfrom = ZonedDateTime(2014, 11, 30, 21, 0, 1, 1, tz\"UTC\"),\n",
    ")"
   ]
  },
  {
   "cell_type": "markdown",
   "metadata": {},
   "source": [
    "### 2.3.2 Testing retrospective transactions\n",
    "#### 2.3.2.1 preparing the retrospective transaction by \n",
    "* preliminarily invalidating all insertions and mutations from shadowed versions and \n",
    "* reviving all revisions invalidated by shadowed versions"
   ]
  },
  {
   "cell_type": "code",
   "execution_count": null,
   "metadata": {},
   "outputs": [],
   "source": [
    "update_entity!(w3redshadow)\n",
    "@testset \"retrospective update entity red revive and invalidate shadowed \" begin\n",
    "    # have currently shadowed revisions been invalidated?\n",
    "    @test !isempty(find(TestDummyComponentRevision, SQLWhereExpression(\"ref_invalidfrom=?\", w3redshadow.ref_version)))\n",
    "    # have revisions invalidated by shadowed versions been revived?\n",
    "    @test !isempty(find(TestDummyComponentRevision, SQLWhereExpression(\"ref_validfrom=?\", w3redshadow.ref_version)))\n",
    "end\n"
   ]
  },
  {
   "cell_type": "markdown",
   "metadata": {},
   "source": [
    "#### 2.3.2.2 Does rolling back the transaction delete the preliminary revisions? "
   ]
  },
  {
   "cell_type": "code",
   "execution_count": null,
   "metadata": {},
   "outputs": [],
   "source": [
    " \n",
    "rollback_workflow!(w3redshadow)\n",
    "@testset \"retrospective update entity red revive and invalidate shadowed \" begin\n",
    "    # have currently shadowed revisions been invalidated?\n",
    "    @test isempty(find(TestDummyComponentRevision, SQLWhereExpression(\"ref_invalidfrom=?\", w3redshadow.ref_version)))\n",
    "    # have revisions invalidated by shadowed versions been revived?\n",
    "    @test isempty(find(TestDummyComponentRevision, SQLWhereExpression(\"ref_validfrom=?\", w3redshadow.ref_version)))\n",
    "end\n"
   ]
  }
 ],
 "metadata": {
  "kernelspec": {
   "display_name": "Julia 1.8.2",
   "language": "julia",
   "name": "julia-1.8"
  },
  "language_info": {
   "file_extension": ".jl",
   "mimetype": "application/julia",
   "name": "julia",
   "version": "1.8.2"
  }
 },
 "nbformat": 4,
 "nbformat_minor": 4
}
